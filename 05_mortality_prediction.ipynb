{
 "cells": [
  {
   "cell_type": "markdown",
   "metadata": {
    "colab_type": "text",
    "id": "view-in-github"
   },
   "source": [
    "<a href=\"https://colab.research.google.com/github/MIT-LCP/bidmc-datathon/blob/master/05_mortality_prediction.ipynb\" target=\"_parent\"><img src=\"https://colab.research.google.com/assets/colab-badge.svg\" alt=\"Open In Colab\"/></a>"
   ]
  },
  {
   "cell_type": "markdown",
   "metadata": {
    "colab_type": "text",
    "id": "T3wdKZCPklNq"
   },
   "source": [
    "# eICU Collaborative Research Database\n",
    "\n",
    "# Notebook 5: Mortality prediction\n",
    "\n",
    "This notebook explores how a logistic regression can be trained to predict in-hospital mortality of patients.\n"
   ]
  },
  {
   "cell_type": "markdown",
   "metadata": {
    "colab_type": "text",
    "id": "rG3HrM7GkwCH"
   },
   "source": [
    "## Load libraries and connect to the database"
   ]
  },
  {
   "cell_type": "code",
   "execution_count": 0,
   "metadata": {
    "colab": {},
    "colab_type": "code",
    "id": "s-MoFA6NkkbZ"
   },
   "outputs": [],
   "source": [
    "# Import libraries\n",
    "import numpy as np\n",
    "import os\n",
    "import pandas as pd\n",
    "import matplotlib.pyplot as plt\n",
    "\n",
    "# model building\n",
    "from sklearn.model_selection import train_test_split\n",
    "from sklearn.linear_model import LogisticRegression\n",
    "from sklearn.pipeline import Pipeline\n",
    "from sklearn import preprocessing\n",
    "from sklearn import metrics\n",
    "from sklearn import impute\n",
    "\n",
    "# Make pandas dataframes prettier\n",
    "from IPython.display import display, HTML\n",
    "\n",
    "# Access data using Google BigQuery.\n",
    "from google.colab import auth\n",
    "from google.cloud import bigquery"
   ]
  },
  {
   "cell_type": "code",
   "execution_count": 0,
   "metadata": {
    "colab": {},
    "colab_type": "code",
    "id": "jyBV_Q9DkyD3"
   },
   "outputs": [],
   "source": [
    "# authenticate\n",
    "auth.authenticate_user()"
   ]
  },
  {
   "cell_type": "code",
   "execution_count": 0,
   "metadata": {
    "colab": {},
    "colab_type": "code",
    "id": "cF1udJKhkzYq"
   },
   "outputs": [],
   "source": [
    "# Set up environment variables\n",
    "project_id='bidmc-datathon'\n",
    "os.environ[\"GOOGLE_CLOUD_PROJECT\"]=project_id"
   ]
  },
  {
   "cell_type": "markdown",
   "metadata": {
    "colab_type": "text",
    "id": "LgcRCqxCk3HC"
   },
   "source": [
    "## Load the patient cohort\n",
    "\n",
    "In this example, we will load all data from the patient data, and link it to APACHE data to provide richer summary information."
   ]
  },
  {
   "cell_type": "code",
   "execution_count": 0,
   "metadata": {
    "colab": {},
    "colab_type": "code",
    "id": "ReCl7-aek1-k"
   },
   "outputs": [],
   "source": [
    "# Link the patient and apachepatientresult tables on patientunitstayid\n",
    "# using an inner join.\n",
    "%%bigquery cohort\n",
    "\n",
    "SELECT p.unitadmitsource, p.gender, p.age, p.admissionweight, \n",
    "    p.unittype, p.unitstaytype, a.acutephysiologyscore,\n",
    "    a.apachescore, a.actualhospitalmortality\n",
    "FROM `physionet-data.eicu_crd_demo.patient` p\n",
    "INNER JOIN `physionet-data.eicu_crd_demo.apachepatientresult` a\n",
    "ON p.patientunitstayid = a.patientunitstayid\n",
    "WHERE apacheversion LIKE 'IVa'"
   ]
  },
  {
   "cell_type": "code",
   "execution_count": 0,
   "metadata": {
    "colab": {},
    "colab_type": "code",
    "id": "yxLctVBpk9sO"
   },
   "outputs": [],
   "source": [
    "cohort.head()"
   ]
  },
  {
   "cell_type": "markdown",
   "metadata": {
    "colab_type": "text",
    "id": "NPlwRV2buYb1"
   },
   "source": [
    "## Prepare the data for analysis"
   ]
  },
  {
   "cell_type": "code",
   "execution_count": 0,
   "metadata": {
    "colab": {},
    "colab_type": "code",
    "id": "v3OJ4LDvueKu"
   },
   "outputs": [],
   "source": [
    "# review the data dataset\n",
    "print(cohort.info())"
   ]
  },
  {
   "cell_type": "code",
   "execution_count": 0,
   "metadata": {
    "colab": {},
    "colab_type": "code",
    "id": "s4wQ6o_RvLph"
   },
   "outputs": [],
   "source": [
    "# Encode the categorical data\n",
    "encoder = preprocessing.LabelEncoder()\n",
    "cohort['gender_code'] = encoder.fit_transform(cohort['gender'])\n",
    "cohort['admissionweight_code'] = encoder.fit_transform(cohort['admissionweight'])\n",
    "cohort['unittype_code'] = encoder.fit_transform(cohort['unittype'])\n",
    "cohort['apachescore_code'] = encoder.fit_transform(cohort['apachescore'])\n",
    "cohort['actualhospitalmortality_code'] = encoder.fit_transform(cohort['actualhospitalmortality'])"
   ]
  },
  {
   "cell_type": "code",
   "execution_count": 0,
   "metadata": {
    "colab": {},
    "colab_type": "code",
    "id": "4ogi_ns-ylnP"
   },
   "outputs": [],
   "source": [
    "# Handle the deidentified ages\n",
    "cohort['agenum'] = pd.to_numeric(cohort['age'], downcast='integer', errors='coerce')"
   ]
  },
  {
   "cell_type": "code",
   "execution_count": 0,
   "metadata": {
    "colab": {},
    "colab_type": "code",
    "id": "77M0QJQ5wcPQ"
   },
   "outputs": [],
   "source": [
    "# Preview the encoded data\n",
    "cohort[['gender','gender_code']].head()"
   ]
  },
  {
   "cell_type": "code",
   "execution_count": 0,
   "metadata": {
    "colab": {},
    "colab_type": "code",
    "id": "GqvwTNPN3KZz"
   },
   "outputs": [],
   "source": [
    "# Check the outcome variable\n",
    "cohort['actualhospitalmortality_code'].unique()"
   ]
  },
  {
   "cell_type": "markdown",
   "metadata": {
    "colab_type": "text",
    "id": "ze7y5J4Ioz8u"
   },
   "source": [
    "## Create our train and test sets"
   ]
  },
  {
   "cell_type": "code",
   "execution_count": 0,
   "metadata": {
    "colab": {},
    "colab_type": "code",
    "id": "i5zXkn_AlDJW"
   },
   "outputs": [],
   "source": [
    "predictors = ['gender_code','agenum','apachescore_code','unittype_code',\n",
    "              'admissionweight_code']\n",
    "outcome = 'actualhospitalmortality_code'\n",
    "\n",
    "X = cohort[predictors]\n",
    "y = cohort[outcome]"
   ]
  },
  {
   "cell_type": "code",
   "execution_count": 0,
   "metadata": {
    "colab": {},
    "colab_type": "code",
    "id": "IHhIgDUwocmA"
   },
   "outputs": [],
   "source": [
    "X_train, X_test, y_train, y_test = train_test_split(X, y, test_size=0.2, random_state=10)"
   ]
  },
  {
   "cell_type": "code",
   "execution_count": 0,
   "metadata": {
    "colab": {},
    "colab_type": "code",
    "id": "NvQWkuY6nkZ8"
   },
   "outputs": [],
   "source": [
    "# Review the number of cases in each set\n",
    "print(\"Train data: {}\".format(len(X_train)))\n",
    "print(\"Test data: {}\".format(len(X_test)))\n"
   ]
  },
  {
   "cell_type": "markdown",
   "metadata": {
    "colab_type": "text",
    "id": "b2waK5qBqanC"
   },
   "source": [
    "## Build the model"
   ]
  },
  {
   "cell_type": "code",
   "execution_count": 0,
   "metadata": {
    "colab": {},
    "colab_type": "code",
    "id": "EVoWS8HX3Sek"
   },
   "outputs": [],
   "source": [
    "# Create an instance of the model\n",
    "model = LogisticRegression(solver='lbfgs')\n"
   ]
  },
  {
   "cell_type": "code",
   "execution_count": 0,
   "metadata": {
    "colab": {},
    "colab_type": "code",
    "id": "sCWwZnc30ahA"
   },
   "outputs": [],
   "source": [
    "# Impute missing values and scale using a pipeline\n",
    "estimator = Pipeline([(\"imputer\", impute.SimpleImputer(missing_values=np.nan, strategy=\"mean\")),\n",
    "                      (\"scaler\", preprocessing.StandardScaler()),\n",
    "                      (\"logistic_regression\", model)])\n"
   ]
  },
  {
   "cell_type": "code",
   "execution_count": 0,
   "metadata": {
    "colab": {},
    "colab_type": "code",
    "id": "k_-lrq1A0rCh"
   },
   "outputs": [],
   "source": [
    "# Fit the model to the training data\n",
    "estimator.fit(X_train, y_train)"
   ]
  },
  {
   "cell_type": "markdown",
   "metadata": {
    "colab_type": "text",
    "id": "NMDmhhnlzr9Z"
   },
   "source": [
    "## Testing"
   ]
  },
  {
   "cell_type": "code",
   "execution_count": 0,
   "metadata": {
    "colab": {},
    "colab_type": "code",
    "id": "Pf4G20-VGdvm"
   },
   "outputs": [],
   "source": [
    "y_pred = estimator.predict(X_test)\n",
    "print('Accuracy of logistic regression classifier on the test set: {:.2f}'.format(estimator.score(X_test, y_test)))"
   ]
  },
  {
   "cell_type": "code",
   "execution_count": 0,
   "metadata": {
    "colab": {},
    "colab_type": "code",
    "id": "akOjuNz8qgMd"
   },
   "outputs": [],
   "source": [
    "print(metrics.classification_report(y_test, y_pred))"
   ]
  },
  {
   "cell_type": "code",
   "execution_count": 0,
   "metadata": {
    "colab": {},
    "colab_type": "code",
    "id": "gH1w0RBH1JjT"
   },
   "outputs": [],
   "source": [
    "logit_roc_auc = metrics.roc_auc_score(y_test, estimator.predict(X_test))\n",
    "fpr, tpr, thresholds = metrics.roc_curve(y_test, estimator.predict_proba(X_test)[:,1])\n",
    "\n",
    "plt.figure()\n",
    "plt.plot(fpr, tpr, label='Logistic Regression (area = %0.2f)' % logit_roc_auc)\n",
    "plt.plot([0, 1], [0, 1],'r--')\n",
    "plt.xlim([0.0, 1.0])\n",
    "plt.ylim([0.0, 1.05])\n",
    "\n",
    "plt.xlabel('False Positives')\n",
    "plt.ylabel('True Positives')\n",
    "plt.title('Receiver operating characteristic')\n",
    "plt.legend(loc=\"lower right\")\n",
    "plt.savefig('Log_ROC')\n",
    "plt.show()"
   ]
  }
 ],
 "metadata": {
  "colab": {
   "collapsed_sections": [],
   "include_colab_link": true,
   "name": "05-mortality-prediction",
   "provenance": [],
   "version": "0.3.2"
  },
  "kernelspec": {
   "display_name": "Python 3",
   "language": "python",
   "name": "python3"
  },
  "language_info": {
   "codemirror_mode": {
    "name": "ipython",
    "version": 3
   },
   "file_extension": ".py",
   "mimetype": "text/x-python",
   "name": "python",
   "nbconvert_exporter": "python",
   "pygments_lexer": "ipython3",
   "version": "3.7.4"
  }
 },
 "nbformat": 4,
 "nbformat_minor": 1
}
