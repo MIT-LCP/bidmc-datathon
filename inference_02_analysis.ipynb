{
  "nbformat": 4,
  "nbformat_minor": 0,
  "metadata": {
    "colab": {
      "name": "inference_02_analysis.ipynb",
      "provenance": [],
      "collapsed_sections": [],
      "toc_visible": true
    },
    "kernelspec": {
      "name": "python3",
      "display_name": "Python 3"
    }
  },
  "cells": [
    {
      "cell_type": "markdown",
      "metadata": {
        "id": "A-f5VpI3sn4j",
        "colab_type": "text"
      },
      "source": [
        "# BIDMC Datathon Question #1\n",
        "# English vs. Non-English Speaker MIMIC-III Cohort\n",
        "\n",
        "# Notebook 2: Exploratory Analysis\n",
        "\n",
        "In this notebook, we want to walk you through some basic steps on how to analyze the cohort which we generated in the first notebook. This notebook is meant to simply introduce a few first steps towards performing an exploratory analysis of the data as you begin building models as performing inference in your teams.\n",
        "\n",
        "This notebook is just a quick introduction to analyzing the cohort in Python. It's up to you and your team to decide what and how you want to analyze the data! \n",
        "\n",
        "This is where our paths diverge! Looking forward to seeing where we all end up in the next 3 hours."
      ]
    },
    {
      "cell_type": "markdown",
      "metadata": {
        "id": "5NqFVaiIIVc8",
        "colab_type": "text"
      },
      "source": [
        "# Setup"
      ]
    },
    {
      "cell_type": "markdown",
      "metadata": {
        "id": "GvvvqoWsIady",
        "colab_type": "text"
      },
      "source": [
        "## Prerequisites\n",
        "\n",
        "- If you do not have a Gmail account, please create one at http://www.gmail.com. \n",
        "- If you have not yet signed the data use agreement (DUA) sent by the organizers, please do so now to get access to the dataset."
      ]
    },
    {
      "cell_type": "markdown",
      "metadata": {
        "id": "HoGocoECIf7h",
        "colab_type": "text"
      },
      "source": [
        "## Load libraries"
      ]
    },
    {
      "cell_type": "markdown",
      "metadata": {
        "id": "zDCtYbdmIkfi",
        "colab_type": "text"
      },
      "source": [
        "Run the following cells to import some modules that we'll be using for analysis."
      ]
    },
    {
      "cell_type": "code",
      "metadata": {
        "id": "Gb2tEEBM2HHp",
        "colab_type": "code",
        "colab": {}
      },
      "source": [
        "from google.colab import drive\n",
        "import pandas as pd\n",
        "import os"
      ],
      "execution_count": 0,
      "outputs": []
    },
    {
      "cell_type": "markdown",
      "metadata": {
        "id": "xcV_kKwBIubF",
        "colab_type": "text"
      },
      "source": [
        "## Connect to Drive"
      ]
    },
    {
      "cell_type": "markdown",
      "metadata": {
        "id": "U3gWSIGFIxhA",
        "colab_type": "text"
      },
      "source": [
        "We will mount our Google Drive to access the CSV file created in the earlier notebook."
      ]
    },
    {
      "cell_type": "code",
      "metadata": {
        "id": "lE3vXpQ6Iwd2",
        "colab_type": "code",
        "colab": {
          "base_uri": "https://localhost:8080/",
          "height": 118
        },
        "outputId": "7cad4a1d-14fb-469a-d7a5-c1e404080942"
      },
      "source": [
        "drive.mount('/content/gdrive')"
      ],
      "execution_count": 3,
      "outputs": [
        {
          "output_type": "stream",
          "text": [
            "Go to this URL in a browser: https://accounts.google.com/o/oauth2/auth?client_id=947318989803-6bn6qk8qdgf4n4g3pfee6491hc0brc4i.apps.googleusercontent.com&redirect_uri=urn%3aietf%3awg%3aoauth%3a2.0%3aoob&response_type=code&scope=email%20https%3a%2f%2fwww.googleapis.com%2fauth%2fdocs.test%20https%3a%2f%2fwww.googleapis.com%2fauth%2fdrive%20https%3a%2f%2fwww.googleapis.com%2fauth%2fdrive.photos.readonly%20https%3a%2f%2fwww.googleapis.com%2fauth%2fpeopleapi.readonly\n",
            "\n",
            "Enter your authorization code:\n",
            "··········\n",
            "Mounted at /content/gdrive\n"
          ],
          "name": "stdout"
        }
      ]
    },
    {
      "cell_type": "markdown",
      "metadata": {
        "id": "j3Wx4dSp1SGW",
        "colab_type": "text"
      },
      "source": [
        "# Loading Data\n",
        "\n",
        "The last notebook focused on extracting the actual cohort and various covariates of potential interest. \n",
        "\n",
        "## Load from Drive\n",
        "\n",
        "Here, we can just import the generated CSV file and directly start working with it.\n"
      ]
    },
    {
      "cell_type": "code",
      "metadata": {
        "id": "vaXtfhGXskPr",
        "colab_type": "code",
        "colab": {}
      },
      "source": [
        "FILE_NAME = 'dataset_datathon_28022020.csv'\n",
        "MAIN_PATH = '/content/gdrive/My Drive/'\n",
        "final_path = os.path.join(MAIN_PATH, FILE_NAME)\n",
        "\n",
        "dataset = pd.read_csv(final_path)"
      ],
      "execution_count": 0,
      "outputs": []
    },
    {
      "cell_type": "markdown",
      "metadata": {
        "id": "6yp2FdAqRCKA",
        "colab_type": "text"
      },
      "source": [
        "(This is so much simpler than R!)"
      ]
    },
    {
      "cell_type": "markdown",
      "metadata": {
        "id": "MtcykDVXJUOq",
        "colab_type": "text"
      },
      "source": [
        "# Exploratory analysis"
      ]
    },
    {
      "cell_type": "markdown",
      "metadata": {
        "id": "9s8fJWb8G7Ve",
        "colab_type": "text"
      },
      "source": [
        "The first step in any data analysis should be **exploratory analysis** of the dataset. When performing an exploratory analysis, you should be checking high-level distributions of various covariates, marginal associations, and on the look out for potential messy data issues. \n",
        "\n",
        "We can start by just taking a look at the first few rows in the table."
      ]
    },
    {
      "cell_type": "code",
      "metadata": {
        "id": "H9UyMLrLJUYM",
        "colab_type": "code",
        "colab": {
          "base_uri": "https://localhost:8080/",
          "height": 320
        },
        "outputId": "1a43f2f6-9960-4ce2-b5ed-aa10bfe0a5f7"
      },
      "source": [
        "dataset.head(5)"
      ],
      "execution_count": 27,
      "outputs": [
        {
          "output_type": "execute_result",
          "data": {
            "text/html": [
              "<div>\n",
              "<style scoped>\n",
              "    .dataframe tbody tr th:only-of-type {\n",
              "        vertical-align: middle;\n",
              "    }\n",
              "\n",
              "    .dataframe tbody tr th {\n",
              "        vertical-align: top;\n",
              "    }\n",
              "\n",
              "    .dataframe thead th {\n",
              "        text-align: right;\n",
              "    }\n",
              "</style>\n",
              "<table border=\"1\" class=\"dataframe\">\n",
              "  <thead>\n",
              "    <tr style=\"text-align: right;\">\n",
              "      <th></th>\n",
              "      <th>subject_id</th>\n",
              "      <th>hadm_id</th>\n",
              "      <th>icustay_id</th>\n",
              "      <th>english</th>\n",
              "      <th>age</th>\n",
              "      <th>male</th>\n",
              "      <th>ethnicity</th>\n",
              "      <th>marital_status</th>\n",
              "      <th>religion</th>\n",
              "      <th>insurance</th>\n",
              "      <th>diagnosis</th>\n",
              "      <th>admission_type</th>\n",
              "      <th>admission_location</th>\n",
              "      <th>hosp_admittime</th>\n",
              "      <th>hosp_dischtime</th>\n",
              "      <th>los_hospital</th>\n",
              "      <th>first_careunit</th>\n",
              "      <th>icu_intime</th>\n",
              "      <th>icu_outtime</th>\n",
              "      <th>los_icu</th>\n",
              "      <th>ANIONGAP_min</th>\n",
              "      <th>ANIONGAP_max</th>\n",
              "      <th>ALBUMIN_min</th>\n",
              "      <th>ALBUMIN_max</th>\n",
              "      <th>BANDS_min</th>\n",
              "      <th>BANDS_max</th>\n",
              "      <th>BICARBONATE_min</th>\n",
              "      <th>BICARBONATE_max</th>\n",
              "      <th>BILIRUBIN_min</th>\n",
              "      <th>BILIRUBIN_max</th>\n",
              "      <th>CREATININE_min</th>\n",
              "      <th>CREATININE_max</th>\n",
              "      <th>CHLORIDE_min</th>\n",
              "      <th>CHLORIDE_max</th>\n",
              "      <th>GLUCOSE_min</th>\n",
              "      <th>GLUCOSE_max</th>\n",
              "      <th>HEMATOCRIT_min</th>\n",
              "      <th>HEMATOCRIT_max</th>\n",
              "      <th>HEMOGLOBIN_min</th>\n",
              "      <th>HEMOGLOBIN_max</th>\n",
              "      <th>...</th>\n",
              "      <th>gcs_score</th>\n",
              "      <th>comorbidity_score</th>\n",
              "      <th>admissiontype_score</th>\n",
              "      <th>congestive_heart_failure</th>\n",
              "      <th>cardiac_arrhythmias</th>\n",
              "      <th>valvular_disease</th>\n",
              "      <th>pulmonary_circulation</th>\n",
              "      <th>peripheral_vascular</th>\n",
              "      <th>hypertension</th>\n",
              "      <th>paralysis</th>\n",
              "      <th>other_neurological</th>\n",
              "      <th>chronic_pulmonary</th>\n",
              "      <th>diabetes_uncomplicated</th>\n",
              "      <th>diabetes_complicated</th>\n",
              "      <th>hypothyroidism</th>\n",
              "      <th>renal_failure</th>\n",
              "      <th>liver_disease</th>\n",
              "      <th>peptic_ulcer</th>\n",
              "      <th>aids</th>\n",
              "      <th>lymphoma</th>\n",
              "      <th>metastatic_cancer</th>\n",
              "      <th>solid_tumor</th>\n",
              "      <th>rheumatoid_arthritis</th>\n",
              "      <th>coagulopathy</th>\n",
              "      <th>obesity</th>\n",
              "      <th>weight_loss</th>\n",
              "      <th>fluid_electrolyte</th>\n",
              "      <th>blood_loss_anemia</th>\n",
              "      <th>deficiency_anemias</th>\n",
              "      <th>alcohol_abuse</th>\n",
              "      <th>drug_abuse</th>\n",
              "      <th>psychoses</th>\n",
              "      <th>depression</th>\n",
              "      <th>elixhauser_vanwalraven</th>\n",
              "      <th>elixhauser_sid29</th>\n",
              "      <th>elixhauser_sid30</th>\n",
              "      <th>sepsis_3</th>\n",
              "      <th>sofa</th>\n",
              "      <th>mechvent_event</th>\n",
              "      <th>mechvent_free_days</th>\n",
              "    </tr>\n",
              "  </thead>\n",
              "  <tbody>\n",
              "    <tr>\n",
              "      <th>0</th>\n",
              "      <td>109</td>\n",
              "      <td>189332</td>\n",
              "      <td>287547</td>\n",
              "      <td>1</td>\n",
              "      <td>25.1</td>\n",
              "      <td>0</td>\n",
              "      <td>BLACK/AFRICAN AMERICAN</td>\n",
              "      <td>SINGLE</td>\n",
              "      <td>NOT SPECIFIED</td>\n",
              "      <td>Medicaid</td>\n",
              "      <td>SHORTNESS OF BREATH</td>\n",
              "      <td>EMERGENCY</td>\n",
              "      <td>EMERGENCY ROOM ADMIT</td>\n",
              "      <td>2142-08-28T19:48:00Z</td>\n",
              "      <td>2142-08-30T15:20:00Z</td>\n",
              "      <td>1.8139</td>\n",
              "      <td>MICU</td>\n",
              "      <td>2142-08-28T19:49:27Z</td>\n",
              "      <td>2142-08-30T16:10:05Z</td>\n",
              "      <td>1.8477</td>\n",
              "      <td>NaN</td>\n",
              "      <td>NaN</td>\n",
              "      <td>NaN</td>\n",
              "      <td>NaN</td>\n",
              "      <td>NaN</td>\n",
              "      <td>NaN</td>\n",
              "      <td>NaN</td>\n",
              "      <td>NaN</td>\n",
              "      <td>NaN</td>\n",
              "      <td>NaN</td>\n",
              "      <td>NaN</td>\n",
              "      <td>NaN</td>\n",
              "      <td>NaN</td>\n",
              "      <td>NaN</td>\n",
              "      <td>NaN</td>\n",
              "      <td>NaN</td>\n",
              "      <td>NaN</td>\n",
              "      <td>NaN</td>\n",
              "      <td>NaN</td>\n",
              "      <td>NaN</td>\n",
              "      <td>...</td>\n",
              "      <td>0.0</td>\n",
              "      <td>0</td>\n",
              "      <td>6</td>\n",
              "      <td>1.0</td>\n",
              "      <td>0.0</td>\n",
              "      <td>0.0</td>\n",
              "      <td>0.0</td>\n",
              "      <td>1.0</td>\n",
              "      <td>1</td>\n",
              "      <td>0.0</td>\n",
              "      <td>1.0</td>\n",
              "      <td>0.0</td>\n",
              "      <td>0</td>\n",
              "      <td>0.0</td>\n",
              "      <td>0.0</td>\n",
              "      <td>1.0</td>\n",
              "      <td>0.0</td>\n",
              "      <td>1.0</td>\n",
              "      <td>0.0</td>\n",
              "      <td>0.0</td>\n",
              "      <td>0.0</td>\n",
              "      <td>0</td>\n",
              "      <td>1.0</td>\n",
              "      <td>1.0</td>\n",
              "      <td>0.0</td>\n",
              "      <td>0.0</td>\n",
              "      <td>1.0</td>\n",
              "      <td>0.0</td>\n",
              "      <td>0.0</td>\n",
              "      <td>0.0</td>\n",
              "      <td>0.0</td>\n",
              "      <td>0.0</td>\n",
              "      <td>0.0</td>\n",
              "      <td>28.0</td>\n",
              "      <td>40.0</td>\n",
              "      <td>46.0</td>\n",
              "      <td>0</td>\n",
              "      <td>NaN</td>\n",
              "      <td>0</td>\n",
              "      <td>NaN</td>\n",
              "    </tr>\n",
              "    <tr>\n",
              "      <th>1</th>\n",
              "      <td>111</td>\n",
              "      <td>155897</td>\n",
              "      <td>249202</td>\n",
              "      <td>1</td>\n",
              "      <td>69.0</td>\n",
              "      <td>0</td>\n",
              "      <td>WHITE</td>\n",
              "      <td>MARRIED</td>\n",
              "      <td>PROTESTANT QUAKER</td>\n",
              "      <td>Medicare</td>\n",
              "      <td>PNEUMONIA</td>\n",
              "      <td>EMERGENCY</td>\n",
              "      <td>EMERGENCY ROOM ADMIT</td>\n",
              "      <td>2144-07-01T04:12:00Z</td>\n",
              "      <td>2144-07-01T14:55:00Z</td>\n",
              "      <td>0.4465</td>\n",
              "      <td>MICU</td>\n",
              "      <td>2144-07-01T04:13:59Z</td>\n",
              "      <td>2144-07-01T17:56:31Z</td>\n",
              "      <td>0.5712</td>\n",
              "      <td>NaN</td>\n",
              "      <td>NaN</td>\n",
              "      <td>NaN</td>\n",
              "      <td>NaN</td>\n",
              "      <td>NaN</td>\n",
              "      <td>NaN</td>\n",
              "      <td>NaN</td>\n",
              "      <td>NaN</td>\n",
              "      <td>NaN</td>\n",
              "      <td>NaN</td>\n",
              "      <td>NaN</td>\n",
              "      <td>NaN</td>\n",
              "      <td>NaN</td>\n",
              "      <td>NaN</td>\n",
              "      <td>NaN</td>\n",
              "      <td>NaN</td>\n",
              "      <td>NaN</td>\n",
              "      <td>NaN</td>\n",
              "      <td>NaN</td>\n",
              "      <td>NaN</td>\n",
              "      <td>...</td>\n",
              "      <td>0.0</td>\n",
              "      <td>0</td>\n",
              "      <td>6</td>\n",
              "      <td>1.0</td>\n",
              "      <td>0.0</td>\n",
              "      <td>0.0</td>\n",
              "      <td>0.0</td>\n",
              "      <td>0.0</td>\n",
              "      <td>1</td>\n",
              "      <td>0.0</td>\n",
              "      <td>0.0</td>\n",
              "      <td>1.0</td>\n",
              "      <td>0</td>\n",
              "      <td>0.0</td>\n",
              "      <td>0.0</td>\n",
              "      <td>0.0</td>\n",
              "      <td>0.0</td>\n",
              "      <td>0.0</td>\n",
              "      <td>0.0</td>\n",
              "      <td>0.0</td>\n",
              "      <td>0.0</td>\n",
              "      <td>0</td>\n",
              "      <td>0.0</td>\n",
              "      <td>1.0</td>\n",
              "      <td>0.0</td>\n",
              "      <td>0.0</td>\n",
              "      <td>1.0</td>\n",
              "      <td>0.0</td>\n",
              "      <td>0.0</td>\n",
              "      <td>0.0</td>\n",
              "      <td>0.0</td>\n",
              "      <td>0.0</td>\n",
              "      <td>0.0</td>\n",
              "      <td>18.0</td>\n",
              "      <td>29.0</td>\n",
              "      <td>33.0</td>\n",
              "      <td>0</td>\n",
              "      <td>NaN</td>\n",
              "      <td>1</td>\n",
              "      <td>0.185081</td>\n",
              "    </tr>\n",
              "    <tr>\n",
              "      <th>2</th>\n",
              "      <td>124</td>\n",
              "      <td>138376</td>\n",
              "      <td>256064</td>\n",
              "      <td>1</td>\n",
              "      <td>75.1</td>\n",
              "      <td>1</td>\n",
              "      <td>WHITE</td>\n",
              "      <td>MARRIED</td>\n",
              "      <td>CATHOLIC</td>\n",
              "      <td>Medicare</td>\n",
              "      <td>PNEUMONIA;CHRONIC OBST PULM DISEASE</td>\n",
              "      <td>EMERGENCY</td>\n",
              "      <td>TRANSFER FROM HOSP/EXTRAM</td>\n",
              "      <td>2165-12-31T18:55:00Z</td>\n",
              "      <td>2166-02-01T06:55:00Z</td>\n",
              "      <td>31.5000</td>\n",
              "      <td>SICU</td>\n",
              "      <td>2166-01-09T13:05:18Z</td>\n",
              "      <td>2166-02-01T10:52:09Z</td>\n",
              "      <td>22.9075</td>\n",
              "      <td>NaN</td>\n",
              "      <td>NaN</td>\n",
              "      <td>NaN</td>\n",
              "      <td>NaN</td>\n",
              "      <td>NaN</td>\n",
              "      <td>NaN</td>\n",
              "      <td>NaN</td>\n",
              "      <td>NaN</td>\n",
              "      <td>NaN</td>\n",
              "      <td>NaN</td>\n",
              "      <td>NaN</td>\n",
              "      <td>NaN</td>\n",
              "      <td>NaN</td>\n",
              "      <td>NaN</td>\n",
              "      <td>NaN</td>\n",
              "      <td>NaN</td>\n",
              "      <td>NaN</td>\n",
              "      <td>NaN</td>\n",
              "      <td>NaN</td>\n",
              "      <td>NaN</td>\n",
              "      <td>...</td>\n",
              "      <td>26.0</td>\n",
              "      <td>0</td>\n",
              "      <td>6</td>\n",
              "      <td>1.0</td>\n",
              "      <td>1.0</td>\n",
              "      <td>0.0</td>\n",
              "      <td>0.0</td>\n",
              "      <td>0.0</td>\n",
              "      <td>1</td>\n",
              "      <td>0.0</td>\n",
              "      <td>0.0</td>\n",
              "      <td>1.0</td>\n",
              "      <td>0</td>\n",
              "      <td>0.0</td>\n",
              "      <td>0.0</td>\n",
              "      <td>1.0</td>\n",
              "      <td>0.0</td>\n",
              "      <td>0.0</td>\n",
              "      <td>0.0</td>\n",
              "      <td>0.0</td>\n",
              "      <td>0.0</td>\n",
              "      <td>0</td>\n",
              "      <td>0.0</td>\n",
              "      <td>0.0</td>\n",
              "      <td>0.0</td>\n",
              "      <td>1.0</td>\n",
              "      <td>0.0</td>\n",
              "      <td>0.0</td>\n",
              "      <td>0.0</td>\n",
              "      <td>0.0</td>\n",
              "      <td>0.0</td>\n",
              "      <td>0.0</td>\n",
              "      <td>0.0</td>\n",
              "      <td>21.0</td>\n",
              "      <td>25.0</td>\n",
              "      <td>35.0</td>\n",
              "      <td>0</td>\n",
              "      <td>NaN</td>\n",
              "      <td>1</td>\n",
              "      <td>2.235521</td>\n",
              "    </tr>\n",
              "    <tr>\n",
              "      <th>3</th>\n",
              "      <td>188</td>\n",
              "      <td>132401</td>\n",
              "      <td>246866</td>\n",
              "      <td>1</td>\n",
              "      <td>56.6</td>\n",
              "      <td>1</td>\n",
              "      <td>WHITE</td>\n",
              "      <td>MARRIED</td>\n",
              "      <td>CATHOLIC</td>\n",
              "      <td>Private</td>\n",
              "      <td>BACK PAIN</td>\n",
              "      <td>EMERGENCY</td>\n",
              "      <td>CLINIC REFERRAL/PREMATURE</td>\n",
              "      <td>2161-11-01T17:48:00Z</td>\n",
              "      <td>2162-01-17T05:50:00Z</td>\n",
              "      <td>76.5014</td>\n",
              "      <td>SICU</td>\n",
              "      <td>2161-12-09T17:03:04Z</td>\n",
              "      <td>2161-12-17T21:04:31Z</td>\n",
              "      <td>8.1677</td>\n",
              "      <td>NaN</td>\n",
              "      <td>NaN</td>\n",
              "      <td>NaN</td>\n",
              "      <td>NaN</td>\n",
              "      <td>NaN</td>\n",
              "      <td>NaN</td>\n",
              "      <td>NaN</td>\n",
              "      <td>NaN</td>\n",
              "      <td>NaN</td>\n",
              "      <td>NaN</td>\n",
              "      <td>NaN</td>\n",
              "      <td>NaN</td>\n",
              "      <td>NaN</td>\n",
              "      <td>NaN</td>\n",
              "      <td>NaN</td>\n",
              "      <td>NaN</td>\n",
              "      <td>NaN</td>\n",
              "      <td>NaN</td>\n",
              "      <td>NaN</td>\n",
              "      <td>NaN</td>\n",
              "      <td>...</td>\n",
              "      <td>0.0</td>\n",
              "      <td>0</td>\n",
              "      <td>6</td>\n",
              "      <td>0.0</td>\n",
              "      <td>0.0</td>\n",
              "      <td>0.0</td>\n",
              "      <td>0.0</td>\n",
              "      <td>0.0</td>\n",
              "      <td>1</td>\n",
              "      <td>0.0</td>\n",
              "      <td>0.0</td>\n",
              "      <td>0.0</td>\n",
              "      <td>1</td>\n",
              "      <td>0.0</td>\n",
              "      <td>0.0</td>\n",
              "      <td>1.0</td>\n",
              "      <td>1.0</td>\n",
              "      <td>0.0</td>\n",
              "      <td>0.0</td>\n",
              "      <td>0.0</td>\n",
              "      <td>0.0</td>\n",
              "      <td>0</td>\n",
              "      <td>0.0</td>\n",
              "      <td>1.0</td>\n",
              "      <td>0.0</td>\n",
              "      <td>0.0</td>\n",
              "      <td>1.0</td>\n",
              "      <td>0.0</td>\n",
              "      <td>0.0</td>\n",
              "      <td>0.0</td>\n",
              "      <td>0.0</td>\n",
              "      <td>0.0</td>\n",
              "      <td>0.0</td>\n",
              "      <td>24.0</td>\n",
              "      <td>27.0</td>\n",
              "      <td>35.0</td>\n",
              "      <td>0</td>\n",
              "      <td>NaN</td>\n",
              "      <td>1</td>\n",
              "      <td>1.544803</td>\n",
              "    </tr>\n",
              "    <tr>\n",
              "      <th>4</th>\n",
              "      <td>305</td>\n",
              "      <td>194340</td>\n",
              "      <td>217232</td>\n",
              "      <td>0</td>\n",
              "      <td>76.9</td>\n",
              "      <td>0</td>\n",
              "      <td>WHITE</td>\n",
              "      <td>MARRIED</td>\n",
              "      <td>CATHOLIC</td>\n",
              "      <td>Medicare</td>\n",
              "      <td>HEART FAILURE</td>\n",
              "      <td>EMERGENCY</td>\n",
              "      <td>TRANSFER FROM HOSP/EXTRAM</td>\n",
              "      <td>2129-08-20T18:03:00Z</td>\n",
              "      <td>2129-09-07T17:55:00Z</td>\n",
              "      <td>17.9944</td>\n",
              "      <td>SICU</td>\n",
              "      <td>2129-09-03T12:31:31Z</td>\n",
              "      <td>2129-09-05T23:00:50Z</td>\n",
              "      <td>2.4370</td>\n",
              "      <td>NaN</td>\n",
              "      <td>NaN</td>\n",
              "      <td>NaN</td>\n",
              "      <td>NaN</td>\n",
              "      <td>NaN</td>\n",
              "      <td>NaN</td>\n",
              "      <td>NaN</td>\n",
              "      <td>NaN</td>\n",
              "      <td>NaN</td>\n",
              "      <td>NaN</td>\n",
              "      <td>NaN</td>\n",
              "      <td>NaN</td>\n",
              "      <td>NaN</td>\n",
              "      <td>NaN</td>\n",
              "      <td>NaN</td>\n",
              "      <td>NaN</td>\n",
              "      <td>NaN</td>\n",
              "      <td>NaN</td>\n",
              "      <td>NaN</td>\n",
              "      <td>NaN</td>\n",
              "      <td>...</td>\n",
              "      <td>7.0</td>\n",
              "      <td>0</td>\n",
              "      <td>6</td>\n",
              "      <td>1.0</td>\n",
              "      <td>0.0</td>\n",
              "      <td>0.0</td>\n",
              "      <td>0.0</td>\n",
              "      <td>1.0</td>\n",
              "      <td>0</td>\n",
              "      <td>0.0</td>\n",
              "      <td>1.0</td>\n",
              "      <td>0.0</td>\n",
              "      <td>1</td>\n",
              "      <td>0.0</td>\n",
              "      <td>0.0</td>\n",
              "      <td>1.0</td>\n",
              "      <td>0.0</td>\n",
              "      <td>0.0</td>\n",
              "      <td>0.0</td>\n",
              "      <td>0.0</td>\n",
              "      <td>0.0</td>\n",
              "      <td>0</td>\n",
              "      <td>0.0</td>\n",
              "      <td>1.0</td>\n",
              "      <td>0.0</td>\n",
              "      <td>0.0</td>\n",
              "      <td>0.0</td>\n",
              "      <td>0.0</td>\n",
              "      <td>0.0</td>\n",
              "      <td>0.0</td>\n",
              "      <td>0.0</td>\n",
              "      <td>0.0</td>\n",
              "      <td>0.0</td>\n",
              "      <td>23.0</td>\n",
              "      <td>31.0</td>\n",
              "      <td>37.0</td>\n",
              "      <td>1</td>\n",
              "      <td>6.0</td>\n",
              "      <td>0</td>\n",
              "      <td>NaN</td>\n",
              "    </tr>\n",
              "  </tbody>\n",
              "</table>\n",
              "<p>5 rows × 133 columns</p>\n",
              "</div>"
            ],
            "text/plain": [
              "   subject_id  hadm_id  icustay_id  ...  sofa  mechvent_event  mechvent_free_days\n",
              "0         109   189332      287547  ...   NaN               0                 NaN\n",
              "1         111   155897      249202  ...   NaN               1            0.185081\n",
              "2         124   138376      256064  ...   NaN               1            2.235521\n",
              "3         188   132401      246866  ...   NaN               1            1.544803\n",
              "4         305   194340      217232  ...   6.0               0                 NaN\n",
              "\n",
              "[5 rows x 133 columns]"
            ]
          },
          "metadata": {
            "tags": []
          },
          "execution_count": 27
        }
      ]
    },
    {
      "cell_type": "markdown",
      "metadata": {
        "id": "gYc4JZKeKNa-",
        "colab_type": "text"
      },
      "source": [
        "We can rename the columns to all be uppercase for consistency and so we don't have to worry about remember the case of different columns."
      ]
    },
    {
      "cell_type": "code",
      "metadata": {
        "id": "DO2JozMUKF8s",
        "colab_type": "code",
        "colab": {}
      },
      "source": [
        "dataset.columns = [_.upper() for _ in dataset.columns]"
      ],
      "execution_count": 0,
      "outputs": []
    },
    {
      "cell_type": "markdown",
      "metadata": {
        "id": "YIQf6Ktq1Mbu",
        "colab_type": "text"
      },
      "source": [
        "## Language"
      ]
    },
    {
      "cell_type": "markdown",
      "metadata": {
        "id": "8uc-V_cltBzA",
        "colab_type": "text"
      },
      "source": [
        "We should start to analyze our cohort and find out if there is a significant relationship between end-of-life treatment between English and non-English speaking patients.\n",
        "\n",
        "Let's start by just taking a look at how many of the patients in our cohort were labeled as English speakers."
      ]
    },
    {
      "cell_type": "code",
      "metadata": {
        "id": "LB3FlkAFslZZ",
        "colab_type": "code",
        "colab": {
          "base_uri": "https://localhost:8080/",
          "height": 66
        },
        "outputId": "3aba7586-16d5-44de-f0e1-7a7b232e8042"
      },
      "source": [
        "english_col = 'ENGLISH'\n",
        "dataset[english_col].value_counts()"
      ],
      "execution_count": 36,
      "outputs": [
        {
          "output_type": "execute_result",
          "data": {
            "text/plain": [
              "1    2024\n",
              "0     261\n",
              "Name: ENGLISH, dtype: int64"
            ]
          },
          "metadata": {
            "tags": []
          },
          "execution_count": 36
        }
      ]
    },
    {
      "cell_type": "markdown",
      "metadata": {
        "id": "PrYh05MMQVTU",
        "colab_type": "text"
      },
      "source": [
        "We can also plot this to take a look."
      ]
    },
    {
      "cell_type": "code",
      "metadata": {
        "id": "8cYa1uj84Dhv",
        "colab_type": "code",
        "colab": {
          "base_uri": "https://localhost:8080/",
          "height": 293
        },
        "outputId": "edb02b67-c7f0-4106-c3b0-9ea6d9a9d854"
      },
      "source": [
        "# Count number of admissions for English vs. Non-English speakers\n",
        "dataset[english_col].value_counts().plot(kind='bar', title='English-speaker admissions')"
      ],
      "execution_count": 34,
      "outputs": [
        {
          "output_type": "execute_result",
          "data": {
            "text/plain": [
              "<matplotlib.axes._subplots.AxesSubplot at 0x7fb9f4a08dd8>"
            ]
          },
          "metadata": {
            "tags": []
          },
          "execution_count": 34
        },
        {
          "output_type": "display_data",
          "data": {
            "image/png": "[encoded data removed]",
            "text/plain": [
              "<Figure size 432x288 with 1 Axes>"
            ]
          },
          "metadata": {
            "tags": []
          }
        }
      ]
    },
    {
      "cell_type": "markdown",
      "metadata": {
        "id": "2wiP9TpPQYmB",
        "colab_type": "text"
      },
      "source": [
        "It looks like most patients in our cohort spoke English.\n",
        "\n",
        "From this point, you can try to stratify by outcomes. \n",
        "- What outcomes do you define as as invasive procedures in our dataset?\n",
        "- How do you want to group those invasive procedures? Maybe adding a boolean (0/1) column to the dataset which indicates procedures? \n",
        "- Do the same statistics for each different type of invasive procedure (ventilation, CRRT etc.)\n",
        "\n",
        "_Tip_: You can use both R and Python in Colab notebooks, so pick your favorite language to get started quickly!\n"
      ]
    },
    {
      "cell_type": "markdown",
      "metadata": {
        "id": "P1wxuWAZ5rh4",
        "colab_type": "text"
      },
      "source": [
        "# Creating a \"Table 1\"\n",
        "\n",
        "In reports or papers for clinical trials or retrospective data studies, you'll often find a cohort summary table presented as _Table 1_. Table 1 describes the cohort's characteristics, such as age, sex, and ethnicity, stratified by the exposure under investigation. Often, the exposure groups are shown as two columns in the table (e.g. group A and group B). Creating these tables can be fairly tedious, especially when the list of potentially confounding covariates is long.\n",
        "\n",
        "The good news: there are plenty of packages for generating these tables automatically (in both Python _and_ R), so you only need to reshape your dataset, handle missing data (depending on the package) and call the corresponding functions in the respective Python and R libraries.\n",
        "\n",
        "The following 2 are examples of packages that can be used to generate a \"Table 1\" in Python and R:\n",
        "\n",
        "- Python: [Table One](https://pypi.org/project/tableone/)\n",
        "- R: [Table One](https://cran.r-project.org/web/packages/tableone/vignettes/introduction.html)\n",
        "\n",
        "In this section of the notebook, consider generating a \"Table 1\", analyze the results and include it in your final presentation. To do this, however, you first need to define the stratifying exposure or variable (e.g. English vs. non-English speaking) and define the set of covariates (rows) you want to display. \n",
        "\n",
        "Keep these things in mind while performing your analysis and consider creating Table 1 and performing exploratory analysis extensively *early on*!"
      ]
    },
    {
      "cell_type": "code",
      "metadata": {
        "id": "3Vs_1YtgRH1V",
        "colab_type": "code",
        "colab": {}
      },
      "source": [
        ""
      ],
      "execution_count": 0,
      "outputs": []
    }
  ]
}