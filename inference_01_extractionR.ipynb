{
  "nbformat": 4,
  "nbformat_minor": 0,
  "metadata": {
    "colab": {
      "name": "inference_01_extraction.ipynb",
      "provenance": [],
      "collapsed_sections": [],
      "toc_visible": true
    },
    "kernelspec": {
      "name": "ir",
      "display_name": "R"
    }
  },
  "cells": [
    {
      "cell_type": "markdown",
      "metadata": {
        "id": "PXqIHxPDk9KC",
        "colab_type": "text"
      },
      "source": [
        "# BIDMC Datathon Question #1\n",
        "# English vs. Non-English Speaker MIMIC-III Cohort\n",
        "\n",
        "# Notebook 1: Explore database and identify English vs. Non-English speakers\n",
        "\n",
        "The aim of this notebook is to access the [Medical Information Mart for Intensive Care III (MIMIC-III)](https://mimic.physionet.org/) database and to start generating the cohort to be investigated as part of BIDMC Datathon Question #1 assessing whether non-English speakers receive different levels of intensive care at the end of life than English speakers.\n",
        "\n",
        "This notebook is the R version."
      ]
    },
    {
      "cell_type": "markdown",
      "metadata": {
        "id": "XGoBGf3XGjIE",
        "colab_type": "text"
      },
      "source": [
        "# Setup"
      ]
    },
    {
      "cell_type": "markdown",
      "metadata": {
        "id": "Jq2Jm_3slPV4",
        "colab_type": "text"
      },
      "source": [
        "## Prerequisites\n",
        "\n",
        "- If you do not have a Gmail account, please create one at http://www.gmail.com. \n",
        "- If you have not yet signed the data use agreement (DUA) sent by the organizers, please do so now to get access to the dataset."
      ]
    },
    {
      "cell_type": "markdown",
      "metadata": {
        "id": "d5J2gJ1qk8rW",
        "colab_type": "text"
      },
      "source": [
        "## Load libraries\n",
        "\n",
        "Run the following cells to install and import some libraries."
      ]
    },
    {
      "cell_type": "code",
      "metadata": {
        "id": "yVlGPvPO25Nj",
        "colab_type": "code",
        "outputId": "ee67471a-091a-49cb-93f8-ae6d58925389",
        "colab": {
          "base_uri": "https://localhost:8080/",
          "height": 212
        }
      },
      "source": [
        "install.packages(\"bigrquery\")\n",
        "install.packages(\"googledrive\")\n",
        "install.packages(\"R.utils\")\n",
        "install.packages(\"cowplot\")"
      ],
      "execution_count": 154,
      "outputs": [
        {
          "output_type": "stream",
          "text": [
            "Installing package into ‘/usr/local/lib/R/site-library’\n",
            "(as ‘lib’ is unspecified)\n",
            "\n",
            "Installing package into ‘/usr/local/lib/R/site-library’\n",
            "(as ‘lib’ is unspecified)\n",
            "\n",
            "Installing package into ‘/usr/local/lib/R/site-library’\n",
            "(as ‘lib’ is unspecified)\n",
            "\n",
            "Installing package into ‘/usr/local/lib/R/site-library’\n",
            "(as ‘lib’ is unspecified)\n",
            "\n"
          ],
          "name": "stderr"
        }
      ]
    },
    {
      "cell_type": "code",
      "metadata": {
        "id": "Z60PpIfIeF4Z",
        "colab_type": "code",
        "colab": {}
      },
      "source": [
        "suppressPackageStartupMessages({\n",
        "  library(tidyverse)   ## for easy DS in R\n",
        "  library(cowplot)     ## for plotting plots together\n",
        "  library(bigrquery)   ## for querying BigQuery\n",
        "  library(googledrive) ## for read/write Google Drive\n",
        "  library(httr)        ## for hacking bigrquery to run in Colab\n",
        "  library(R.utils)     ## \"\"\n",
        "  library(repr)        ## for modifying R plot dims in Colab\n",
        "})"
      ],
      "execution_count": 0,
      "outputs": []
    },
    {
      "cell_type": "markdown",
      "metadata": {
        "id": "rE6-FS4YQ1lx",
        "colab_type": "text"
      },
      "source": [
        "We also set a few global parameters for nicer plots."
      ]
    },
    {
      "cell_type": "code",
      "metadata": {
        "id": "QHu7Iol3Q2HH",
        "colab_type": "code",
        "colab": {}
      },
      "source": [
        "## specify default plot dimensions\n",
        "options(repr.plot.width=4, repr.plot.height=3, repr.plot.res = 300)\n",
        "\n",
        "## specify default ggplot2 theme\n",
        "theme_set(theme_bw())"
      ],
      "execution_count": 0,
      "outputs": []
    },
    {
      "cell_type": "markdown",
      "metadata": {
        "id": "tVFDucjdGnWa",
        "colab_type": "text"
      },
      "source": [
        "## Connect to BigQuery"
      ]
    },
    {
      "cell_type": "markdown",
      "metadata": {
        "id": "6pAAL_QXlkN_",
        "colab_type": "text"
      },
      "source": [
        "Before running any queries, you need to first authenticate yourself by running the following cell. If you are running it for the first time, it will ask you to follow a link to log in using your Gmail account, and accept the data access requests to your profile. Once this is done, it will generate a string of verification code, which you should paste back to the cell below and press enter."
      ]
    },
    {
      "cell_type": "markdown",
      "metadata": {
        "id": "I2_ToB7Gzmm7",
        "colab_type": "text"
      },
      "source": [
        "The following is a hack to allow R access to Google BigQuery with the `bigrquery` package from a Google Colab notebook."
      ]
    },
    {
      "cell_type": "code",
      "metadata": {
        "id": "WfND5moFlr1t",
        "colab_type": "code",
        "colab": {}
      },
      "source": [
        "## source: https://github.com/r-lib/httr/pull/634\n",
        "reassignInPackage(\"is_interactive\", pkgName = \"httr\", function() {return(TRUE)})"
      ],
      "execution_count": 0,
      "outputs": []
    },
    {
      "cell_type": "markdown",
      "metadata": {
        "id": "pVwtUaDf0NaV",
        "colab_type": "text"
      },
      "source": [
        "The following command will setup access to BigQuery. Sign in with the Google account that you provided the organizers of the event (to guarantee access to the MIMIC dataset). Follow the link and copy and paste the authorization code in the prompt below."
      ]
    },
    {
      "cell_type": "code",
      "metadata": {
        "id": "ExvNMn-syrXs",
        "colab_type": "code",
        "outputId": "7d700236-57f7-437b-ff07-b18054946228",
        "colab": {
          "base_uri": "https://localhost:8080/",
          "height": 118
        }
      },
      "source": [
        "bq_auth(use_oob = TRUE)"
      ],
      "execution_count": 160,
      "outputs": [
        {
          "output_type": "stream",
          "text": [
            "Please point your browser to the following url: \n",
            "\n",
            "https://accounts.google.com/o/oauth2/auth?client_id=603366585132-0l3n5tr582q443rnomebdeeo0156b2bc.apps.googleusercontent.com&scope=https%3A%2F%2Fwww.googleapis.com%2Fauth%2Fbigquery%20https%3A%2F%2Fwww.googleapis.com%2Fauth%2Fcloud-platform%20https%3A%2F%2Fwww.googleapis.com%2Fauth%2Fuserinfo.email&redirect_uri=urn%3Aietf%3Awg%3Aoauth%3A2.0%3Aoob&response_type=code\n",
            "\n"
          ],
          "name": "stderr"
        },
        {
          "output_type": "stream",
          "text": [
            "Enter authorization code: 4/xAFynLJjmub0etyijLEfLzWj2EOvQP5Lf2yTNJ_gnq5aLHZFak1gXW4\n"
          ],
          "name": "stdout"
        }
      ]
    },
    {
      "cell_type": "markdown",
      "metadata": {
        "id": "KASjNTJ1mQ3k",
        "colab_type": "text"
      },
      "source": [
        "We'll also set the project name that will be used to run queries and access MIMIC data for this datathon on Google BigQuery."
      ]
    },
    {
      "cell_type": "code",
      "metadata": {
        "id": "sGAJCEKHmO4h",
        "colab_type": "code",
        "colab": {}
      },
      "source": [
        "projectid = \"bidmc-datathon\""
      ],
      "execution_count": 0,
      "outputs": []
    },
    {
      "cell_type": "markdown",
      "metadata": {
        "id": "gWN0_J7BuZRr",
        "colab_type": "text"
      },
      "source": [
        "## Query to BigQuery"
      ]
    },
    {
      "cell_type": "markdown",
      "metadata": {
        "id": "QQxXc7AducO_",
        "colab_type": "text"
      },
      "source": [
        "Now we can start exploring the data. \n",
        "\n",
        "Our dataset is stored on BigQuery, Google's database engine. Since this notebook is running the R kernel, *unfortunately*, we won't be able to use some of the nice Colab notebook magic functions to run BigQuery SQL queries directly in a cell. **Fortunately**, querying data from BigQuery using R's `bigrquery` package is still relatively straightforward! Queries are written in SQL, a common language for extracting data from databases. The structure of an SQL query is:\n",
        "\n",
        "```sql\n",
        "SELECT <columns>\n",
        "FROM <table>\n",
        "WHERE <criteria, optional>\n",
        "```\n",
        "\n",
        "`*` is a wildcard that indicates all columns. For more details on syntax for writing SQL queries, check out the [BigQuery query syntax guide](https://cloud.google.com/bigquery/docs/reference/standard-sql/query-syntax).\n",
        "\n",
        "To run an SQL query in R, simply turn the query into a string and call the `bq_project_query` function to *execute* the query and `bq_table_download` to *download* the results.\n",
        "\n",
        "Here's a simple example showing how to download all rows (`*`) from an example dataset called `patients` in the `mimiciii_demo` project. \n",
        "\n",
        "*Remember to include your `projectid` defined above!*"
      ]
    },
    {
      "cell_type": "code",
      "metadata": {
        "id": "4mceGkwOuZlh",
        "colab_type": "code",
        "colab": {}
      },
      "source": [
        "demo_sql <- \"\n",
        "SELECT *\n",
        "FROM `physionet-data.mimiciii_demo.patients`\n",
        "\"\n",
        "\n",
        "## execute SQL \n",
        "demo_patients <- bq_project_query(projectid, query = demo_sql)\n",
        "\n",
        "## download results\n",
        "demo_patients <- bq_table_download(demo_patients)"
      ],
      "execution_count": 0,
      "outputs": []
    },
    {
      "cell_type": "markdown",
      "metadata": {
        "id": "3ejzYN38w0nm",
        "colab_type": "text"
      },
      "source": [
        "We can now inspect our downloaded dataset."
      ]
    },
    {
      "cell_type": "code",
      "metadata": {
        "id": "Xvyreu00w0dE",
        "colab_type": "code",
        "outputId": "b4e912c6-672d-4ea8-b015-18fa55d6538a",
        "colab": {
          "base_uri": "https://localhost:8080/",
          "height": 175
        }
      },
      "source": [
        "head(demo_patients)"
      ],
      "execution_count": 164,
      "outputs": [
        {
          "output_type": "display_data",
          "data": {
            "text/plain": [
              "  ROW_ID SUBJECT_ID GENDER DOB        DOD        DOD_HOSP   DOD_SSN   \n",
              "1 9467   10006      F      2094-03-05 2165-08-12 2165-08-12 2165-08-12\n",
              "2 9472   10011      F      2090-06-05 2126-08-28 2126-08-28 <NA>      \n",
              "3 9474   10013      F      2038-09-03 2125-10-07 2125-10-07 2125-10-07\n",
              "4 9478   10017      F      2075-09-21 2152-09-12 <NA>       2152-09-12\n",
              "5 9486   10026      F      <NA>       2195-11-24 <NA>       2195-11-24\n",
              "6 9487   10027      F      2108-01-15 2190-09-14 <NA>       2190-09-14\n",
              "  EXPIRE_FLAG\n",
              "1 1          \n",
              "2 1          \n",
              "3 1          \n",
              "4 1          \n",
              "5 1          \n",
              "6 1          "
            ],
            "text/latex": "A tibble: 6 × 8\n\\begin{tabular}{llllllll}\n ROW\\_ID & SUBJECT\\_ID & GENDER & DOB & DOD & DOD\\_HOSP & DOD\\_SSN & EXPIRE\\_FLAG\\\\\n <int> & <int> & <chr> & <dttm> & <dttm> & <dttm> & <dttm> & <int>\\\\\n\\hline\n\t 9467 & 10006 & F & 2094-03-05 & 2165-08-12 & 2165-08-12 & 2165-08-12 & 1\\\\\n\t 9472 & 10011 & F & 2090-06-05 & 2126-08-28 & 2126-08-28 & NA & 1\\\\\n\t 9474 & 10013 & F & 2038-09-03 & 2125-10-07 & 2125-10-07 & 2125-10-07 & 1\\\\\n\t 9478 & 10017 & F & 2075-09-21 & 2152-09-12 & NA & 2152-09-12 & 1\\\\\n\t 9486 & 10026 & F & NA & 2195-11-24 & NA & 2195-11-24 & 1\\\\\n\t 9487 & 10027 & F & 2108-01-15 & 2190-09-14 & NA & 2190-09-14 & 1\\\\\n\\end{tabular}\n",
            "text/markdown": "\nA tibble: 6 × 8\n\n| ROW_ID &lt;int&gt; | SUBJECT_ID &lt;int&gt; | GENDER &lt;chr&gt; | DOB &lt;dttm&gt; | DOD &lt;dttm&gt; | DOD_HOSP &lt;dttm&gt; | DOD_SSN &lt;dttm&gt; | EXPIRE_FLAG &lt;int&gt; |\n|---|---|---|---|---|---|---|---|\n| 9467 | 10006 | F | 2094-03-05 | 2165-08-12 | 2165-08-12 | 2165-08-12 | 1 |\n| 9472 | 10011 | F | 2090-06-05 | 2126-08-28 | 2126-08-28 | NA | 1 |\n| 9474 | 10013 | F | 2038-09-03 | 2125-10-07 | 2125-10-07 | 2125-10-07 | 1 |\n| 9478 | 10017 | F | 2075-09-21 | 2152-09-12 | NA | 2152-09-12 | 1 |\n| 9486 | 10026 | F | NA | 2195-11-24 | NA | 2195-11-24 | 1 |\n| 9487 | 10027 | F | 2108-01-15 | 2190-09-14 | NA | 2190-09-14 | 1 |\n\n",
            "text/html": [
              "<table>\n",
              "<caption>A tibble: 6 × 8</caption>\n",
              "<thead>\n",
              "\t<tr><th scope=col>ROW_ID</th><th scope=col>SUBJECT_ID</th><th scope=col>GENDER</th><th scope=col>DOB</th><th scope=col>DOD</th><th scope=col>DOD_HOSP</th><th scope=col>DOD_SSN</th><th scope=col>EXPIRE_FLAG</th></tr>\n",
              "\t<tr><th scope=col>&lt;int&gt;</th><th scope=col>&lt;int&gt;</th><th scope=col>&lt;chr&gt;</th><th scope=col>&lt;dttm&gt;</th><th scope=col>&lt;dttm&gt;</th><th scope=col>&lt;dttm&gt;</th><th scope=col>&lt;dttm&gt;</th><th scope=col>&lt;int&gt;</th></tr>\n",
              "</thead>\n",
              "<tbody>\n",
              "\t<tr><td>9467</td><td>10006</td><td>F</td><td>2094-03-05</td><td>2165-08-12</td><td>2165-08-12</td><td>2165-08-12</td><td>1</td></tr>\n",
              "\t<tr><td>9472</td><td>10011</td><td>F</td><td>2090-06-05</td><td>2126-08-28</td><td>2126-08-28</td><td>NA</td><td>1</td></tr>\n",
              "\t<tr><td>9474</td><td>10013</td><td>F</td><td>2038-09-03</td><td>2125-10-07</td><td>2125-10-07</td><td>2125-10-07</td><td>1</td></tr>\n",
              "\t<tr><td>9478</td><td>10017</td><td>F</td><td>2075-09-21</td><td>2152-09-12</td><td>NA</td><td>2152-09-12</td><td>1</td></tr>\n",
              "\t<tr><td>9486</td><td>10026</td><td>F</td><td>NA</td><td>2195-11-24</td><td>NA</td><td>2195-11-24</td><td>1</td></tr>\n",
              "\t<tr><td>9487</td><td>10027</td><td>F</td><td>2108-01-15</td><td>2190-09-14</td><td>NA</td><td>2190-09-14</td><td>1</td></tr>\n",
              "</tbody>\n",
              "</table>\n"
            ]
          },
          "metadata": {
            "tags": []
          }
        }
      ]
    },
    {
      "cell_type": "markdown",
      "metadata": {
        "id": "uCrEmbemw0Gn",
        "colab_type": "text"
      },
      "source": [
        "Great! That wasn't too bad at all!\n",
        "\n",
        "We'll be mixing a fair bit of SQL in our cohort and feature extraction code below to gather data from various tables in the MIMIC-III database. Details about the different tables that we'll be working with are available on the [MIMIC site](https://mimic.physionet.org/gettingstarted/overview/) and for derived tables (some referenced below), the [`MIMIC-code` GitHub repo](https://github.com/MIT-LCP/mimic-code/tree/master/concepts)."
      ]
    },
    {
      "cell_type": "markdown",
      "metadata": {
        "id": "eTSNP3n500uq",
        "colab_type": "text"
      },
      "source": [
        "We'll write a quick wrapper to download our data since there's no real need to call the \"query\" and \"download\" functions separately"
      ]
    },
    {
      "cell_type": "code",
      "metadata": {
        "id": "pxedw3dZ01ER",
        "colab_type": "code",
        "colab": {}
      },
      "source": [
        "bq_runsql <- function(query) {\n",
        "  bq_table_download(bq_project_query(projectid, query))\n",
        "}"
      ],
      "execution_count": 0,
      "outputs": []
    },
    {
      "cell_type": "markdown",
      "metadata": {
        "id": "lpN0EWeO1DWi",
        "colab_type": "text"
      },
      "source": [
        "We can now just call `bq_runsql()` in future code chunks to execute our queries!"
      ]
    },
    {
      "cell_type": "markdown",
      "metadata": {
        "id": "ZDcbPm2MGfCl",
        "colab_type": "text"
      },
      "source": [
        "# Cohort extraction\n"
      ]
    },
    {
      "cell_type": "markdown",
      "metadata": {
        "id": "g3wA3ihN0X8X",
        "colab_type": "text"
      },
      "source": [
        "## Define cohort"
      ]
    },
    {
      "cell_type": "markdown",
      "metadata": {
        "id": "-mG_iL2o5eor",
        "colab_type": "text"
      },
      "source": [
        "We'll start by extracting our cohort and features from a few different tables in the MIMIC-III database.\n",
        "\n",
        "We'll be restricting our analysis to patient records for hospital admissions that meet the following criteria:\n",
        "- patient expired during the admission\n",
        "- patient record is not an \"organ donor\" entry\n",
        "- patient record is from [MetaVision](https://mimic.physionet.org/mimicdata/metavision/) system (vs. [CareVue](https://mimic.physionet.org/mimicdata/carevue/))\n",
        "- patient language is recorded\n",
        "- patient chart events are available in database\n",
        "\n",
        "For each hospital admission, features of the patient and stay are collected from the following clinical MIMIC databases:\n",
        "- `physionet-data.mimiciii_clinical.icustays`\n",
        "- `physionet-data.mimiciii_clinical.admissions`\n",
        "- `physionet-data.mimiciii_clinical.patients`\n",
        "\n",
        "Again, check the [MIMIC site](https://mimic.physionet.org/gettingstarted/overview/) and [`MIMIC-code` GitHub repo](https://github.com/MIT-LCP/mimic-code/tree/master/concepts) for more information about each of the clinical and derived tables."
      ]
    },
    {
      "cell_type": "code",
      "metadata": {
        "id": "IxxODZ-b4zty",
        "colab_type": "code",
        "colab": {}
      },
      "source": [
        "sql_cohort <- \n",
        "\"\n",
        "    SELECT DISTINCT \n",
        "        ic.subject_id,\n",
        "        ic.hadm_id,\n",
        "        ic.icustay_id,\n",
        "        CASE WHEN ad.language='ENGL' THEN 1 ELSE 0 END AS english,\n",
        "        ROUND(CAST(LEAST(\n",
        "            DATETIME_DIFF(ic.intime, pt.dob, SECOND) / (60*60*24*365.242),\n",
        "            91.4) AS NUMERIC), 1\n",
        "        ) AS age,\n",
        "        CASE\n",
        "            WHEN pt.gender='M' THEN 1\n",
        "            WHEN pt.gender='F' THEN 0\n",
        "            ELSE NULL\n",
        "        END AS male,\n",
        "        ad.ethnicity,\n",
        "        ad.marital_status,\n",
        "        ad.religion,\n",
        "        ad.insurance,\n",
        "        ad.diagnosis,\n",
        "        ad.admission_type,\n",
        "        ad.admission_location,\n",
        "        ad.admittime AS hosp_admittime,\n",
        "        ad.dischtime AS hosp_dischtime,\n",
        "        ROUND(CAST(DATETIME_DIFF(ad.dischtime, ad.admittime, SECOND) / (60*60*24)\n",
        "            AS NUMERIC), 4\n",
        "        ) AS los_hospital,\n",
        "        ic.first_careunit,\n",
        "        ic.intime AS icu_intime,\n",
        "        ic.outtime AS icu_outtime,\n",
        "        ic.los AS los_icu\n",
        "    FROM `physionet-data.mimiciii_clinical.icustays` ic\n",
        "        INNER JOIN `physionet-data.mimiciii_clinical.admissions` ad \n",
        "            ON ad.hadm_id = ic.hadm_id\n",
        "        INNER JOIN `physionet-data.mimiciii_clinical.patients` pt \n",
        "            ON ic.subject_id = pt.subject_id\n",
        "    WHERE ad.hospital_expire_flag = 1\n",
        "        AND LOWER(ad.diagnosis) NOT LIKE 'organ donor account%'\n",
        "        AND ic.dbsource = 'metavision'\n",
        "        AND ad.language IS NOT NULL\n",
        "        AND ad.has_chartevents_data = 1\n",
        "    ORDER BY 1\n",
        "\"\n",
        "\n",
        "bq_cohort <- bq_runsql(sql_cohort)"
      ],
      "execution_count": 0,
      "outputs": []
    },
    {
      "cell_type": "markdown",
      "metadata": {
        "id": "W7ZiWCbT5Loe",
        "colab_type": "text"
      },
      "source": [
        "The above table includes multiple ICU stays (`icustay_id`) for each hospital admission (`hadm_id`). For the purposes of our analysis, we will only be looking at the *first* ICU stay of each hospital admission. \n",
        "\n",
        "While we could do directly in R, we'll determine the set of `icustay_id`s which correspond to the first ICU stay of each hospital admission using a query to BigQuery."
      ]
    },
    {
      "cell_type": "code",
      "metadata": {
        "id": "HHM0f0TXnNZB",
        "colab_type": "code",
        "colab": {}
      },
      "source": [
        "sql_firststays <- \n",
        "\"\n",
        "SELECT FIRST_VALUE(icustay_id) OVER w AS icustay_id\n",
        "FROM `physionet-data.mimiciii_clinical.icustays`\n",
        "WINDOW w AS (PARTITION BY hadm_id ORDER BY intime ASC)\n",
        "\"\n",
        "\n",
        "bq_firststays <- bq_runsql(sql_firststays)\n",
        "\n",
        "## make distinct since table includes duplicated rows\n",
        "bq_firststays <- dplyr::distinct(bq_firststays)"
      ],
      "execution_count": 0,
      "outputs": []
    },
    {
      "cell_type": "markdown",
      "metadata": {
        "id": "FdxEUkMjz3vw",
        "colab_type": "text"
      },
      "source": [
        "Now, we use an `inner_join` to subset our cohort to just the first stay of each admission."
      ]
    },
    {
      "cell_type": "code",
      "metadata": {
        "id": "4rH7WgQ1DenE",
        "colab_type": "code",
        "colab": {}
      },
      "source": [
        "cohort <- bq_cohort %>%\n",
        "    dplyr::inner_join(bq_firststays, by = \"icustay_id\")"
      ],
      "execution_count": 0,
      "outputs": []
    },
    {
      "cell_type": "markdown",
      "metadata": {
        "id": "cPgLL1F5Dtjb",
        "colab_type": "text"
      },
      "source": [
        "Check the number of ICU stays we have in our cohort."
      ]
    },
    {
      "cell_type": "code",
      "metadata": {
        "id": "_x-slA9gEpTM",
        "colab_type": "code",
        "outputId": "16d1ee5f-ec09-44b2-8257-0f06021c8431",
        "colab": {
          "base_uri": "https://localhost:8080/",
          "height": 33
        }
      },
      "source": [
        "dim(cohort)"
      ],
      "execution_count": 175,
      "outputs": [
        {
          "output_type": "display_data",
          "data": {
            "text/plain": [
              "[1] 2285   20"
            ],
            "text/latex": "\\begin{enumerate*}\n\\item 2285\n\\item 20\n\\end{enumerate*}\n",
            "text/markdown": "1. 2285\n2. 20\n\n\n",
            "text/html": [
              "<style>\n",
              ".list-inline {list-style: none; margin:0; padding: 0}\n",
              ".list-inline>li {display: inline-block}\n",
              ".list-inline>li:not(:last-child)::after {content: \"\\00b7\"; padding: 0 .5ex}\n",
              "</style>\n",
              "<ol class=list-inline><li>2285</li><li>20</li></ol>\n"
            ]
          },
          "metadata": {
            "tags": []
          }
        }
      ]
    },
    {
      "cell_type": "markdown",
      "metadata": {
        "id": "VvwPYzFgduRp",
        "colab_type": "text"
      },
      "source": [
        "That's still a sizeable number of observations!"
      ]
    },
    {
      "cell_type": "markdown",
      "metadata": {
        "id": "qWE0Tr7kViYy",
        "colab_type": "text"
      },
      "source": [
        "# Extraction (prelude)\n",
        "\n",
        "Now that we've extracted and defined our primary patient cohort along with several patient-level features, we will add additional features/covariates pulled from separate tables (vital & lab values, sepsis-3, ventilation status) to control for additioadmissions-levelcovariates and analyze our outcomes (e.g. invasive procedures) during modelling. \n",
        "\n",
        "But why controlling for covariates? \n",
        "\n",
        "Our problem definition is to analyze whether English vs. non-English speaking patients received different (or more invasive) treatment. What if a patient needed more invasive treatments (such as ventilation) because of other reasons, e.g. organ failure at admission? To account for this, we need to add covariates (variables capturing the state of a patient) to our model to adjust for whether a treatment was ordered due to a more severe patient state when studying the relationship with language.\n",
        "\n",
        "The MIMIC repository fortunately already provides some SQL code and derived tables for extracting these variables/outcomes (e.g. vitals, labs, ventilation events). Before running those extraction SQL queries and building our design matrix, we'll quickly cover how features like blood pressure, heart rate etc. are actually extracted from MIMIC."
      ]
    },
    {
      "cell_type": "markdown",
      "metadata": {
        "id": "XnKzYmRwZk1K",
        "colab_type": "text"
      },
      "source": [
        "### `chartevents` and _ItemIDs_\n",
        "MIMIC has two central tables which contain most of the structured vital and lab data called:\n",
        "\n",
        "- `physionet-data.mimiciii_clinical.chartevents` (`chartevents`) and\n",
        "- `physionet-data.mimiciii_clinical.labevents` (`labevents`).\n",
        "\n",
        "Those tables have roughly the following schema:\n",
        "\n",
        "| Patient ID | Admission ID | ICU Stay ID | Timestamp    | ItemID | Value | Unit               |\n",
        "|------------|--------------|-------------|--------------|--------|-------|--------------------|\n",
        "| 1          | 1            | 1           | Jan 1st, 1pm | 1      | 80    | bpm                |\n",
        "| 2          | 2            | 2           | Jan 2nd, 2pm | 2      | 13    | breaths per minute |\n"
      ]
    },
    {
      "cell_type": "markdown",
      "metadata": {
        "id": "X9gtdX74cRCP",
        "colab_type": "text"
      },
      "source": [
        "The first three columns specify:\n",
        "- the *patient*, \n",
        "- the *hospital admission* (a patient could have multiple hospital admissions) and \n",
        "- the *ICU admission* (there can be multiple ICU admissions during each hospital stay). \n",
        "\n",
        "The fourth column specifies the administration timestamp when the the event occurred or when the lab value was entered into the EHR. \n",
        "\n",
        "Columns 5 to 7 contain the most important part of each row: the actual value which is charted in this row. For example, _ItemID_: `1` in the first row in the table above denotes the heart rate for _patientID_: `1`, charted at `Jan 1st, 1pm`, which is `80` `bpm`. The next row denotes denotes a patient who had a respiration rate (_itemID_: `2`) of `13` `breaths per minute` at `Jan 2nd, 2pm`. \n",
        "\n",
        "You might be wondering how we knew _itemID_: `1` corresponded to \"heart rate\". Good question! This information is stored in a separate `d_items` table in MIMIC-III which maps from _itemID_ values to _labels_. We'll explore this more below.\n",
        "\n",
        "Let's take a quick look at some of the real entries in the `chartevents` table in MIMIC-III. (We're using the `LIMIT` statement in our SQL query to only show the first 10 entries in this table.)"
      ]
    },
    {
      "cell_type": "code",
      "metadata": {
        "id": "G441JQBWkQ4x",
        "colab_type": "code",
        "outputId": "2d33365a-26a2-4fdc-beed-84a93e2adc98",
        "colab": {
          "base_uri": "https://localhost:8080/",
          "height": 245
        }
      },
      "source": [
        "sql <- \"\n",
        "SELECT subject_id, hadm_id, icustay_id, charttime, itemid, value, valueuom\n",
        "FROM `physionet-data.mimiciii_clinical.chartevents`\n",
        "ORDER BY charttime\n",
        "LIMIT 10\n",
        "\"\n",
        "\n",
        "bq_runsql(sql)"
      ],
      "execution_count": 176,
      "outputs": [
        {
          "output_type": "display_data",
          "data": {
            "text/plain": [
              "   subject_id hadm_id icustay_id charttime           itemid value         \n",
              "1  82574      118464  202134     2100-06-07 20:00:00 226543 Roman Catholic\n",
              "2  82574      118464  202134     2100-06-07 20:00:00 226544 English       \n",
              "3  82574      118464  202134     2100-06-07 20:00:00 226381 Single        \n",
              "4  82574      118464  202134     2100-06-07 20:00:00 227378 CC6D          \n",
              "5  82574      118464  202134     2100-06-07 20:26:00 226381 Single        \n",
              "6  82574      118464  202134     2100-06-07 20:26:00 226543 Roman Catholic\n",
              "7  82574      118464  202134     2100-06-07 20:26:00 226544 English       \n",
              "8  82574      118464  202134     2100-06-07 23:06:00 226381 Single        \n",
              "9  82574      118464  202134     2100-06-07 23:06:00 226543 Roman Catholic\n",
              "10 82574      118464  202134     2100-06-07 23:06:00 227378 4I            \n",
              "   valueuom\n",
              "1  NA      \n",
              "2  NA      \n",
              "3  NA      \n",
              "4  NA      \n",
              "5  NA      \n",
              "6  NA      \n",
              "7  NA      \n",
              "8  NA      \n",
              "9  NA      \n",
              "10 NA      "
            ],
            "text/latex": "A tibble: 10 × 7\n\\begin{tabular}{lllllll}\n subject\\_id & hadm\\_id & icustay\\_id & charttime & itemid & value & valueuom\\\\\n <int> & <int> & <int> & <dttm> & <int> & <chr> & <chr>\\\\\n\\hline\n\t 82574 & 118464 & 202134 & 2100-06-07 20:00:00 & 226543 & Roman Catholic & NA\\\\\n\t 82574 & 118464 & 202134 & 2100-06-07 20:00:00 & 226544 & English        & NA\\\\\n\t 82574 & 118464 & 202134 & 2100-06-07 20:00:00 & 226381 & Single         & NA\\\\\n\t 82574 & 118464 & 202134 & 2100-06-07 20:00:00 & 227378 & CC6D           & NA\\\\\n\t 82574 & 118464 & 202134 & 2100-06-07 20:26:00 & 226381 & Single         & NA\\\\\n\t 82574 & 118464 & 202134 & 2100-06-07 20:26:00 & 226543 & Roman Catholic & NA\\\\\n\t 82574 & 118464 & 202134 & 2100-06-07 20:26:00 & 226544 & English        & NA\\\\\n\t 82574 & 118464 & 202134 & 2100-06-07 23:06:00 & 226381 & Single         & NA\\\\\n\t 82574 & 118464 & 202134 & 2100-06-07 23:06:00 & 226543 & Roman Catholic & NA\\\\\n\t 82574 & 118464 & 202134 & 2100-06-07 23:06:00 & 227378 & 4I             & NA\\\\\n\\end{tabular}\n",
            "text/markdown": "\nA tibble: 10 × 7\n\n| subject_id &lt;int&gt; | hadm_id &lt;int&gt; | icustay_id &lt;int&gt; | charttime &lt;dttm&gt; | itemid &lt;int&gt; | value &lt;chr&gt; | valueuom &lt;chr&gt; |\n|---|---|---|---|---|---|---|\n| 82574 | 118464 | 202134 | 2100-06-07 20:00:00 | 226543 | Roman Catholic | NA |\n| 82574 | 118464 | 202134 | 2100-06-07 20:00:00 | 226544 | English        | NA |\n| 82574 | 118464 | 202134 | 2100-06-07 20:00:00 | 226381 | Single         | NA |\n| 82574 | 118464 | 202134 | 2100-06-07 20:00:00 | 227378 | CC6D           | NA |\n| 82574 | 118464 | 202134 | 2100-06-07 20:26:00 | 226381 | Single         | NA |\n| 82574 | 118464 | 202134 | 2100-06-07 20:26:00 | 226543 | Roman Catholic | NA |\n| 82574 | 118464 | 202134 | 2100-06-07 20:26:00 | 226544 | English        | NA |\n| 82574 | 118464 | 202134 | 2100-06-07 23:06:00 | 226381 | Single         | NA |\n| 82574 | 118464 | 202134 | 2100-06-07 23:06:00 | 226543 | Roman Catholic | NA |\n| 82574 | 118464 | 202134 | 2100-06-07 23:06:00 | 227378 | 4I             | NA |\n\n",
            "text/html": [
              "<table>\n",
              "<caption>A tibble: 10 × 7</caption>\n",
              "<thead>\n",
              "\t<tr><th scope=col>subject_id</th><th scope=col>hadm_id</th><th scope=col>icustay_id</th><th scope=col>charttime</th><th scope=col>itemid</th><th scope=col>value</th><th scope=col>valueuom</th></tr>\n",
              "\t<tr><th scope=col>&lt;int&gt;</th><th scope=col>&lt;int&gt;</th><th scope=col>&lt;int&gt;</th><th scope=col>&lt;dttm&gt;</th><th scope=col>&lt;int&gt;</th><th scope=col>&lt;chr&gt;</th><th scope=col>&lt;chr&gt;</th></tr>\n",
              "</thead>\n",
              "<tbody>\n",
              "\t<tr><td>82574</td><td>118464</td><td>202134</td><td>2100-06-07 20:00:00</td><td>226543</td><td>Roman Catholic</td><td>NA</td></tr>\n",
              "\t<tr><td>82574</td><td>118464</td><td>202134</td><td>2100-06-07 20:00:00</td><td>226544</td><td>English       </td><td>NA</td></tr>\n",
              "\t<tr><td>82574</td><td>118464</td><td>202134</td><td>2100-06-07 20:00:00</td><td>226381</td><td>Single        </td><td>NA</td></tr>\n",
              "\t<tr><td>82574</td><td>118464</td><td>202134</td><td>2100-06-07 20:00:00</td><td>227378</td><td>CC6D          </td><td>NA</td></tr>\n",
              "\t<tr><td>82574</td><td>118464</td><td>202134</td><td>2100-06-07 20:26:00</td><td>226381</td><td>Single        </td><td>NA</td></tr>\n",
              "\t<tr><td>82574</td><td>118464</td><td>202134</td><td>2100-06-07 20:26:00</td><td>226543</td><td>Roman Catholic</td><td>NA</td></tr>\n",
              "\t<tr><td>82574</td><td>118464</td><td>202134</td><td>2100-06-07 20:26:00</td><td>226544</td><td>English       </td><td>NA</td></tr>\n",
              "\t<tr><td>82574</td><td>118464</td><td>202134</td><td>2100-06-07 23:06:00</td><td>226381</td><td>Single        </td><td>NA</td></tr>\n",
              "\t<tr><td>82574</td><td>118464</td><td>202134</td><td>2100-06-07 23:06:00</td><td>226543</td><td>Roman Catholic</td><td>NA</td></tr>\n",
              "\t<tr><td>82574</td><td>118464</td><td>202134</td><td>2100-06-07 23:06:00</td><td>227378</td><td>4I            </td><td>NA</td></tr>\n",
              "</tbody>\n",
              "</table>\n"
            ]
          },
          "metadata": {
            "tags": []
          }
        }
      ]
    },
    {
      "cell_type": "markdown",
      "metadata": {
        "id": "hFLKYqvpkv2Q",
        "colab_type": "text"
      },
      "source": [
        "In the first 10 rows that we downloaded, you can see that those entries/item ids probably encode the religion, the marital state and the language of a patient."
      ]
    },
    {
      "cell_type": "markdown",
      "metadata": {
        "id": "tcfa_bEF2FTA",
        "colab_type": "text"
      },
      "source": [
        "# Feature extraction"
      ]
    },
    {
      "cell_type": "markdown",
      "metadata": {
        "id": "ZQb4zMidBHat",
        "colab_type": "text"
      },
      "source": [
        "## First day vitals/labs"
      ]
    },
    {
      "cell_type": "markdown",
      "metadata": {
        "id": "FW1zC8oTkCbL",
        "colab_type": "text"
      },
      "source": [
        "Before we start to extract vital/labs for each patient, we need to answer two different questions: \n",
        "1. which item ids correspond to which vital/lab value in _chartevents_ and _labevents_, and \n",
        "2. in which time window do we want to extract those items.\n",
        "\n",
        "While the second question depends on the actual context of the problem definition, the first one can be answered by looking into two other important tables in MIMIC: `d_items` (mentioned above) and `d_labitems`. Those tables contain the name of each vital and lab value charted/administered in the Beth Isreal ICU and map those names to their corresponding item ids. Let's have a look how one of those tables is structured:"
      ]
    },
    {
      "cell_type": "code",
      "metadata": {
        "id": "LX0Qd_nJiSfO",
        "colab_type": "code",
        "outputId": "71b0e168-f44a-420d-a203-5cf907094284",
        "colab": {
          "base_uri": "https://localhost:8080/",
          "height": 245
        }
      },
      "source": [
        "sql <- \"\n",
        "SELECT itemid, label\n",
        "FROM `physionet-data.mimiciii_clinical.d_items`\n",
        "ORDER BY itemid\n",
        "LIMIT 10\"\n",
        "\n",
        "bq_runsql(sql)"
      ],
      "execution_count": 177,
      "outputs": [
        {
          "output_type": "display_data",
          "data": {
            "text/plain": [
              "   itemid label                  \n",
              "1   1     % Inspir. Time         \n",
              "2   2     ABI (L)                \n",
              "3   3     ABI (R)                \n",
              "4   4     ABI Ankle BP [Right]   \n",
              "5   5     ABI Brachial BP [Right]\n",
              "6   6     ABP [Systolic]         \n",
              "7  24     ART Lumen Volume       \n",
              "8  25     AV Interval            \n",
              "9  26     AaDO2                  \n",
              "10 27     Abdominal Assessment   "
            ],
            "text/latex": "A tibble: 10 × 2\n\\begin{tabular}{ll}\n itemid & label\\\\\n <int> & <chr>\\\\\n\\hline\n\t  1 & \\% Inspir. Time         \\\\\n\t  2 & ABI (L)                \\\\\n\t  3 & ABI (R)                \\\\\n\t  4 & ABI Ankle BP {[}Right{]}   \\\\\n\t  5 & ABI Brachial BP {[}Right{]}\\\\\n\t  6 & ABP {[}Systolic{]}         \\\\\n\t 24 & ART Lumen Volume       \\\\\n\t 25 & AV Interval            \\\\\n\t 26 & AaDO2                  \\\\\n\t 27 & Abdominal Assessment   \\\\\n\\end{tabular}\n",
            "text/markdown": "\nA tibble: 10 × 2\n\n| itemid &lt;int&gt; | label &lt;chr&gt; |\n|---|---|\n|  1 | % Inspir. Time          |\n|  2 | ABI (L)                 |\n|  3 | ABI (R)                 |\n|  4 | ABI Ankle BP [Right]    |\n|  5 | ABI Brachial BP [Right] |\n|  6 | ABP [Systolic]          |\n| 24 | ART Lumen Volume        |\n| 25 | AV Interval             |\n| 26 | AaDO2                   |\n| 27 | Abdominal Assessment    |\n\n",
            "text/html": [
              "<table>\n",
              "<caption>A tibble: 10 × 2</caption>\n",
              "<thead>\n",
              "\t<tr><th scope=col>itemid</th><th scope=col>label</th></tr>\n",
              "\t<tr><th scope=col>&lt;int&gt;</th><th scope=col>&lt;chr&gt;</th></tr>\n",
              "</thead>\n",
              "<tbody>\n",
              "\t<tr><td> 1</td><td>% Inspir. Time         </td></tr>\n",
              "\t<tr><td> 2</td><td>ABI (L)                </td></tr>\n",
              "\t<tr><td> 3</td><td>ABI (R)                </td></tr>\n",
              "\t<tr><td> 4</td><td>ABI Ankle BP [Right]   </td></tr>\n",
              "\t<tr><td> 5</td><td>ABI Brachial BP [Right]</td></tr>\n",
              "\t<tr><td> 6</td><td>ABP [Systolic]         </td></tr>\n",
              "\t<tr><td>24</td><td>ART Lumen Volume       </td></tr>\n",
              "\t<tr><td>25</td><td>AV Interval            </td></tr>\n",
              "\t<tr><td>26</td><td>AaDO2                  </td></tr>\n",
              "\t<tr><td>27</td><td>Abdominal Assessment   </td></tr>\n",
              "</tbody>\n",
              "</table>\n"
            ]
          },
          "metadata": {
            "tags": []
          }
        }
      ]
    },
    {
      "cell_type": "code",
      "metadata": {
        "id": "2ZVYKoDbjgPw",
        "colab_type": "code",
        "outputId": "1dcce286-78e7-49bd-beec-78f821dbbd97",
        "colab": {
          "base_uri": "https://localhost:8080/",
          "height": 245
        }
      },
      "source": [
        "sql <- \"\n",
        "SELECT itemid, label\n",
        "FROM `physionet-data.mimiciii_clinical.d_labitems`\n",
        "ORDER BY itemid\n",
        "LIMIT 10\"\n",
        "\n",
        "bq_runsql(sql)"
      ],
      "execution_count": 178,
      "outputs": [
        {
          "output_type": "display_data",
          "data": {
            "text/plain": [
              "   itemid label                              \n",
              "1  50800  SPECIMEN TYPE                      \n",
              "2  50801  Alveolar-arterial Gradient         \n",
              "3  50802  Base Excess                        \n",
              "4  50803  Calculated Bicarbonate, Whole Blood\n",
              "5  50804  Calculated Total CO2               \n",
              "6  50805  Carboxyhemoglobin                  \n",
              "7  50806  Chloride, Whole Blood              \n",
              "8  50807  Comments                           \n",
              "9  50808  Free Calcium                       \n",
              "10 50809  Glucose                            "
            ],
            "text/latex": "A tibble: 10 × 2\n\\begin{tabular}{ll}\n itemid & label\\\\\n <int> & <chr>\\\\\n\\hline\n\t 50800 & SPECIMEN TYPE                      \\\\\n\t 50801 & Alveolar-arterial Gradient         \\\\\n\t 50802 & Base Excess                        \\\\\n\t 50803 & Calculated Bicarbonate, Whole Blood\\\\\n\t 50804 & Calculated Total CO2               \\\\\n\t 50805 & Carboxyhemoglobin                  \\\\\n\t 50806 & Chloride, Whole Blood              \\\\\n\t 50807 & Comments                           \\\\\n\t 50808 & Free Calcium                       \\\\\n\t 50809 & Glucose                            \\\\\n\\end{tabular}\n",
            "text/markdown": "\nA tibble: 10 × 2\n\n| itemid &lt;int&gt; | label &lt;chr&gt; |\n|---|---|\n| 50800 | SPECIMEN TYPE                       |\n| 50801 | Alveolar-arterial Gradient          |\n| 50802 | Base Excess                         |\n| 50803 | Calculated Bicarbonate, Whole Blood |\n| 50804 | Calculated Total CO2                |\n| 50805 | Carboxyhemoglobin                   |\n| 50806 | Chloride, Whole Blood               |\n| 50807 | Comments                            |\n| 50808 | Free Calcium                        |\n| 50809 | Glucose                             |\n\n",
            "text/html": [
              "<table>\n",
              "<caption>A tibble: 10 × 2</caption>\n",
              "<thead>\n",
              "\t<tr><th scope=col>itemid</th><th scope=col>label</th></tr>\n",
              "\t<tr><th scope=col>&lt;int&gt;</th><th scope=col>&lt;chr&gt;</th></tr>\n",
              "</thead>\n",
              "<tbody>\n",
              "\t<tr><td>50800</td><td>SPECIMEN TYPE                      </td></tr>\n",
              "\t<tr><td>50801</td><td>Alveolar-arterial Gradient         </td></tr>\n",
              "\t<tr><td>50802</td><td>Base Excess                        </td></tr>\n",
              "\t<tr><td>50803</td><td>Calculated Bicarbonate, Whole Blood</td></tr>\n",
              "\t<tr><td>50804</td><td>Calculated Total CO2               </td></tr>\n",
              "\t<tr><td>50805</td><td>Carboxyhemoglobin                  </td></tr>\n",
              "\t<tr><td>50806</td><td>Chloride, Whole Blood              </td></tr>\n",
              "\t<tr><td>50807</td><td>Comments                           </td></tr>\n",
              "\t<tr><td>50808</td><td>Free Calcium                       </td></tr>\n",
              "\t<tr><td>50809</td><td>Glucose                            </td></tr>\n",
              "</tbody>\n",
              "</table>\n"
            ]
          },
          "metadata": {
            "tags": []
          }
        }
      ]
    },
    {
      "cell_type": "markdown",
      "metadata": {
        "id": "4RoiKWLjjTbY",
        "colab_type": "text"
      },
      "source": [
        "As you can see, this table contains even the smallest events which can occur in the `chartevents` / `labevents` tables. The columns in those table, obviously, now map each vital/drug name to one _itemid_ which can now be extracted from the `chartevents` (for the `d_items` table) and `labevents` (for the `d_labitems` table) tables. \n",
        "\n",
        "Let's say we now want to extract the Inspiration Time (%) (first entry in the `d_items` table above) from `chartevents`. \n",
        "\n",
        "We could use the following SQL code to extract those events:"
      ]
    },
    {
      "cell_type": "code",
      "metadata": {
        "id": "jECThX8NjOeV",
        "colab_type": "code",
        "outputId": "e5509a59-973e-4fd1-c37a-a5dde81cbe95",
        "colab": {
          "base_uri": "https://localhost:8080/",
          "height": 245
        }
      },
      "source": [
        "sql <- \"\n",
        "SELECT subject_id, hadm_id, icustay_id, charttime, itemid, value, valueuom\n",
        "FROM `physionet-data.mimiciii_clinical.chartevents`\n",
        "WHERE itemid = 1\n",
        "ORDER BY charttime\n",
        "LIMIT 10\"\n",
        "\n",
        "bq_runsql(sql)"
      ],
      "execution_count": 179,
      "outputs": [
        {
          "output_type": "display_data",
          "data": {
            "text/plain": [
              "   subject_id hadm_id icustay_id charttime           itemid value valueuom\n",
              "1  20957      113808  246035     2100-06-26 17:56:00 1      33%   NA      \n",
              "2  20957      113808  246035     2100-06-26 22:00:00 1      NA    NA      \n",
              "3  20374      133497  269025     2100-08-16 13:17:00 1      25%   NA      \n",
              "4  20374      133497  269025     2100-08-16 15:00:00 1      25%   NA      \n",
              "5  11425      194366  288272     2100-09-09 14:00:00 1      33%   NA      \n",
              "6  11425      194366  288272     2100-09-09 19:00:00 1      33%   NA      \n",
              "7  11425      194366  288272     2100-09-09 22:16:00 1      33%   NA      \n",
              "8  11425      194366  288272     2100-09-10 04:00:00 1      33%   NA      \n",
              "9  11425      194366  288272     2100-09-10 06:00:00 1      25%   NA      \n",
              "10 11425      194366  288272     2100-09-10 11:00:00 1      25%   NA      "
            ],
            "text/latex": "A tibble: 10 × 7\n\\begin{tabular}{lllllll}\n subject\\_id & hadm\\_id & icustay\\_id & charttime & itemid & value & valueuom\\\\\n <int> & <int> & <int> & <dttm> & <int> & <chr> & <chr>\\\\\n\\hline\n\t 20957 & 113808 & 246035 & 2100-06-26 17:56:00 & 1 & 33\\% & NA\\\\\n\t 20957 & 113808 & 246035 & 2100-06-26 22:00:00 & 1 & NA  & NA\\\\\n\t 20374 & 133497 & 269025 & 2100-08-16 13:17:00 & 1 & 25\\% & NA\\\\\n\t 20374 & 133497 & 269025 & 2100-08-16 15:00:00 & 1 & 25\\% & NA\\\\\n\t 11425 & 194366 & 288272 & 2100-09-09 14:00:00 & 1 & 33\\% & NA\\\\\n\t 11425 & 194366 & 288272 & 2100-09-09 19:00:00 & 1 & 33\\% & NA\\\\\n\t 11425 & 194366 & 288272 & 2100-09-09 22:16:00 & 1 & 33\\% & NA\\\\\n\t 11425 & 194366 & 288272 & 2100-09-10 04:00:00 & 1 & 33\\% & NA\\\\\n\t 11425 & 194366 & 288272 & 2100-09-10 06:00:00 & 1 & 25\\% & NA\\\\\n\t 11425 & 194366 & 288272 & 2100-09-10 11:00:00 & 1 & 25\\% & NA\\\\\n\\end{tabular}\n",
            "text/markdown": "\nA tibble: 10 × 7\n\n| subject_id &lt;int&gt; | hadm_id &lt;int&gt; | icustay_id &lt;int&gt; | charttime &lt;dttm&gt; | itemid &lt;int&gt; | value &lt;chr&gt; | valueuom &lt;chr&gt; |\n|---|---|---|---|---|---|---|\n| 20957 | 113808 | 246035 | 2100-06-26 17:56:00 | 1 | 33% | NA |\n| 20957 | 113808 | 246035 | 2100-06-26 22:00:00 | 1 | NA  | NA |\n| 20374 | 133497 | 269025 | 2100-08-16 13:17:00 | 1 | 25% | NA |\n| 20374 | 133497 | 269025 | 2100-08-16 15:00:00 | 1 | 25% | NA |\n| 11425 | 194366 | 288272 | 2100-09-09 14:00:00 | 1 | 33% | NA |\n| 11425 | 194366 | 288272 | 2100-09-09 19:00:00 | 1 | 33% | NA |\n| 11425 | 194366 | 288272 | 2100-09-09 22:16:00 | 1 | 33% | NA |\n| 11425 | 194366 | 288272 | 2100-09-10 04:00:00 | 1 | 33% | NA |\n| 11425 | 194366 | 288272 | 2100-09-10 06:00:00 | 1 | 25% | NA |\n| 11425 | 194366 | 288272 | 2100-09-10 11:00:00 | 1 | 25% | NA |\n\n",
            "text/html": [
              "<table>\n",
              "<caption>A tibble: 10 × 7</caption>\n",
              "<thead>\n",
              "\t<tr><th scope=col>subject_id</th><th scope=col>hadm_id</th><th scope=col>icustay_id</th><th scope=col>charttime</th><th scope=col>itemid</th><th scope=col>value</th><th scope=col>valueuom</th></tr>\n",
              "\t<tr><th scope=col>&lt;int&gt;</th><th scope=col>&lt;int&gt;</th><th scope=col>&lt;int&gt;</th><th scope=col>&lt;dttm&gt;</th><th scope=col>&lt;int&gt;</th><th scope=col>&lt;chr&gt;</th><th scope=col>&lt;chr&gt;</th></tr>\n",
              "</thead>\n",
              "<tbody>\n",
              "\t<tr><td>20957</td><td>113808</td><td>246035</td><td>2100-06-26 17:56:00</td><td>1</td><td>33%</td><td>NA</td></tr>\n",
              "\t<tr><td>20957</td><td>113808</td><td>246035</td><td>2100-06-26 22:00:00</td><td>1</td><td>NA </td><td>NA</td></tr>\n",
              "\t<tr><td>20374</td><td>133497</td><td>269025</td><td>2100-08-16 13:17:00</td><td>1</td><td>25%</td><td>NA</td></tr>\n",
              "\t<tr><td>20374</td><td>133497</td><td>269025</td><td>2100-08-16 15:00:00</td><td>1</td><td>25%</td><td>NA</td></tr>\n",
              "\t<tr><td>11425</td><td>194366</td><td>288272</td><td>2100-09-09 14:00:00</td><td>1</td><td>33%</td><td>NA</td></tr>\n",
              "\t<tr><td>11425</td><td>194366</td><td>288272</td><td>2100-09-09 19:00:00</td><td>1</td><td>33%</td><td>NA</td></tr>\n",
              "\t<tr><td>11425</td><td>194366</td><td>288272</td><td>2100-09-09 22:16:00</td><td>1</td><td>33%</td><td>NA</td></tr>\n",
              "\t<tr><td>11425</td><td>194366</td><td>288272</td><td>2100-09-10 04:00:00</td><td>1</td><td>33%</td><td>NA</td></tr>\n",
              "\t<tr><td>11425</td><td>194366</td><td>288272</td><td>2100-09-10 06:00:00</td><td>1</td><td>25%</td><td>NA</td></tr>\n",
              "\t<tr><td>11425</td><td>194366</td><td>288272</td><td>2100-09-10 11:00:00</td><td>1</td><td>25%</td><td>NA</td></tr>\n",
              "</tbody>\n",
              "</table>\n"
            ]
          },
          "metadata": {
            "tags": []
          }
        }
      ]
    },
    {
      "cell_type": "markdown",
      "metadata": {
        "id": "wKB1ka8Nl2aG",
        "colab_type": "text"
      },
      "source": [
        "As you can see, we now filtered the `chartevents` table for the first 10 inspiration rates (%) for multiple patients. Note that the charttimes have been shifted to the future (year 2100) to de-identify the patients in MIMIC.\n",
        "\n",
        "Extracting reliable item IDs from MIMIC for, e.g. extracting heart rates, respiration rates etc. is a really tedious task since sometimes there are multiple item ids describing the same vital feature, so bear in mind that collecting item IDs for particular features can take a lot of time! \n",
        "\n",
        "Since we don't have enough time today to collect all of those co-variates manually, we fortunately can use ready-to-use MIMIC SQL code for that purpose. In the official MIMIC code repository [HERE](https://github.com/MIT-LCP/mimic-code) (under the _concepts_ folder) you can find tons of SQL code which already extracts vitals, labs, dialysis events, mechanical ventilation data etc. - and that's why we now want to make use of that code! \n",
        "\n",
        "Fortunately, all those SQL queries have already been executed by the MIT team and have been added to the `mimiciii_derived` table in the BigQuery MIMIC dataset, so we don't need to re-run those queries. For instance, the SQL query [`vitals-first-day.sql`](https://github.com/MIT-LCP/mimic-code/blob/master/concepts/firstday/vitals-first-day.sql) already extracts all relevant vital values for the first day of each ICU admission in MIMIC, so let's use the resulting table for our own cohort. This is the output of the table when limiting the query to the first 10 rows:"
      ]
    },
    {
      "cell_type": "code",
      "metadata": {
        "id": "X_IlojV8plqF",
        "colab_type": "code",
        "outputId": "20b65d4e-78f3-456e-8e7e-f107531addb1",
        "colab": {
          "base_uri": "https://localhost:8080/",
          "height": 265
        }
      },
      "source": [
        "sql <- \"\n",
        "SELECT *\n",
        "FROM `physionet-data.mimiciii_derived.vitalsfirstday`\n",
        "LIMIT 10\"\n",
        "\n",
        "bq_runsql(sql)"
      ],
      "execution_count": 180,
      "outputs": [
        {
          "output_type": "display_data",
          "data": {
            "text/plain": [
              "   subject_id hadm_id icustay_id HeartRate_Min HeartRate_Max HeartRate_Mean\n",
              "1   2         163353  243653     140           140           140.00000     \n",
              "2   3         145834  211552      75           168           111.78571     \n",
              "3   4         185777  294638      74           111            89.21739     \n",
              "4   6         107064  228232      76           100            84.16000     \n",
              "5   7         118037  236754     115           121           118.00000     \n",
              "6   8         159514  262299     125           154           138.29630     \n",
              "7   9         150750  220597      82           111            92.50000     \n",
              "8  10         184167  288409     128           162           147.56000     \n",
              "9  11         194540  229441      70           101            84.95833     \n",
              "10 12         112213  232669      71           105            85.82857     \n",
              "   SysBP_Min SysBP_Max SysBP_Mean DiasBP_Min ⋯ RespRate_Mean TempC_Min\n",
              "1   NA        NA             NA   NA         ⋯       NA            NA \n",
              "2   64       217       102.9600   28         ⋯ 17.36111      36.20000 \n",
              "3   97       139       118.0000   55         ⋯ 25.35294      36.33333 \n",
              "4  127       187       153.6471   40         ⋯ 12.32000      36.00000 \n",
              "5   NA        NA             NA   NA         ⋯       NA            NA \n",
              "6   NA        NA             NA   NA         ⋯       NA            NA \n",
              "7  106       217       159.3750   53         ⋯ 14.36170      35.50000 \n",
              "8   NA        NA             NA   NA         ⋯       NA            NA \n",
              "9   91       118       105.1667   38         ⋯ 18.04545      36.33333 \n",
              "10  98       165       128.2286   55         ⋯ 15.23810      35.50000 \n",
              "   TempC_Max TempC_Mean SpO2_Min SpO2_Max SpO2_Mean Glucose_Min Glucose_Max\n",
              "1        NA        NA   NA        NA            NA   NA          NA        \n",
              "2  37.60000  37.00288   74       100      97.87097  136         306        \n",
              "3  37.44445  36.84445   91       100      97.50000  153         266        \n",
              "4  37.33333  36.51515   84       100      99.20000  102         181        \n",
              "5        NA        NA   NA        NA            NA   NA          NA        \n",
              "6        NA        NA   NA        NA            NA   NA          NA        \n",
              "7  37.88889  37.04938   95       100      97.68293  151         178        \n",
              "8        NA        NA   NA        NA            NA   NA          NA        \n",
              "9  37.38889  36.80556   93        99      96.50000  120         149        \n",
              "10 37.66667  36.61616   94       100      96.48387   79         191        \n",
              "   Glucose_Mean\n",
              "1        NA    \n",
              "2  232.4167    \n",
              "3  199.6667    \n",
              "4  148.5000    \n",
              "5        NA    \n",
              "6        NA    \n",
              "7  161.2857    \n",
              "8        NA    \n",
              "9  129.8750    \n",
              "10 138.2800    "
            ],
            "text/latex": "A tibble: 10 × 27\n\\begin{tabular}{lllllllllllllllllllll}\n subject\\_id & hadm\\_id & icustay\\_id & HeartRate\\_Min & HeartRate\\_Max & HeartRate\\_Mean & SysBP\\_Min & SysBP\\_Max & SysBP\\_Mean & DiasBP\\_Min & ⋯ & RespRate\\_Mean & TempC\\_Min & TempC\\_Max & TempC\\_Mean & SpO2\\_Min & SpO2\\_Max & SpO2\\_Mean & Glucose\\_Min & Glucose\\_Max & Glucose\\_Mean\\\\\n <int> & <int> & <int> & <dbl> & <dbl> & <dbl> & <dbl> & <dbl> & <dbl> & <dbl> & ⋯ & <dbl> & <dbl> & <dbl> & <dbl> & <dbl> & <dbl> & <dbl> & <dbl> & <dbl> & <dbl>\\\\\n\\hline\n\t  2 & 163353 & 243653 & 140 & 140 & 140.00000 &  NA &  NA &       NA & NA & ⋯ &       NA &       NA &       NA &       NA & NA &  NA &       NA &  NA &  NA &       NA\\\\\n\t  3 & 145834 & 211552 &  75 & 168 & 111.78571 &  64 & 217 & 102.9600 & 28 & ⋯ & 17.36111 & 36.20000 & 37.60000 & 37.00288 & 74 & 100 & 97.87097 & 136 & 306 & 232.4167\\\\\n\t  4 & 185777 & 294638 &  74 & 111 &  89.21739 &  97 & 139 & 118.0000 & 55 & ⋯ & 25.35294 & 36.33333 & 37.44445 & 36.84445 & 91 & 100 & 97.50000 & 153 & 266 & 199.6667\\\\\n\t  6 & 107064 & 228232 &  76 & 100 &  84.16000 & 127 & 187 & 153.6471 & 40 & ⋯ & 12.32000 & 36.00000 & 37.33333 & 36.51515 & 84 & 100 & 99.20000 & 102 & 181 & 148.5000\\\\\n\t  7 & 118037 & 236754 & 115 & 121 & 118.00000 &  NA &  NA &       NA & NA & ⋯ &       NA &       NA &       NA &       NA & NA &  NA &       NA &  NA &  NA &       NA\\\\\n\t  8 & 159514 & 262299 & 125 & 154 & 138.29630 &  NA &  NA &       NA & NA & ⋯ &       NA &       NA &       NA &       NA & NA &  NA &       NA &  NA &  NA &       NA\\\\\n\t  9 & 150750 & 220597 &  82 & 111 &  92.50000 & 106 & 217 & 159.3750 & 53 & ⋯ & 14.36170 & 35.50000 & 37.88889 & 37.04938 & 95 & 100 & 97.68293 & 151 & 178 & 161.2857\\\\\n\t 10 & 184167 & 288409 & 128 & 162 & 147.56000 &  NA &  NA &       NA & NA & ⋯ &       NA &       NA &       NA &       NA & NA &  NA &       NA &  NA &  NA &       NA\\\\\n\t 11 & 194540 & 229441 &  70 & 101 &  84.95833 &  91 & 118 & 105.1667 & 38 & ⋯ & 18.04545 & 36.33333 & 37.38889 & 36.80556 & 93 &  99 & 96.50000 & 120 & 149 & 129.8750\\\\\n\t 12 & 112213 & 232669 &  71 & 105 &  85.82857 &  98 & 165 & 128.2286 & 55 & ⋯ & 15.23810 & 35.50000 & 37.66667 & 36.61616 & 94 & 100 & 96.48387 &  79 & 191 & 138.2800\\\\\n\\end{tabular}\n",
            "text/markdown": "\nA tibble: 10 × 27\n\n| subject_id &lt;int&gt; | hadm_id &lt;int&gt; | icustay_id &lt;int&gt; | HeartRate_Min &lt;dbl&gt; | HeartRate_Max &lt;dbl&gt; | HeartRate_Mean &lt;dbl&gt; | SysBP_Min &lt;dbl&gt; | SysBP_Max &lt;dbl&gt; | SysBP_Mean &lt;dbl&gt; | DiasBP_Min &lt;dbl&gt; | ⋯ ⋯ | RespRate_Mean &lt;dbl&gt; | TempC_Min &lt;dbl&gt; | TempC_Max &lt;dbl&gt; | TempC_Mean &lt;dbl&gt; | SpO2_Min &lt;dbl&gt; | SpO2_Max &lt;dbl&gt; | SpO2_Mean &lt;dbl&gt; | Glucose_Min &lt;dbl&gt; | Glucose_Max &lt;dbl&gt; | Glucose_Mean &lt;dbl&gt; |\n|---|---|---|---|---|---|---|---|---|---|---|---|---|---|---|---|---|---|---|---|---|\n|  2 | 163353 | 243653 | 140 | 140 | 140.00000 |  NA |  NA |       NA | NA | ⋯ |       NA |       NA |       NA |       NA | NA |  NA |       NA |  NA |  NA |       NA |\n|  3 | 145834 | 211552 |  75 | 168 | 111.78571 |  64 | 217 | 102.9600 | 28 | ⋯ | 17.36111 | 36.20000 | 37.60000 | 37.00288 | 74 | 100 | 97.87097 | 136 | 306 | 232.4167 |\n|  4 | 185777 | 294638 |  74 | 111 |  89.21739 |  97 | 139 | 118.0000 | 55 | ⋯ | 25.35294 | 36.33333 | 37.44445 | 36.84445 | 91 | 100 | 97.50000 | 153 | 266 | 199.6667 |\n|  6 | 107064 | 228232 |  76 | 100 |  84.16000 | 127 | 187 | 153.6471 | 40 | ⋯ | 12.32000 | 36.00000 | 37.33333 | 36.51515 | 84 | 100 | 99.20000 | 102 | 181 | 148.5000 |\n|  7 | 118037 | 236754 | 115 | 121 | 118.00000 |  NA |  NA |       NA | NA | ⋯ |       NA |       NA |       NA |       NA | NA |  NA |       NA |  NA |  NA |       NA |\n|  8 | 159514 | 262299 | 125 | 154 | 138.29630 |  NA |  NA |       NA | NA | ⋯ |       NA |       NA |       NA |       NA | NA |  NA |       NA |  NA |  NA |       NA |\n|  9 | 150750 | 220597 |  82 | 111 |  92.50000 | 106 | 217 | 159.3750 | 53 | ⋯ | 14.36170 | 35.50000 | 37.88889 | 37.04938 | 95 | 100 | 97.68293 | 151 | 178 | 161.2857 |\n| 10 | 184167 | 288409 | 128 | 162 | 147.56000 |  NA |  NA |       NA | NA | ⋯ |       NA |       NA |       NA |       NA | NA |  NA |       NA |  NA |  NA |       NA |\n| 11 | 194540 | 229441 |  70 | 101 |  84.95833 |  91 | 118 | 105.1667 | 38 | ⋯ | 18.04545 | 36.33333 | 37.38889 | 36.80556 | 93 |  99 | 96.50000 | 120 | 149 | 129.8750 |\n| 12 | 112213 | 232669 |  71 | 105 |  85.82857 |  98 | 165 | 128.2286 | 55 | ⋯ | 15.23810 | 35.50000 | 37.66667 | 36.61616 | 94 | 100 | 96.48387 |  79 | 191 | 138.2800 |\n\n",
            "text/html": [
              "<table>\n",
              "<caption>A tibble: 10 × 27</caption>\n",
              "<thead>\n",
              "\t<tr><th scope=col>subject_id</th><th scope=col>hadm_id</th><th scope=col>icustay_id</th><th scope=col>HeartRate_Min</th><th scope=col>HeartRate_Max</th><th scope=col>HeartRate_Mean</th><th scope=col>SysBP_Min</th><th scope=col>SysBP_Max</th><th scope=col>SysBP_Mean</th><th scope=col>DiasBP_Min</th><th scope=col>⋯</th><th scope=col>RespRate_Mean</th><th scope=col>TempC_Min</th><th scope=col>TempC_Max</th><th scope=col>TempC_Mean</th><th scope=col>SpO2_Min</th><th scope=col>SpO2_Max</th><th scope=col>SpO2_Mean</th><th scope=col>Glucose_Min</th><th scope=col>Glucose_Max</th><th scope=col>Glucose_Mean</th></tr>\n",
              "\t<tr><th scope=col>&lt;int&gt;</th><th scope=col>&lt;int&gt;</th><th scope=col>&lt;int&gt;</th><th scope=col>&lt;dbl&gt;</th><th scope=col>&lt;dbl&gt;</th><th scope=col>&lt;dbl&gt;</th><th scope=col>&lt;dbl&gt;</th><th scope=col>&lt;dbl&gt;</th><th scope=col>&lt;dbl&gt;</th><th scope=col>&lt;dbl&gt;</th><th scope=col>⋯</th><th scope=col>&lt;dbl&gt;</th><th scope=col>&lt;dbl&gt;</th><th scope=col>&lt;dbl&gt;</th><th scope=col>&lt;dbl&gt;</th><th scope=col>&lt;dbl&gt;</th><th scope=col>&lt;dbl&gt;</th><th scope=col>&lt;dbl&gt;</th><th scope=col>&lt;dbl&gt;</th><th scope=col>&lt;dbl&gt;</th><th scope=col>&lt;dbl&gt;</th></tr>\n",
              "</thead>\n",
              "<tbody>\n",
              "\t<tr><td> 2</td><td>163353</td><td>243653</td><td>140</td><td>140</td><td>140.00000</td><td> NA</td><td> NA</td><td>      NA</td><td>NA</td><td>⋯</td><td>      NA</td><td>      NA</td><td>      NA</td><td>      NA</td><td>NA</td><td> NA</td><td>      NA</td><td> NA</td><td> NA</td><td>      NA</td></tr>\n",
              "\t<tr><td> 3</td><td>145834</td><td>211552</td><td> 75</td><td>168</td><td>111.78571</td><td> 64</td><td>217</td><td>102.9600</td><td>28</td><td>⋯</td><td>17.36111</td><td>36.20000</td><td>37.60000</td><td>37.00288</td><td>74</td><td>100</td><td>97.87097</td><td>136</td><td>306</td><td>232.4167</td></tr>\n",
              "\t<tr><td> 4</td><td>185777</td><td>294638</td><td> 74</td><td>111</td><td> 89.21739</td><td> 97</td><td>139</td><td>118.0000</td><td>55</td><td>⋯</td><td>25.35294</td><td>36.33333</td><td>37.44445</td><td>36.84445</td><td>91</td><td>100</td><td>97.50000</td><td>153</td><td>266</td><td>199.6667</td></tr>\n",
              "\t<tr><td> 6</td><td>107064</td><td>228232</td><td> 76</td><td>100</td><td> 84.16000</td><td>127</td><td>187</td><td>153.6471</td><td>40</td><td>⋯</td><td>12.32000</td><td>36.00000</td><td>37.33333</td><td>36.51515</td><td>84</td><td>100</td><td>99.20000</td><td>102</td><td>181</td><td>148.5000</td></tr>\n",
              "\t<tr><td> 7</td><td>118037</td><td>236754</td><td>115</td><td>121</td><td>118.00000</td><td> NA</td><td> NA</td><td>      NA</td><td>NA</td><td>⋯</td><td>      NA</td><td>      NA</td><td>      NA</td><td>      NA</td><td>NA</td><td> NA</td><td>      NA</td><td> NA</td><td> NA</td><td>      NA</td></tr>\n",
              "\t<tr><td> 8</td><td>159514</td><td>262299</td><td>125</td><td>154</td><td>138.29630</td><td> NA</td><td> NA</td><td>      NA</td><td>NA</td><td>⋯</td><td>      NA</td><td>      NA</td><td>      NA</td><td>      NA</td><td>NA</td><td> NA</td><td>      NA</td><td> NA</td><td> NA</td><td>      NA</td></tr>\n",
              "\t<tr><td> 9</td><td>150750</td><td>220597</td><td> 82</td><td>111</td><td> 92.50000</td><td>106</td><td>217</td><td>159.3750</td><td>53</td><td>⋯</td><td>14.36170</td><td>35.50000</td><td>37.88889</td><td>37.04938</td><td>95</td><td>100</td><td>97.68293</td><td>151</td><td>178</td><td>161.2857</td></tr>\n",
              "\t<tr><td>10</td><td>184167</td><td>288409</td><td>128</td><td>162</td><td>147.56000</td><td> NA</td><td> NA</td><td>      NA</td><td>NA</td><td>⋯</td><td>      NA</td><td>      NA</td><td>      NA</td><td>      NA</td><td>NA</td><td> NA</td><td>      NA</td><td> NA</td><td> NA</td><td>      NA</td></tr>\n",
              "\t<tr><td>11</td><td>194540</td><td>229441</td><td> 70</td><td>101</td><td> 84.95833</td><td> 91</td><td>118</td><td>105.1667</td><td>38</td><td>⋯</td><td>18.04545</td><td>36.33333</td><td>37.38889</td><td>36.80556</td><td>93</td><td> 99</td><td>96.50000</td><td>120</td><td>149</td><td>129.8750</td></tr>\n",
              "\t<tr><td>12</td><td>112213</td><td>232669</td><td> 71</td><td>105</td><td> 85.82857</td><td> 98</td><td>165</td><td>128.2286</td><td>55</td><td>⋯</td><td>15.23810</td><td>35.50000</td><td>37.66667</td><td>36.61616</td><td>94</td><td>100</td><td>96.48387</td><td> 79</td><td>191</td><td>138.2800</td></tr>\n",
              "</tbody>\n",
              "</table>\n"
            ]
          },
          "metadata": {
            "tags": []
          }
        }
      ]
    },
    {
      "cell_type": "markdown",
      "metadata": {
        "id": "_kBWMnZs8a6r",
        "colab_type": "text"
      },
      "source": [
        "And the output for `labsfirstday`."
      ]
    },
    {
      "cell_type": "code",
      "metadata": {
        "id": "DMPxruKrpvHP",
        "colab_type": "code",
        "outputId": "bcd64885-fa4e-444a-80ec-5d7605b21c4a",
        "colab": {
          "base_uri": "https://localhost:8080/",
          "height": 265
        }
      },
      "source": [
        "sql <- \"SELECT *\n",
        "FROM `physionet-data.mimiciii_derived.labsfirstday`\n",
        "LIMIT 10\"\n",
        "\n",
        "bq_runsql(sql)"
      ],
      "execution_count": 181,
      "outputs": [
        {
          "output_type": "display_data",
          "data": {
            "text/plain": [
              "   subject_id hadm_id icustay_id ANIONGAP_min ANIONGAP_max ALBUMIN_min\n",
              "1   2         163353  243653     NA           NA            NA        \n",
              "2   3         145834  211552     15           23           1.8        \n",
              "3   4         185777  294638     15           15           2.8        \n",
              "4   5         178980  214757     NA           NA            NA        \n",
              "5   6         107064  228232     20           23           3.0        \n",
              "6   7         118037  236754     NA           NA            NA        \n",
              "7   7         118037  278444     NA           NA            NA        \n",
              "8   8         159514  262299     NA           NA            NA        \n",
              "9   9         150750  220597     13           13            NA        \n",
              "10 10         184167  288409     17           17            NA        \n",
              "   ALBUMIN_max BANDS_min BANDS_max BICARBONATE_min ⋯ INR_min INR_max PT_min\n",
              "1   NA          1         1        NA              ⋯  NA      NA       NA  \n",
              "2  1.8          2         5        11              ⋯ 1.3     1.7     13.5  \n",
              "3  2.8         NA        NA        21              ⋯ 1.1     1.1     12.8  \n",
              "4   NA         NA        NA        NA              ⋯  NA      NA       NA  \n",
              "5  3.0         NA        NA        15              ⋯ 1.0     1.4     12.6  \n",
              "6   NA         NA        NA        NA              ⋯  NA      NA       NA  \n",
              "7   NA         NA        NA        NA              ⋯  NA      NA       NA  \n",
              "8   NA         NA        NA        NA              ⋯  NA      NA       NA  \n",
              "9   NA         NA        NA        26              ⋯ 1.1     1.1     12.7  \n",
              "10  NA         NA        NA        23              ⋯  NA      NA       NA  \n",
              "   PT_max SODIUM_min SODIUM_max BUN_min BUN_max WBC_min WBC_max\n",
              "1    NA    NA         NA        NA      NA       0.1    22.0   \n",
              "2  15.7   136        153        41      53      11.3    24.4   \n",
              "3  12.8   141        141        10      10       9.7     9.7   \n",
              "4    NA    NA         NA        NA      NA      13.9    13.9   \n",
              "5  14.6   134        138        62      65      10.6    10.6   \n",
              "6    NA    NA         NA        NA      NA      22.8    22.8   \n",
              "7    NA    NA         NA        NA      NA        NA      NA   \n",
              "8    NA    NA         NA        NA      NA      18.7    18.7   \n",
              "9  12.7   136        140        16      17       7.5    13.7   \n",
              "10   NA   133        133        NA      NA       9.2     9.2   "
            ],
            "text/latex": "A tibble: 10 × 41\n\\begin{tabular}{lllllllllllllllllllll}\n subject\\_id & hadm\\_id & icustay\\_id & ANIONGAP\\_min & ANIONGAP\\_max & ALBUMIN\\_min & ALBUMIN\\_max & BANDS\\_min & BANDS\\_max & BICARBONATE\\_min & ⋯ & INR\\_min & INR\\_max & PT\\_min & PT\\_max & SODIUM\\_min & SODIUM\\_max & BUN\\_min & BUN\\_max & WBC\\_min & WBC\\_max\\\\\n <int> & <int> & <int> & <dbl> & <dbl> & <dbl> & <dbl> & <dbl> & <dbl> & <dbl> & ⋯ & <dbl> & <dbl> & <dbl> & <dbl> & <dbl> & <dbl> & <dbl> & <dbl> & <dbl> & <dbl>\\\\\n\\hline\n\t  2 & 163353 & 243653 & NA & NA &  NA &  NA &  1 &  1 & NA & ⋯ &  NA &  NA &   NA &   NA &  NA &  NA & NA & NA &  0.1 & 22.0\\\\\n\t  3 & 145834 & 211552 & 15 & 23 & 1.8 & 1.8 &  2 &  5 & 11 & ⋯ & 1.3 & 1.7 & 13.5 & 15.7 & 136 & 153 & 41 & 53 & 11.3 & 24.4\\\\\n\t  4 & 185777 & 294638 & 15 & 15 & 2.8 & 2.8 & NA & NA & 21 & ⋯ & 1.1 & 1.1 & 12.8 & 12.8 & 141 & 141 & 10 & 10 &  9.7 &  9.7\\\\\n\t  5 & 178980 & 214757 & NA & NA &  NA &  NA & NA & NA & NA & ⋯ &  NA &  NA &   NA &   NA &  NA &  NA & NA & NA & 13.9 & 13.9\\\\\n\t  6 & 107064 & 228232 & 20 & 23 & 3.0 & 3.0 & NA & NA & 15 & ⋯ & 1.0 & 1.4 & 12.6 & 14.6 & 134 & 138 & 62 & 65 & 10.6 & 10.6\\\\\n\t  7 & 118037 & 236754 & NA & NA &  NA &  NA & NA & NA & NA & ⋯ &  NA &  NA &   NA &   NA &  NA &  NA & NA & NA & 22.8 & 22.8\\\\\n\t  7 & 118037 & 278444 & NA & NA &  NA &  NA & NA & NA & NA & ⋯ &  NA &  NA &   NA &   NA &  NA &  NA & NA & NA &   NA &   NA\\\\\n\t  8 & 159514 & 262299 & NA & NA &  NA &  NA & NA & NA & NA & ⋯ &  NA &  NA &   NA &   NA &  NA &  NA & NA & NA & 18.7 & 18.7\\\\\n\t  9 & 150750 & 220597 & 13 & 13 &  NA &  NA & NA & NA & 26 & ⋯ & 1.1 & 1.1 & 12.7 & 12.7 & 136 & 140 & 16 & 17 &  7.5 & 13.7\\\\\n\t 10 & 184167 & 288409 & 17 & 17 &  NA &  NA & NA & NA & 23 & ⋯ &  NA &  NA &   NA &   NA & 133 & 133 & NA & NA &  9.2 &  9.2\\\\\n\\end{tabular}\n",
            "text/markdown": "\nA tibble: 10 × 41\n\n| subject_id &lt;int&gt; | hadm_id &lt;int&gt; | icustay_id &lt;int&gt; | ANIONGAP_min &lt;dbl&gt; | ANIONGAP_max &lt;dbl&gt; | ALBUMIN_min &lt;dbl&gt; | ALBUMIN_max &lt;dbl&gt; | BANDS_min &lt;dbl&gt; | BANDS_max &lt;dbl&gt; | BICARBONATE_min &lt;dbl&gt; | ⋯ ⋯ | INR_min &lt;dbl&gt; | INR_max &lt;dbl&gt; | PT_min &lt;dbl&gt; | PT_max &lt;dbl&gt; | SODIUM_min &lt;dbl&gt; | SODIUM_max &lt;dbl&gt; | BUN_min &lt;dbl&gt; | BUN_max &lt;dbl&gt; | WBC_min &lt;dbl&gt; | WBC_max &lt;dbl&gt; |\n|---|---|---|---|---|---|---|---|---|---|---|---|---|---|---|---|---|---|---|---|---|\n|  2 | 163353 | 243653 | NA | NA |  NA |  NA |  1 |  1 | NA | ⋯ |  NA |  NA |   NA |   NA |  NA |  NA | NA | NA |  0.1 | 22.0 |\n|  3 | 145834 | 211552 | 15 | 23 | 1.8 | 1.8 |  2 |  5 | 11 | ⋯ | 1.3 | 1.7 | 13.5 | 15.7 | 136 | 153 | 41 | 53 | 11.3 | 24.4 |\n|  4 | 185777 | 294638 | 15 | 15 | 2.8 | 2.8 | NA | NA | 21 | ⋯ | 1.1 | 1.1 | 12.8 | 12.8 | 141 | 141 | 10 | 10 |  9.7 |  9.7 |\n|  5 | 178980 | 214757 | NA | NA |  NA |  NA | NA | NA | NA | ⋯ |  NA |  NA |   NA |   NA |  NA |  NA | NA | NA | 13.9 | 13.9 |\n|  6 | 107064 | 228232 | 20 | 23 | 3.0 | 3.0 | NA | NA | 15 | ⋯ | 1.0 | 1.4 | 12.6 | 14.6 | 134 | 138 | 62 | 65 | 10.6 | 10.6 |\n|  7 | 118037 | 236754 | NA | NA |  NA |  NA | NA | NA | NA | ⋯ |  NA |  NA |   NA |   NA |  NA |  NA | NA | NA | 22.8 | 22.8 |\n|  7 | 118037 | 278444 | NA | NA |  NA |  NA | NA | NA | NA | ⋯ |  NA |  NA |   NA |   NA |  NA |  NA | NA | NA |   NA |   NA |\n|  8 | 159514 | 262299 | NA | NA |  NA |  NA | NA | NA | NA | ⋯ |  NA |  NA |   NA |   NA |  NA |  NA | NA | NA | 18.7 | 18.7 |\n|  9 | 150750 | 220597 | 13 | 13 |  NA |  NA | NA | NA | 26 | ⋯ | 1.1 | 1.1 | 12.7 | 12.7 | 136 | 140 | 16 | 17 |  7.5 | 13.7 |\n| 10 | 184167 | 288409 | 17 | 17 |  NA |  NA | NA | NA | 23 | ⋯ |  NA |  NA |   NA |   NA | 133 | 133 | NA | NA |  9.2 |  9.2 |\n\n",
            "text/html": [
              "<table>\n",
              "<caption>A tibble: 10 × 41</caption>\n",
              "<thead>\n",
              "\t<tr><th scope=col>subject_id</th><th scope=col>hadm_id</th><th scope=col>icustay_id</th><th scope=col>ANIONGAP_min</th><th scope=col>ANIONGAP_max</th><th scope=col>ALBUMIN_min</th><th scope=col>ALBUMIN_max</th><th scope=col>BANDS_min</th><th scope=col>BANDS_max</th><th scope=col>BICARBONATE_min</th><th scope=col>⋯</th><th scope=col>INR_min</th><th scope=col>INR_max</th><th scope=col>PT_min</th><th scope=col>PT_max</th><th scope=col>SODIUM_min</th><th scope=col>SODIUM_max</th><th scope=col>BUN_min</th><th scope=col>BUN_max</th><th scope=col>WBC_min</th><th scope=col>WBC_max</th></tr>\n",
              "\t<tr><th scope=col>&lt;int&gt;</th><th scope=col>&lt;int&gt;</th><th scope=col>&lt;int&gt;</th><th scope=col>&lt;dbl&gt;</th><th scope=col>&lt;dbl&gt;</th><th scope=col>&lt;dbl&gt;</th><th scope=col>&lt;dbl&gt;</th><th scope=col>&lt;dbl&gt;</th><th scope=col>&lt;dbl&gt;</th><th scope=col>&lt;dbl&gt;</th><th scope=col>⋯</th><th scope=col>&lt;dbl&gt;</th><th scope=col>&lt;dbl&gt;</th><th scope=col>&lt;dbl&gt;</th><th scope=col>&lt;dbl&gt;</th><th scope=col>&lt;dbl&gt;</th><th scope=col>&lt;dbl&gt;</th><th scope=col>&lt;dbl&gt;</th><th scope=col>&lt;dbl&gt;</th><th scope=col>&lt;dbl&gt;</th><th scope=col>&lt;dbl&gt;</th></tr>\n",
              "</thead>\n",
              "<tbody>\n",
              "\t<tr><td> 2</td><td>163353</td><td>243653</td><td>NA</td><td>NA</td><td> NA</td><td> NA</td><td> 1</td><td> 1</td><td>NA</td><td>⋯</td><td> NA</td><td> NA</td><td>  NA</td><td>  NA</td><td> NA</td><td> NA</td><td>NA</td><td>NA</td><td> 0.1</td><td>22.0</td></tr>\n",
              "\t<tr><td> 3</td><td>145834</td><td>211552</td><td>15</td><td>23</td><td>1.8</td><td>1.8</td><td> 2</td><td> 5</td><td>11</td><td>⋯</td><td>1.3</td><td>1.7</td><td>13.5</td><td>15.7</td><td>136</td><td>153</td><td>41</td><td>53</td><td>11.3</td><td>24.4</td></tr>\n",
              "\t<tr><td> 4</td><td>185777</td><td>294638</td><td>15</td><td>15</td><td>2.8</td><td>2.8</td><td>NA</td><td>NA</td><td>21</td><td>⋯</td><td>1.1</td><td>1.1</td><td>12.8</td><td>12.8</td><td>141</td><td>141</td><td>10</td><td>10</td><td> 9.7</td><td> 9.7</td></tr>\n",
              "\t<tr><td> 5</td><td>178980</td><td>214757</td><td>NA</td><td>NA</td><td> NA</td><td> NA</td><td>NA</td><td>NA</td><td>NA</td><td>⋯</td><td> NA</td><td> NA</td><td>  NA</td><td>  NA</td><td> NA</td><td> NA</td><td>NA</td><td>NA</td><td>13.9</td><td>13.9</td></tr>\n",
              "\t<tr><td> 6</td><td>107064</td><td>228232</td><td>20</td><td>23</td><td>3.0</td><td>3.0</td><td>NA</td><td>NA</td><td>15</td><td>⋯</td><td>1.0</td><td>1.4</td><td>12.6</td><td>14.6</td><td>134</td><td>138</td><td>62</td><td>65</td><td>10.6</td><td>10.6</td></tr>\n",
              "\t<tr><td> 7</td><td>118037</td><td>236754</td><td>NA</td><td>NA</td><td> NA</td><td> NA</td><td>NA</td><td>NA</td><td>NA</td><td>⋯</td><td> NA</td><td> NA</td><td>  NA</td><td>  NA</td><td> NA</td><td> NA</td><td>NA</td><td>NA</td><td>22.8</td><td>22.8</td></tr>\n",
              "\t<tr><td> 7</td><td>118037</td><td>278444</td><td>NA</td><td>NA</td><td> NA</td><td> NA</td><td>NA</td><td>NA</td><td>NA</td><td>⋯</td><td> NA</td><td> NA</td><td>  NA</td><td>  NA</td><td> NA</td><td> NA</td><td>NA</td><td>NA</td><td>  NA</td><td>  NA</td></tr>\n",
              "\t<tr><td> 8</td><td>159514</td><td>262299</td><td>NA</td><td>NA</td><td> NA</td><td> NA</td><td>NA</td><td>NA</td><td>NA</td><td>⋯</td><td> NA</td><td> NA</td><td>  NA</td><td>  NA</td><td> NA</td><td> NA</td><td>NA</td><td>NA</td><td>18.7</td><td>18.7</td></tr>\n",
              "\t<tr><td> 9</td><td>150750</td><td>220597</td><td>13</td><td>13</td><td> NA</td><td> NA</td><td>NA</td><td>NA</td><td>26</td><td>⋯</td><td>1.1</td><td>1.1</td><td>12.7</td><td>12.7</td><td>136</td><td>140</td><td>16</td><td>17</td><td> 7.5</td><td>13.7</td></tr>\n",
              "\t<tr><td>10</td><td>184167</td><td>288409</td><td>17</td><td>17</td><td> NA</td><td> NA</td><td>NA</td><td>NA</td><td>23</td><td>⋯</td><td> NA</td><td> NA</td><td>  NA</td><td>  NA</td><td>133</td><td>133</td><td>NA</td><td>NA</td><td> 9.2</td><td> 9.2</td></tr>\n",
              "</tbody>\n",
              "</table>\n"
            ]
          },
          "metadata": {
            "tags": []
          }
        }
      ]
    },
    {
      "cell_type": "markdown",
      "metadata": {
        "id": "wwLAjDDJpmYW",
        "colab_type": "text"
      },
      "source": [
        "*Note that it's sufficent for our problem definition to only use the first admission day vitals and labs since using all values for each ICU stays would basically translate into a time-series problem which is a completely different game than just using one data row per patient (the mean, max and min values of each vital/lab already contain much valuable information!)*"
      ]
    },
    {
      "cell_type": "markdown",
      "metadata": {
        "id": "1nKQ9gv-8lTE",
        "colab_type": "text"
      },
      "source": [
        "*Also, you might have notices that many entries are NaN, so missing values. You need to come up with a strategy during inference, how you want to treat/impute those values. Missingness is one of the biggest challenges in working with EHR data.*"
      ]
    },
    {
      "cell_type": "markdown",
      "metadata": {
        "id": "ExYAhzK8zXir",
        "colab_type": "text"
      },
      "source": [
        "After now finding out how to extract vitals and labs using the ready-to-use SQL code from the MIMIC repository, we now need to create a larger table which concats all of those lab/vital features for each ICU stay of each patient (we later limit our cohort to only the first ICU stay of each patient).\n",
        "The following SQL code queries merges (_JOIN_ s) the different lab/vital tables and outputs one big table which contains first day min, max and mean lab and vitals for _each_ patient in MIMIC (we still need to limit it to our cohort). We store the resulting table in the variable `bq_labvital`."
      ]
    },
    {
      "cell_type": "code",
      "metadata": {
        "id": "VQRd9mtV84Gy",
        "colab_type": "code",
        "colab": {}
      },
      "source": [
        "sql_labvital <- \"\n",
        "WITH t1 AS (\n",
        "SELECT labs.*, \n",
        "    HeartRate_Min, HeartRate_Max, HeartRate_Mean, \n",
        "    SysBP_Min, SysBP_Max,\tSysBP_Mean,\t\n",
        "    DiasBP_Min,\tDiasBP_Max,\tDiasBP_Mean,\n",
        "    MeanBP_Min,\tMeanBP_Max,\tMeanBP_Mean,\n",
        "    RespRate_Min,\tRespRate_Max,\tRespRate_Mean,\t\n",
        "    TempC_Min, TempC_Max,\tTempC_Mean,\t\n",
        "    SpO2_Min,\tSpO2_Max,\tSpO2_Mean\n",
        "FROM `physionet-data.mimiciii_derived.labsfirstday` labs\n",
        "LEFT JOIN `physionet-data.mimiciii_derived.vitalsfirstday` vitals\n",
        "  ON vitals.icustay_id = labs.icustay_id\n",
        ")\n",
        ", firstadmissions_1 AS (\n",
        "  SELECT *, ROW_NUMBER() OVER (PARTITION BY subject_id ORDER BY intime) AS rowcnt\n",
        "  FROM `physionet-data.mimiciii_clinical.icustays`\n",
        "), firstadmissions_2 AS (\n",
        "  SELECT *\n",
        "  FROM firstadmissions_1\n",
        "  WHERE rowcnt = 1\n",
        ")\n",
        "SELECT *\n",
        "FROM t1\n",
        "WHERE t1.icustay_id \n",
        "IN (\n",
        "  SELECT DISTINCT icustay_id \n",
        "  FROM firstadmissions_2 \n",
        "  WHERE NOT icustay_id is NULL\n",
        "  )\"\n",
        "\n",
        "bq_labvital <- bq_runsql(sql_labvital)"
      ],
      "execution_count": 0,
      "outputs": []
    },
    {
      "cell_type": "code",
      "metadata": {
        "id": "rYgs2z2HAraJ",
        "colab_type": "code",
        "outputId": "f98da6d7-9247-4bbc-a0e6-f48f6e53d17e",
        "colab": {
          "base_uri": "https://localhost:8080/",
          "height": 195
        }
      },
      "source": [
        "head(bq_labvital)"
      ],
      "execution_count": 183,
      "outputs": [
        {
          "output_type": "display_data",
          "data": {
            "text/plain": [
              "  subject_id hadm_id icustay_id ANIONGAP_min ANIONGAP_max ALBUMIN_min\n",
              "1  3         145834  211552     15           23           1.8        \n",
              "2  6         107064  228232     20           23           3.0        \n",
              "3 21         109451  217847     23           27            NA        \n",
              "4 38         185910  248910     16           17           2.7        \n",
              "5 59         104130  224440     21           24            NA        \n",
              "6 68         170467  294232     16           16            NA        \n",
              "  ALBUMIN_max BANDS_min BANDS_max BICARBONATE_min ⋯ MeanBP_Mean RespRate_Min\n",
              "1 1.8          2         5        11              ⋯ 75.69281     5          \n",
              "2 3.0         NA        NA        15              ⋯ 84.53922     8          \n",
              "3  NA         NA        NA        15              ⋯ 74.11538    12          \n",
              "4 2.7         NA        NA        20              ⋯ 73.00001    14          \n",
              "5  NA         NA        NA        19              ⋯ 72.15151     9          \n",
              "6  NA         NA        NA        22              ⋯ 60.52777    20          \n",
              "  RespRate_Max RespRate_Mean TempC_Min TempC_Max TempC_Mean SpO2_Min SpO2_Max\n",
              "1 24           17.36111      36.20000  37.60000  37.00288   74       100     \n",
              "2 20           12.32000      36.00000  37.33333  36.51515   84       100     \n",
              "3 26           16.79167      35.38889  37.44445  36.18182   95       100     \n",
              "4 31           24.32500      34.61111  37.88889  36.52222   68       100     \n",
              "5 24           16.40909      36.38889  37.33333  36.87037   94       100     \n",
              "6 35           27.58333      36.00000  37.55555  36.91667   90       100     \n",
              "  SpO2_Mean\n",
              "1 97.87097 \n",
              "2 99.20000 \n",
              "3 99.79167 \n",
              "4 96.83784 \n",
              "5 97.10526 \n",
              "6 95.62500 "
            ],
            "text/latex": "A tibble: 6 × 62\n\\begin{tabular}{lllllllllllllllllllll}\n subject\\_id & hadm\\_id & icustay\\_id & ANIONGAP\\_min & ANIONGAP\\_max & ALBUMIN\\_min & ALBUMIN\\_max & BANDS\\_min & BANDS\\_max & BICARBONATE\\_min & ⋯ & MeanBP\\_Mean & RespRate\\_Min & RespRate\\_Max & RespRate\\_Mean & TempC\\_Min & TempC\\_Max & TempC\\_Mean & SpO2\\_Min & SpO2\\_Max & SpO2\\_Mean\\\\\n <int> & <int> & <int> & <dbl> & <dbl> & <dbl> & <dbl> & <dbl> & <dbl> & <dbl> & ⋯ & <dbl> & <dbl> & <dbl> & <dbl> & <dbl> & <dbl> & <dbl> & <dbl> & <dbl> & <dbl>\\\\\n\\hline\n\t  3 & 145834 & 211552 & 15 & 23 & 1.8 & 1.8 &  2 &  5 & 11 & ⋯ & 75.69281 &  5 & 24 & 17.36111 & 36.20000 & 37.60000 & 37.00288 & 74 & 100 & 97.87097\\\\\n\t  6 & 107064 & 228232 & 20 & 23 & 3.0 & 3.0 & NA & NA & 15 & ⋯ & 84.53922 &  8 & 20 & 12.32000 & 36.00000 & 37.33333 & 36.51515 & 84 & 100 & 99.20000\\\\\n\t 21 & 109451 & 217847 & 23 & 27 &  NA &  NA & NA & NA & 15 & ⋯ & 74.11538 & 12 & 26 & 16.79167 & 35.38889 & 37.44445 & 36.18182 & 95 & 100 & 99.79167\\\\\n\t 38 & 185910 & 248910 & 16 & 17 & 2.7 & 2.7 & NA & NA & 20 & ⋯ & 73.00001 & 14 & 31 & 24.32500 & 34.61111 & 37.88889 & 36.52222 & 68 & 100 & 96.83784\\\\\n\t 59 & 104130 & 224440 & 21 & 24 &  NA &  NA & NA & NA & 19 & ⋯ & 72.15151 &  9 & 24 & 16.40909 & 36.38889 & 37.33333 & 36.87037 & 94 & 100 & 97.10526\\\\\n\t 68 & 170467 & 294232 & 16 & 16 &  NA &  NA & NA & NA & 22 & ⋯ & 60.52777 & 20 & 35 & 27.58333 & 36.00000 & 37.55555 & 36.91667 & 90 & 100 & 95.62500\\\\\n\\end{tabular}\n",
            "text/markdown": "\nA tibble: 6 × 62\n\n| subject_id &lt;int&gt; | hadm_id &lt;int&gt; | icustay_id &lt;int&gt; | ANIONGAP_min &lt;dbl&gt; | ANIONGAP_max &lt;dbl&gt; | ALBUMIN_min &lt;dbl&gt; | ALBUMIN_max &lt;dbl&gt; | BANDS_min &lt;dbl&gt; | BANDS_max &lt;dbl&gt; | BICARBONATE_min &lt;dbl&gt; | ⋯ ⋯ | MeanBP_Mean &lt;dbl&gt; | RespRate_Min &lt;dbl&gt; | RespRate_Max &lt;dbl&gt; | RespRate_Mean &lt;dbl&gt; | TempC_Min &lt;dbl&gt; | TempC_Max &lt;dbl&gt; | TempC_Mean &lt;dbl&gt; | SpO2_Min &lt;dbl&gt; | SpO2_Max &lt;dbl&gt; | SpO2_Mean &lt;dbl&gt; |\n|---|---|---|---|---|---|---|---|---|---|---|---|---|---|---|---|---|---|---|---|---|\n|  3 | 145834 | 211552 | 15 | 23 | 1.8 | 1.8 |  2 |  5 | 11 | ⋯ | 75.69281 |  5 | 24 | 17.36111 | 36.20000 | 37.60000 | 37.00288 | 74 | 100 | 97.87097 |\n|  6 | 107064 | 228232 | 20 | 23 | 3.0 | 3.0 | NA | NA | 15 | ⋯ | 84.53922 |  8 | 20 | 12.32000 | 36.00000 | 37.33333 | 36.51515 | 84 | 100 | 99.20000 |\n| 21 | 109451 | 217847 | 23 | 27 |  NA |  NA | NA | NA | 15 | ⋯ | 74.11538 | 12 | 26 | 16.79167 | 35.38889 | 37.44445 | 36.18182 | 95 | 100 | 99.79167 |\n| 38 | 185910 | 248910 | 16 | 17 | 2.7 | 2.7 | NA | NA | 20 | ⋯ | 73.00001 | 14 | 31 | 24.32500 | 34.61111 | 37.88889 | 36.52222 | 68 | 100 | 96.83784 |\n| 59 | 104130 | 224440 | 21 | 24 |  NA |  NA | NA | NA | 19 | ⋯ | 72.15151 |  9 | 24 | 16.40909 | 36.38889 | 37.33333 | 36.87037 | 94 | 100 | 97.10526 |\n| 68 | 170467 | 294232 | 16 | 16 |  NA |  NA | NA | NA | 22 | ⋯ | 60.52777 | 20 | 35 | 27.58333 | 36.00000 | 37.55555 | 36.91667 | 90 | 100 | 95.62500 |\n\n",
            "text/html": [
              "<table>\n",
              "<caption>A tibble: 6 × 62</caption>\n",
              "<thead>\n",
              "\t<tr><th scope=col>subject_id</th><th scope=col>hadm_id</th><th scope=col>icustay_id</th><th scope=col>ANIONGAP_min</th><th scope=col>ANIONGAP_max</th><th scope=col>ALBUMIN_min</th><th scope=col>ALBUMIN_max</th><th scope=col>BANDS_min</th><th scope=col>BANDS_max</th><th scope=col>BICARBONATE_min</th><th scope=col>⋯</th><th scope=col>MeanBP_Mean</th><th scope=col>RespRate_Min</th><th scope=col>RespRate_Max</th><th scope=col>RespRate_Mean</th><th scope=col>TempC_Min</th><th scope=col>TempC_Max</th><th scope=col>TempC_Mean</th><th scope=col>SpO2_Min</th><th scope=col>SpO2_Max</th><th scope=col>SpO2_Mean</th></tr>\n",
              "\t<tr><th scope=col>&lt;int&gt;</th><th scope=col>&lt;int&gt;</th><th scope=col>&lt;int&gt;</th><th scope=col>&lt;dbl&gt;</th><th scope=col>&lt;dbl&gt;</th><th scope=col>&lt;dbl&gt;</th><th scope=col>&lt;dbl&gt;</th><th scope=col>&lt;dbl&gt;</th><th scope=col>&lt;dbl&gt;</th><th scope=col>&lt;dbl&gt;</th><th scope=col>⋯</th><th scope=col>&lt;dbl&gt;</th><th scope=col>&lt;dbl&gt;</th><th scope=col>&lt;dbl&gt;</th><th scope=col>&lt;dbl&gt;</th><th scope=col>&lt;dbl&gt;</th><th scope=col>&lt;dbl&gt;</th><th scope=col>&lt;dbl&gt;</th><th scope=col>&lt;dbl&gt;</th><th scope=col>&lt;dbl&gt;</th><th scope=col>&lt;dbl&gt;</th></tr>\n",
              "</thead>\n",
              "<tbody>\n",
              "\t<tr><td> 3</td><td>145834</td><td>211552</td><td>15</td><td>23</td><td>1.8</td><td>1.8</td><td> 2</td><td> 5</td><td>11</td><td>⋯</td><td>75.69281</td><td> 5</td><td>24</td><td>17.36111</td><td>36.20000</td><td>37.60000</td><td>37.00288</td><td>74</td><td>100</td><td>97.87097</td></tr>\n",
              "\t<tr><td> 6</td><td>107064</td><td>228232</td><td>20</td><td>23</td><td>3.0</td><td>3.0</td><td>NA</td><td>NA</td><td>15</td><td>⋯</td><td>84.53922</td><td> 8</td><td>20</td><td>12.32000</td><td>36.00000</td><td>37.33333</td><td>36.51515</td><td>84</td><td>100</td><td>99.20000</td></tr>\n",
              "\t<tr><td>21</td><td>109451</td><td>217847</td><td>23</td><td>27</td><td> NA</td><td> NA</td><td>NA</td><td>NA</td><td>15</td><td>⋯</td><td>74.11538</td><td>12</td><td>26</td><td>16.79167</td><td>35.38889</td><td>37.44445</td><td>36.18182</td><td>95</td><td>100</td><td>99.79167</td></tr>\n",
              "\t<tr><td>38</td><td>185910</td><td>248910</td><td>16</td><td>17</td><td>2.7</td><td>2.7</td><td>NA</td><td>NA</td><td>20</td><td>⋯</td><td>73.00001</td><td>14</td><td>31</td><td>24.32500</td><td>34.61111</td><td>37.88889</td><td>36.52222</td><td>68</td><td>100</td><td>96.83784</td></tr>\n",
              "\t<tr><td>59</td><td>104130</td><td>224440</td><td>21</td><td>24</td><td> NA</td><td> NA</td><td>NA</td><td>NA</td><td>19</td><td>⋯</td><td>72.15151</td><td> 9</td><td>24</td><td>16.40909</td><td>36.38889</td><td>37.33333</td><td>36.87037</td><td>94</td><td>100</td><td>97.10526</td></tr>\n",
              "\t<tr><td>68</td><td>170467</td><td>294232</td><td>16</td><td>16</td><td> NA</td><td> NA</td><td>NA</td><td>NA</td><td>22</td><td>⋯</td><td>60.52777</td><td>20</td><td>35</td><td>27.58333</td><td>36.00000</td><td>37.55555</td><td>36.91667</td><td>90</td><td>100</td><td>95.62500</td></tr>\n",
              "</tbody>\n",
              "</table>\n"
            ]
          },
          "metadata": {
            "tags": []
          }
        }
      ]
    },
    {
      "cell_type": "markdown",
      "metadata": {
        "id": "7QuoYq1BAu6m",
        "colab_type": "text"
      },
      "source": [
        "Now we've extracted a design matrix which contains all first day lab and vital statistics for the _complete_ MIMIC population. We'll later limit those patients to our cohort, but before that we keep adding more features to our design matrix (this can be both covariates and outcomes)"
      ]
    },
    {
      "cell_type": "markdown",
      "metadata": {
        "id": "-oSl0tdL7g5m",
        "colab_type": "text"
      },
      "source": [
        "Note that this table of first day labs and vitals spans many more ICU stays and hospital admissions than our cohort extracted and defined above.\n"
      ]
    },
    {
      "cell_type": "code",
      "metadata": {
        "id": "KQT8B-JT8kxv",
        "colab_type": "code",
        "outputId": "1149efbe-e840-44f1-a0a1-9d0186e96355",
        "colab": {
          "base_uri": "https://localhost:8080/",
          "height": 33
        }
      },
      "source": [
        "dim(bq_labvital)"
      ],
      "execution_count": 184,
      "outputs": [
        {
          "output_type": "display_data",
          "data": {
            "text/plain": [
              "[1] 46476    62"
            ],
            "text/latex": "\\begin{enumerate*}\n\\item 46476\n\\item 62\n\\end{enumerate*}\n",
            "text/markdown": "1. 46476\n2. 62\n\n\n",
            "text/html": [
              "<style>\n",
              ".list-inline {list-style: none; margin:0; padding: 0}\n",
              ".list-inline>li {display: inline-block}\n",
              ".list-inline>li:not(:last-child)::after {content: \"\\00b7\"; padding: 0 .5ex}\n",
              "</style>\n",
              "<ol class=list-inline><li>46476</li><li>62</li></ol>\n"
            ]
          },
          "metadata": {
            "tags": []
          }
        }
      ]
    },
    {
      "cell_type": "markdown",
      "metadata": {
        "id": "_DRKqzLr8ljV",
        "colab_type": "text"
      },
      "source": [
        "We are only interested in the labs and vitals for our cohort. We add this to our existing `cohort` table by `left_join`ing on `subject_id`, `hadm_id`, and `icustay_id`.\n"
      ]
    },
    {
      "cell_type": "code",
      "metadata": {
        "id": "rfNWxBpu7hN8",
        "colab_type": "code",
        "colab": {}
      },
      "source": [
        "cohort <- cohort %>%\n",
        "    dplyr::left_join(bq_labvital, by = c(\"subject_id\", \"hadm_id\", \"icustay_id\"))"
      ],
      "execution_count": 0,
      "outputs": []
    },
    {
      "cell_type": "markdown",
      "metadata": {
        "id": "YxSiHwbjBYs5",
        "colab_type": "text"
      },
      "source": [
        "## Severity scores (SAPS-II)"
      ]
    },
    {
      "cell_type": "markdown",
      "metadata": {
        "id": "3loEp3OcBcg2",
        "colab_type": "text"
      },
      "source": [
        "Severity score are great features since they translate clinical knowledge into an understandable score which correlates with a patient's current physical state (at admission). These scores could for instance capture organ dysfunction, the inflammatory state of a patient or the consciousness of a patient. \n",
        "\n",
        "We will add the Simplified Acute Physiology Score II (SAPS II)to our table. You can later decide if you want to use this score to control for a patient's severity of illness.\n",
        "SAPS-II has already been computed using the SQL code [HERE](https://github.com/MIT-LCP/mimic-code/blob/master/concepts/severityscores/sapsii.sql). We will simply download the derived table already available on BigQuery and add it to our feature table (variable: `sapsii`). \n",
        "\n",
        "Please note that we'll merge the resulting `bq_sapsii` table later to our vital/labs design matrix we derived earlier."
      ]
    },
    {
      "cell_type": "code",
      "metadata": {
        "id": "JfoByHZdBVIg",
        "colab_type": "code",
        "colab": {}
      },
      "source": [
        "bq_tab_sapsii <- \"physionet-data.mimiciii_derived.sapsii\"\n",
        "\n",
        "## no need to execute an SQL query - just download!\n",
        "bq_sapsii <- bq_table_download(bq_tab_sapsii)"
      ],
      "execution_count": 0,
      "outputs": []
    },
    {
      "cell_type": "markdown",
      "metadata": {
        "id": "bz4dXwFD8uTG",
        "colab_type": "text"
      },
      "source": [
        "Again, this table covers many more admissions and stays."
      ]
    },
    {
      "cell_type": "code",
      "metadata": {
        "id": "2WCvrvrL8fGx",
        "colab_type": "code",
        "outputId": "5c48dd48-e9b8-4d37-9b5f-6b9dad8ca24e",
        "colab": {
          "base_uri": "https://localhost:8080/",
          "height": 33
        }
      },
      "source": [
        "dim(bq_sapsii)"
      ],
      "execution_count": 187,
      "outputs": [
        {
          "output_type": "display_data",
          "data": {
            "text/plain": [
              "[1] 61532    20"
            ],
            "text/latex": "\\begin{enumerate*}\n\\item 61532\n\\item 20\n\\end{enumerate*}\n",
            "text/markdown": "1. 61532\n2. 20\n\n\n",
            "text/html": [
              "<style>\n",
              ".list-inline {list-style: none; margin:0; padding: 0}\n",
              ".list-inline>li {display: inline-block}\n",
              ".list-inline>li:not(:last-child)::after {content: \"\\00b7\"; padding: 0 .5ex}\n",
              "</style>\n",
              "<ol class=list-inline><li>61532</li><li>20</li></ol>\n"
            ]
          },
          "metadata": {
            "tags": []
          }
        }
      ]
    },
    {
      "cell_type": "markdown",
      "metadata": {
        "id": "ou3XZJI49GlV",
        "colab_type": "text"
      },
      "source": [
        "We again join by subject, admissions and ICU stay IDs."
      ]
    },
    {
      "cell_type": "code",
      "metadata": {
        "id": "DJEcj3lC9GuQ",
        "colab_type": "code",
        "colab": {}
      },
      "source": [
        "cohort <- cohort %>%\n",
        "    dplyr::left_join(bq_sapsii, by = c(\"subject_id\", \"hadm_id\", \"icustay_id\"))"
      ],
      "execution_count": 0,
      "outputs": []
    },
    {
      "cell_type": "markdown",
      "metadata": {
        "id": "WcDOpAeK-yQH",
        "colab_type": "text"
      },
      "source": [
        "\n",
        "## Comorbidity scores (Elixhauser)\n",
        "\n",
        "When doing the inference analysis, it is also important to control for comorbidities of the patients. Since there are many comorbidity scores (e.g. Elixhauser), MIMIC already contains code that not only extracts comorbidities (binary flags, e.g. renal failure) by using the ICD-9 diagnosis codes, but also computes different comorbidity scores (e.g. Elixhauser QUAN). \n",
        "\n",
        "We will extract various binary comorbidity flags and a few Elixhauser scores from the follow tables to add to our cohort table.\n",
        "- `physionet-data.mimiciii_derived.elixhauser_quan`\n",
        "- `physionet-data.mimiciii_derived.elixhauser_quan_score`\n"
      ]
    },
    {
      "cell_type": "code",
      "metadata": {
        "id": "7C6djy7b_-Cp",
        "colab_type": "code",
        "colab": {}
      },
      "source": [
        "sql_comorb <- \"\n",
        "    SELECT DISTINCT \n",
        "        el.hadm_id,\n",
        "        el.congestive_heart_failure,\n",
        "        el.cardiac_arrhythmias,\n",
        "        el.valvular_disease,\n",
        "        el.pulmonary_circulation,\n",
        "        el.peripheral_vascular,\n",
        "        el.hypertension,\n",
        "        el.paralysis,\n",
        "        el.other_neurological,\n",
        "        el.chronic_pulmonary,\n",
        "        el.diabetes_uncomplicated,\n",
        "        el.diabetes_complicated,\n",
        "        el.hypothyroidism,\n",
        "        el.renal_failure,\n",
        "        el.liver_disease,\n",
        "        el.peptic_ulcer,\n",
        "        el.aids,\n",
        "        el.lymphoma,\n",
        "        el.metastatic_cancer,\n",
        "        el.solid_tumor,\n",
        "        el.rheumatoid_arthritis,\n",
        "        el.coagulopathy,\n",
        "        el.obesity,\n",
        "        el.weight_loss,\n",
        "        el.fluid_electrolyte,\n",
        "        el.blood_loss_anemia,\n",
        "        el.deficiency_anemias,\n",
        "        el.alcohol_abuse,\n",
        "        el.drug_abuse,\n",
        "        el.psychoses,\n",
        "        el.depression,\n",
        "        elscore.elixhauser_vanwalraven,\n",
        "        elscore.elixhauser_sid29,\n",
        "        elscore.elixhauser_sid30\n",
        "    FROM `physionet-data.mimiciii_derived.elixhauser_quan` el \n",
        "        INNER JOIN `physionet-data.mimiciii_derived.elixhauser_quan_score` elscore \n",
        "            ON el.hadm_id = elscore.hadm_id\n",
        "\"\n",
        "\n",
        "bq_comorb <- bq_runsql(sql_comorb)"
      ],
      "execution_count": 0,
      "outputs": []
    },
    {
      "cell_type": "markdown",
      "metadata": {
        "id": "1_FN3rQ1NKl7",
        "colab_type": "text"
      },
      "source": [
        "We can take a quick look at the various comorbidities that we have available in this table."
      ]
    },
    {
      "cell_type": "code",
      "metadata": {
        "id": "v7PLrsg5NK3X",
        "colab_type": "code",
        "outputId": "0dc402fe-4a6b-40fb-9823-bef741d10de2",
        "colab": {
          "base_uri": "https://localhost:8080/",
          "height": 195
        }
      },
      "source": [
        "head(bq_comorb)"
      ],
      "execution_count": 190,
      "outputs": [
        {
          "output_type": "display_data",
          "data": {
            "text/plain": [
              "  hadm_id congestive_heart_failure cardiac_arrhythmias valvular_disease\n",
              "1 100001  0                        0                   0               \n",
              "2 100003  0                        0                   0               \n",
              "3 100006  0                        1                   0               \n",
              "4 100007  0                        0                   0               \n",
              "5 100009  0                        1                   0               \n",
              "6 100010  0                        0                   0               \n",
              "  pulmonary_circulation peripheral_vascular hypertension paralysis\n",
              "1 0                     0                   1            0        \n",
              "2 0                     0                   1            0        \n",
              "3 0                     0                   0            0        \n",
              "4 0                     0                   1            0        \n",
              "5 0                     1                   1            0        \n",
              "6 0                     0                   0            0        \n",
              "  other_neurological chronic_pulmonary ⋯ fluid_electrolyte blood_loss_anemia\n",
              "1 0                  0                 ⋯ 0                 0                \n",
              "2 0                  0                 ⋯ 0                 0                \n",
              "3 0                  0                 ⋯ 1                 0                \n",
              "4 0                  0                 ⋯ 0                 0                \n",
              "5 0                  0                 ⋯ 0                 0                \n",
              "6 0                  0                 ⋯ 1                 0                \n",
              "  deficiency_anemias alcohol_abuse drug_abuse psychoses depression\n",
              "1 0                  0             0          0         0         \n",
              "2 0                  0             0          0         0         \n",
              "3 0                  0             0          0         1         \n",
              "4 0                  0             0          0         0         \n",
              "5 0                  0             0          0         0         \n",
              "6 0                  0             0          0         0         \n",
              "  elixhauser_vanwalraven elixhauser_sid29 elixhauser_sid30\n",
              "1  5                      5                6              \n",
              "2 11                      4                5              \n",
              "3 11                     11               22              \n",
              "4  0                     -1               -2              \n",
              "5 -2                     -2                5              \n",
              "6 17                     22               28              "
            ],
            "text/latex": "A tibble: 6 × 34\n\\begin{tabular}{lllllllllllllllllllll}\n hadm\\_id & congestive\\_heart\\_failure & cardiac\\_arrhythmias & valvular\\_disease & pulmonary\\_circulation & peripheral\\_vascular & hypertension & paralysis & other\\_neurological & chronic\\_pulmonary & ⋯ & fluid\\_electrolyte & blood\\_loss\\_anemia & deficiency\\_anemias & alcohol\\_abuse & drug\\_abuse & psychoses & depression & elixhauser\\_vanwalraven & elixhauser\\_sid29 & elixhauser\\_sid30\\\\\n <int> & <int> & <int> & <int> & <int> & <int> & <int> & <int> & <int> & <int> & ⋯ & <int> & <int> & <int> & <int> & <int> & <int> & <int> & <int> & <int> & <int>\\\\\n\\hline\n\t 100001 & 0 & 0 & 0 & 0 & 0 & 1 & 0 & 0 & 0 & ⋯ & 0 & 0 & 0 & 0 & 0 & 0 & 0 &  5 &  5 &  6\\\\\n\t 100003 & 0 & 0 & 0 & 0 & 0 & 1 & 0 & 0 & 0 & ⋯ & 0 & 0 & 0 & 0 & 0 & 0 & 0 & 11 &  4 &  5\\\\\n\t 100006 & 0 & 1 & 0 & 0 & 0 & 0 & 0 & 0 & 0 & ⋯ & 1 & 0 & 0 & 0 & 0 & 0 & 1 & 11 & 11 & 22\\\\\n\t 100007 & 0 & 0 & 0 & 0 & 0 & 1 & 0 & 0 & 0 & ⋯ & 0 & 0 & 0 & 0 & 0 & 0 & 0 &  0 & -1 & -2\\\\\n\t 100009 & 0 & 1 & 0 & 0 & 1 & 1 & 0 & 0 & 0 & ⋯ & 0 & 0 & 0 & 0 & 0 & 0 & 0 & -2 & -2 &  5\\\\\n\t 100010 & 0 & 0 & 0 & 0 & 0 & 0 & 0 & 0 & 0 & ⋯ & 1 & 0 & 0 & 0 & 0 & 0 & 0 & 17 & 22 & 28\\\\\n\\end{tabular}\n",
            "text/markdown": "\nA tibble: 6 × 34\n\n| hadm_id &lt;int&gt; | congestive_heart_failure &lt;int&gt; | cardiac_arrhythmias &lt;int&gt; | valvular_disease &lt;int&gt; | pulmonary_circulation &lt;int&gt; | peripheral_vascular &lt;int&gt; | hypertension &lt;int&gt; | paralysis &lt;int&gt; | other_neurological &lt;int&gt; | chronic_pulmonary &lt;int&gt; | ⋯ ⋯ | fluid_electrolyte &lt;int&gt; | blood_loss_anemia &lt;int&gt; | deficiency_anemias &lt;int&gt; | alcohol_abuse &lt;int&gt; | drug_abuse &lt;int&gt; | psychoses &lt;int&gt; | depression &lt;int&gt; | elixhauser_vanwalraven &lt;int&gt; | elixhauser_sid29 &lt;int&gt; | elixhauser_sid30 &lt;int&gt; |\n|---|---|---|---|---|---|---|---|---|---|---|---|---|---|---|---|---|---|---|---|---|\n| 100001 | 0 | 0 | 0 | 0 | 0 | 1 | 0 | 0 | 0 | ⋯ | 0 | 0 | 0 | 0 | 0 | 0 | 0 |  5 |  5 |  6 |\n| 100003 | 0 | 0 | 0 | 0 | 0 | 1 | 0 | 0 | 0 | ⋯ | 0 | 0 | 0 | 0 | 0 | 0 | 0 | 11 |  4 |  5 |\n| 100006 | 0 | 1 | 0 | 0 | 0 | 0 | 0 | 0 | 0 | ⋯ | 1 | 0 | 0 | 0 | 0 | 0 | 1 | 11 | 11 | 22 |\n| 100007 | 0 | 0 | 0 | 0 | 0 | 1 | 0 | 0 | 0 | ⋯ | 0 | 0 | 0 | 0 | 0 | 0 | 0 |  0 | -1 | -2 |\n| 100009 | 0 | 1 | 0 | 0 | 1 | 1 | 0 | 0 | 0 | ⋯ | 0 | 0 | 0 | 0 | 0 | 0 | 0 | -2 | -2 |  5 |\n| 100010 | 0 | 0 | 0 | 0 | 0 | 0 | 0 | 0 | 0 | ⋯ | 1 | 0 | 0 | 0 | 0 | 0 | 0 | 17 | 22 | 28 |\n\n",
            "text/html": [
              "<table>\n",
              "<caption>A tibble: 6 × 34</caption>\n",
              "<thead>\n",
              "\t<tr><th scope=col>hadm_id</th><th scope=col>congestive_heart_failure</th><th scope=col>cardiac_arrhythmias</th><th scope=col>valvular_disease</th><th scope=col>pulmonary_circulation</th><th scope=col>peripheral_vascular</th><th scope=col>hypertension</th><th scope=col>paralysis</th><th scope=col>other_neurological</th><th scope=col>chronic_pulmonary</th><th scope=col>⋯</th><th scope=col>fluid_electrolyte</th><th scope=col>blood_loss_anemia</th><th scope=col>deficiency_anemias</th><th scope=col>alcohol_abuse</th><th scope=col>drug_abuse</th><th scope=col>psychoses</th><th scope=col>depression</th><th scope=col>elixhauser_vanwalraven</th><th scope=col>elixhauser_sid29</th><th scope=col>elixhauser_sid30</th></tr>\n",
              "\t<tr><th scope=col>&lt;int&gt;</th><th scope=col>&lt;int&gt;</th><th scope=col>&lt;int&gt;</th><th scope=col>&lt;int&gt;</th><th scope=col>&lt;int&gt;</th><th scope=col>&lt;int&gt;</th><th scope=col>&lt;int&gt;</th><th scope=col>&lt;int&gt;</th><th scope=col>&lt;int&gt;</th><th scope=col>&lt;int&gt;</th><th scope=col>⋯</th><th scope=col>&lt;int&gt;</th><th scope=col>&lt;int&gt;</th><th scope=col>&lt;int&gt;</th><th scope=col>&lt;int&gt;</th><th scope=col>&lt;int&gt;</th><th scope=col>&lt;int&gt;</th><th scope=col>&lt;int&gt;</th><th scope=col>&lt;int&gt;</th><th scope=col>&lt;int&gt;</th><th scope=col>&lt;int&gt;</th></tr>\n",
              "</thead>\n",
              "<tbody>\n",
              "\t<tr><td>100001</td><td>0</td><td>0</td><td>0</td><td>0</td><td>0</td><td>1</td><td>0</td><td>0</td><td>0</td><td>⋯</td><td>0</td><td>0</td><td>0</td><td>0</td><td>0</td><td>0</td><td>0</td><td> 5</td><td> 5</td><td> 6</td></tr>\n",
              "\t<tr><td>100003</td><td>0</td><td>0</td><td>0</td><td>0</td><td>0</td><td>1</td><td>0</td><td>0</td><td>0</td><td>⋯</td><td>0</td><td>0</td><td>0</td><td>0</td><td>0</td><td>0</td><td>0</td><td>11</td><td> 4</td><td> 5</td></tr>\n",
              "\t<tr><td>100006</td><td>0</td><td>1</td><td>0</td><td>0</td><td>0</td><td>0</td><td>0</td><td>0</td><td>0</td><td>⋯</td><td>1</td><td>0</td><td>0</td><td>0</td><td>0</td><td>0</td><td>1</td><td>11</td><td>11</td><td>22</td></tr>\n",
              "\t<tr><td>100007</td><td>0</td><td>0</td><td>0</td><td>0</td><td>0</td><td>1</td><td>0</td><td>0</td><td>0</td><td>⋯</td><td>0</td><td>0</td><td>0</td><td>0</td><td>0</td><td>0</td><td>0</td><td> 0</td><td>-1</td><td>-2</td></tr>\n",
              "\t<tr><td>100009</td><td>0</td><td>1</td><td>0</td><td>0</td><td>1</td><td>1</td><td>0</td><td>0</td><td>0</td><td>⋯</td><td>0</td><td>0</td><td>0</td><td>0</td><td>0</td><td>0</td><td>0</td><td>-2</td><td>-2</td><td> 5</td></tr>\n",
              "\t<tr><td>100010</td><td>0</td><td>0</td><td>0</td><td>0</td><td>0</td><td>0</td><td>0</td><td>0</td><td>0</td><td>⋯</td><td>1</td><td>0</td><td>0</td><td>0</td><td>0</td><td>0</td><td>0</td><td>17</td><td>22</td><td>28</td></tr>\n",
              "</tbody>\n",
              "</table>\n"
            ]
          },
          "metadata": {
            "tags": []
          }
        }
      ]
    },
    {
      "cell_type": "markdown",
      "metadata": {
        "id": "r78-AhGEMYag",
        "colab_type": "text"
      },
      "source": [
        "We now add these comorbidity flags and scores to our cohort table."
      ]
    },
    {
      "cell_type": "code",
      "metadata": {
        "id": "L-EMDlc_MYjk",
        "colab_type": "code",
        "colab": {}
      },
      "source": [
        "cohort <- cohort %>%\n",
        "    dplyr::left_join(bq_comorb, by = \"hadm_id\")"
      ],
      "execution_count": 0,
      "outputs": []
    },
    {
      "cell_type": "markdown",
      "metadata": {
        "id": "gY42UNPDFPeq",
        "colab_type": "text"
      },
      "source": [
        "## Sepsis status (sepsis-III)\n",
        "Next, we want to add sepsis-III to our data table. Sepsis is a one of the major death causes in ICUs around the world, so it's really important to control for sepsis-markers during modelling. Sepsis-III is the most recent definition to define if a patient is having sepsis and adopted in many data-driven projects. A occurence of sepsis is defined here as a SOFA score (organ dysfunction severity score) increase by 2 points and the occurence of a suspected infection (microbiologyevent and antibiotics subscription). Since it would take too long to extract those patients manually from MIMIC, we stick to some code from another [MIT-MIMIC repository](https://github.com/alistairewj/sepsis3-mimic)."
      ]
    },
    {
      "cell_type": "code",
      "metadata": {
        "id": "uOHRT60ZLCME",
        "colab_type": "code",
        "colab": {}
      },
      "source": [
        "sql_sepsis3 <- \"\n",
        "WITH t1 as\n",
        "(\n",
        "select ie.icustay_id, ie.intime\n",
        "\n",
        "    -- suspicion of infection using POE\n",
        "    , case when spoe.suspected_infection_time is not null then 1 else 0 end\n",
        "        as suspected_of_infection_poe\n",
        "    , spoe.suspected_infection_time as suspected_infection_time_poe\n",
        "    , (UNIX_SECONDS(CAST(ie.intime as TIMESTAMP)) - UNIX_SECONDS(CAST(spoe.suspected_infection_time as TIMESTAMP)))\n",
        "          / 60.0 / 60.0 / 24.0 as suspected_infection_time_poe_days\n",
        "    , so.sofa as sofa\n",
        "from `physionet-data.mimiciii_clinical.icustays` ie\n",
        "inner join `physionet-data.mimiciii_clinical.admissions` adm\n",
        "    on ie.hadm_id = adm.hadm_id\n",
        "inner join `physionet-data.mimiciii_clinical.patients` pat\n",
        "    on ie.subject_id = pat.subject_id\n",
        "left join `physionet-data.mimiciii_derived.sofa` so\n",
        "  on ie.icustay_id = so.icustay_id\n",
        "left join `physionet-data.mimiciii_derived.suspinfect_poe` spoe\n",
        "  on ie.icustay_id = spoe.icustay_id\n",
        ")\n",
        "\n",
        "SELECT DISTINCT icustay_id, 1 as sepsis_3, sofa\n",
        "FROM t1 \n",
        "WHERE  ((t1.suspected_infection_time_poe is not null\n",
        "    and UNIX_SECONDS(TIMESTAMP(t1.suspected_infection_time_poe)) >= (UNIX_SECONDS(TIMESTAMP(t1.intime)) - 24*60*60)\n",
        "  )\n",
        "or (\n",
        "        t1.suspected_infection_time_poe is not null\n",
        "    and UNIX_SECONDS(TIMESTAMP(t1.suspected_infection_time_poe)) <= (UNIX_SECONDS(TIMESTAMP(t1.intime)) + 24*60*60)\n",
        "  ))\n",
        "  AND NOT t1.suspected_infection_time_poe_days IS NULL\n",
        "  AND sofa >= 2\n",
        "\"\n",
        "\n",
        "bq_sepsis3 <- bq_runsql(sql_sepsis3)"
      ],
      "execution_count": 0,
      "outputs": []
    },
    {
      "cell_type": "markdown",
      "metadata": {
        "id": "P37nVthwBstw",
        "colab_type": "text"
      },
      "source": [
        "This table includes the subset of ICU stays that have been identified as being positive for sepsis according to the Sepsis-3 criteria described above, as well as the increase in SOFA score for this subset of ICU stays."
      ]
    },
    {
      "cell_type": "code",
      "metadata": {
        "id": "pscB0j_SBsis",
        "colab_type": "code",
        "colab": {
          "base_uri": "https://localhost:8080/",
          "height": 175
        },
        "outputId": "4d95e572-b701-4773-f29d-5083d039d8ed"
      },
      "source": [
        "head(bq_sepsis3)"
      ],
      "execution_count": 193,
      "outputs": [
        {
          "output_type": "display_data",
          "data": {
            "text/plain": [
              "  icustay_id sepsis_3 sofa\n",
              "1 214027     1        6   \n",
              "2 217934     1        7   \n",
              "3 224026     1        3   \n",
              "4 217847     1        7   \n",
              "5 290505     1        3   \n",
              "6 211885     1        7   "
            ],
            "text/latex": "A tibble: 6 × 3\n\\begin{tabular}{lll}\n icustay\\_id & sepsis\\_3 & sofa\\\\\n <int> & <int> & <int>\\\\\n\\hline\n\t 214027 & 1 & 6\\\\\n\t 217934 & 1 & 7\\\\\n\t 224026 & 1 & 3\\\\\n\t 217847 & 1 & 7\\\\\n\t 290505 & 1 & 3\\\\\n\t 211885 & 1 & 7\\\\\n\\end{tabular}\n",
            "text/markdown": "\nA tibble: 6 × 3\n\n| icustay_id &lt;int&gt; | sepsis_3 &lt;int&gt; | sofa &lt;int&gt; |\n|---|---|---|\n| 214027 | 1 | 6 |\n| 217934 | 1 | 7 |\n| 224026 | 1 | 3 |\n| 217847 | 1 | 7 |\n| 290505 | 1 | 3 |\n| 211885 | 1 | 7 |\n\n",
            "text/html": [
              "<table>\n",
              "<caption>A tibble: 6 × 3</caption>\n",
              "<thead>\n",
              "\t<tr><th scope=col>icustay_id</th><th scope=col>sepsis_3</th><th scope=col>sofa</th></tr>\n",
              "\t<tr><th scope=col>&lt;int&gt;</th><th scope=col>&lt;int&gt;</th><th scope=col>&lt;int&gt;</th></tr>\n",
              "</thead>\n",
              "<tbody>\n",
              "\t<tr><td>214027</td><td>1</td><td>6</td></tr>\n",
              "\t<tr><td>217934</td><td>1</td><td>7</td></tr>\n",
              "\t<tr><td>224026</td><td>1</td><td>3</td></tr>\n",
              "\t<tr><td>217847</td><td>1</td><td>7</td></tr>\n",
              "\t<tr><td>290505</td><td>1</td><td>3</td></tr>\n",
              "\t<tr><td>211885</td><td>1</td><td>7</td></tr>\n",
              "</tbody>\n",
              "</table>\n"
            ]
          },
          "metadata": {
            "tags": []
          }
        }
      ]
    },
    {
      "cell_type": "markdown",
      "metadata": {
        "id": "79kMYC7HC-Q7",
        "colab_type": "text"
      },
      "source": [
        "We will now add these scores to our cohort table and set the `sepsis_3` value to \"0\" for ICU stays not in the Sepsis-3 table created above (these ICU stays were not identified as sepsis positive)."
      ]
    },
    {
      "cell_type": "code",
      "metadata": {
        "id": "zoyD0h2aCk5y",
        "colab_type": "code",
        "colab": {}
      },
      "source": [
        "cohort <- cohort %>%\n",
        "    dplyr::left_join(bq_sepsis3, by = \"icustay_id\") %>%\n",
        "    tidyr::replace_na(list(sepsis_3 = 0L))"
      ],
      "execution_count": 0,
      "outputs": []
    },
    {
      "cell_type": "markdown",
      "metadata": {
        "id": "oSzpvA5mDsBK",
        "colab_type": "text"
      },
      "source": [
        "## Ventilation status"
      ]
    },
    {
      "cell_type": "markdown",
      "metadata": {
        "id": "aIJWKyqlIH4C",
        "colab_type": "text"
      },
      "source": [
        "Ventilator status is extracted from the `ventdurations` table. This derived table was created using the code available on the `MIMIC-code` GitHub repo [here](https://github.com/MIT-LCP/mimic-code/blob/master/concepts/durations/ventilation-durations.sql). \n"
      ]
    },
    {
      "cell_type": "code",
      "metadata": {
        "id": "ZQm3nXt5F6kz",
        "colab_type": "code",
        "colab": {}
      },
      "source": [
        "bq_tab_ventdur <- \"physionet-data.mimiciii_derived.ventdurations\"\n",
        "\n",
        "## no need to execute an SQL query - just download!\n",
        "bq_ventdur <- bq_table_download(bq_tab_ventdur)"
      ],
      "execution_count": 0,
      "outputs": []
    },
    {
      "cell_type": "markdown",
      "metadata": {
        "id": "GaXaHbqkKr-q",
        "colab_type": "text"
      },
      "source": [
        "The `ventdurations` table includes durations for all predicted patient ventilation events included in the MIMIC database (see the above link for how this is determined). This means the table includes multiple ventilation durations (events) for each patient and each stay. \n",
        "\n",
        "We will collapse the table to individual ICU stays (`icustay_id`). "
      ]
    },
    {
      "cell_type": "code",
      "metadata": {
        "id": "ak7rBn4DKo9F",
        "colab_type": "code",
        "colab": {}
      },
      "source": [
        "ventdur_bystay <- bq_ventdur %>%\n",
        "    dplyr::filter(!is.na(icustay_id)) %>%\n",
        "    dplyr::group_by(icustay_id) %>%\n",
        "    dplyr::summarize(mechvent_days = sum(duration_hours) / 24,\n",
        "                     mechvent_start = min(starttime)) %>%\n",
        "    dplyr::mutate(mechvent_event = 1L)"
      ],
      "execution_count": 0,
      "outputs": []
    },
    {
      "cell_type": "markdown",
      "metadata": {
        "id": "ZKR76rFwLqtk",
        "colab_type": "text"
      },
      "source": [
        "For each ICU stay, we now have the number of days on mechanical ventilation and the start of ventilation. (We also now know which ICU stays had ventilation events - the ones in the table.)\n",
        "\n",
        "We now add these ventilation features to our cohort."
      ]
    },
    {
      "cell_type": "code",
      "metadata": {
        "id": "fWkNcDtULhRB",
        "colab_type": "code",
        "colab": {}
      },
      "source": [
        "cohort <- cohort %>%\n",
        "    dplyr::left_join(ventdur_bystay, by = \"icustay_id\")"
      ],
      "execution_count": 0,
      "outputs": []
    },
    {
      "cell_type": "markdown",
      "metadata": {
        "id": "0puJ-ZgFM3I6",
        "colab_type": "text"
      },
      "source": [
        "Since our ventilation table only include ICU stays *with* ventilation events, the other ICU stays in the table will have `NAs` in the ventilation columns. We'll replace these with \"0s\"."
      ]
    },
    {
      "cell_type": "code",
      "metadata": {
        "id": "P4UyhBKIM0CT",
        "colab_type": "code",
        "colab": {}
      },
      "source": [
        "cohort <- cohort %>%\n",
        "    dplyr::mutate(mechvent_event = ifelse(is.na(mechvent_event), 0, mechvent_event),\n",
        "                  mechvent_days = ifelse(is.na(mechvent_days), 0, mechvent_days))"
      ],
      "execution_count": 0,
      "outputs": []
    },
    {
      "cell_type": "markdown",
      "metadata": {
        "id": "74Xa_SP-J6PV",
        "colab_type": "text"
      },
      "source": [
        "While we have ventilation status and duration, what we're actually interested in is the ventilation *free days*. We compute the ventilation free days as the number of days without ventilation *after* ventilation is started. This is calculated using the ICU \"out time\", ventilation start time, and ventilation day columns."
      ]
    },
    {
      "cell_type": "code",
      "metadata": {
        "id": "1UXkdUIVJ-Nw",
        "colab_type": "code",
        "colab": {}
      },
      "source": [
        "cohort <- cohort %>%\n",
        "    dplyr::mutate(\n",
        "        mechvent_candidate_days = as.numeric(icu_outtime - mechvent_start, unit = \"days\"),\n",
        "        mechvent_free_days      = mechvent_candidate_days - mechvent_days)"
      ],
      "execution_count": 0,
      "outputs": []
    },
    {
      "cell_type": "markdown",
      "metadata": {
        "id": "voouDfMtODmg",
        "colab_type": "text"
      },
      "source": [
        "We will drop the columns that we're no longer interested in using."
      ]
    },
    {
      "cell_type": "code",
      "metadata": {
        "id": "KctAVImeOD2f",
        "colab_type": "code",
        "colab": {}
      },
      "source": [
        "cohort <- cohort %>%\n",
        "    dplyr::select(-mechvent_days, -mechvent_candidate_days, -mechvent_start)"
      ],
      "execution_count": 0,
      "outputs": []
    },
    {
      "cell_type": "markdown",
      "metadata": {
        "id": "wKrASqzuN9FY",
        "colab_type": "text"
      },
      "source": [
        "# Save cohort"
      ]
    },
    {
      "cell_type": "markdown",
      "metadata": {
        "id": "hfjuD8X1N_BL",
        "colab_type": "text"
      },
      "source": [
        "Finally, we'll write our complete cohort table to Google Drive. To do this, we will use the [`googledrive` package](https://googledrive.tidyverse.org/). There are several functions in this package (most prefixed with `drive_*`) that can be used to move, create, copy and remove files on Google Drive.\n",
        "\n",
        "Let's get started!"
      ]
    },
    {
      "cell_type": "markdown",
      "metadata": {
        "id": "t_rx37IQOD4N",
        "colab_type": "text"
      },
      "source": [
        "## Connect to Drive"
      ]
    },
    {
      "cell_type": "markdown",
      "metadata": {
        "id": "rG4rHtp7wHzd",
        "colab_type": "text"
      },
      "source": [
        "Connecting the Google Colab with Google Drive is a similar process to the one we used to connect to BigQuery above. First, we need to authenticate our account with the following command.\n",
        "\n",
        "(Notice that here we call `drive_auth` and above we called `bq_auth`.)"
      ]
    },
    {
      "cell_type": "code",
      "metadata": {
        "id": "hHbYv66VN_gJ",
        "colab_type": "code",
        "outputId": "bdbb8ce0-04cb-4c70-c913-b7422accffe6",
        "colab": {
          "base_uri": "https://localhost:8080/",
          "height": 118
        }
      },
      "source": [
        "drive_auth(use_oob = TRUE)"
      ],
      "execution_count": 201,
      "outputs": [
        {
          "output_type": "stream",
          "text": [
            "Please point your browser to the following url: \n",
            "\n",
            "https://accounts.google.com/o/oauth2/auth?client_id=603366585132-0l3n5tr582q443rnomebdeeo0156b2bc.apps.googleusercontent.com&scope=https%3A%2F%2Fwww.googleapis.com%2Fauth%2Fdrive%20https%3A%2F%2Fwww.googleapis.com%2Fauth%2Fuserinfo.email&redirect_uri=urn%3Aietf%3Awg%3Aoauth%3A2.0%3Aoob&response_type=code\n",
            "\n"
          ],
          "name": "stderr"
        },
        {
          "output_type": "stream",
          "text": [
            "Enter authorization code: 4/xAH_Fhm-LhqRHXm6HsdQ6gbPUBwB2zEvALyefMtn1uqXTOpE9HSMyog\n"
          ],
          "name": "stdout"
        }
      ]
    },
    {
      "cell_type": "markdown",
      "metadata": {
        "id": "vSKF9KLyv7Ly",
        "colab_type": "text"
      },
      "source": [
        "Now that we have acces to Google Drive, we can check our connection.\n",
        "\n",
        "To see all of the files at the home path of our Google Drive account (usually called \"My Drive\"), we can call the `drive_ls()` function. Remember to specify `path = \"~\"` when calling this function, otherwise the function will try to list out *all* of your files on Google Drive. (If you're like me, that can be a lot!!)"
      ]
    },
    {
      "cell_type": "code",
      "metadata": {
        "id": "i0odvQWRqv4N",
        "colab_type": "code",
        "colab": {}
      },
      "source": [
        "gd_files <- drive_ls(path = \"~\")"
      ],
      "execution_count": 0,
      "outputs": []
    },
    {
      "cell_type": "markdown",
      "metadata": {
        "id": "nZnLUOddxRS_",
        "colab_type": "text"
      },
      "source": [
        "Let's take a look at what was returned."
      ]
    },
    {
      "cell_type": "code",
      "metadata": {
        "id": "beP0N71VxQsD",
        "colab_type": "code",
        "outputId": "87e3a54e-b246-481f-9d11-023fcc5b1d15",
        "colab": {
          "base_uri": "https://localhost:8080/",
          "height": 115
        }
      },
      "source": [
        "show(gd_files)"
      ],
      "execution_count": 209,
      "outputs": [
        {
          "output_type": "stream",
          "text": [
            "\u001b[90m# A tibble: 3 x 3\u001b[39m\n",
            "  name            id                                drive_resource   \n",
            "\u001b[90m*\u001b[39m \u001b[3m\u001b[90m<chr>\u001b[39m\u001b[23m           \u001b[3m\u001b[90m<chr>\u001b[39m\u001b[23m                             \u001b[3m\u001b[90m<list>\u001b[39m\u001b[23m           \n",
            "\u001b[90m1\u001b[39m professional    0BwaR2ExkoRdua2xXV3l2QnZhanM      \u001b[90m<named list [33]>\u001b[39m\n",
            "\u001b[90m2\u001b[39m Colab Notebooks 1SpiGu6n32pft44rIK_lTe0scRqm58_V8 \u001b[90m<named list [33]>\u001b[39m\n",
            "\u001b[90m3\u001b[39m personal        0BwaR2ExkoRduVGx2alNvTmROY0k      \u001b[90m<named list [33]>\u001b[39m\n"
          ],
          "name": "stdout"
        }
      ]
    },
    {
      "cell_type": "markdown",
      "metadata": {
        "id": "tYstfZoOxTsc",
        "colab_type": "text"
      },
      "source": [
        "This is a table with the `name` of the files, as well as the Google Drive `id`, and a complex `drive_resource` column. We can ignore these additional files.\n",
        "\n",
        "If you visit your [Google Drive page](https://drive.google.com/), hopefully you'll see the same set as files as above.\n"
      ]
    },
    {
      "cell_type": "markdown",
      "metadata": {
        "id": "t9TLLOMKOHMs",
        "colab_type": "text"
      },
      "source": [
        "## Save to Drive"
      ]
    },
    {
      "cell_type": "markdown",
      "metadata": {
        "id": "QBbxs_XitH54",
        "colab_type": "text"
      },
      "source": [
        "The last step is to write our CSV file to Google Drive.\n",
        "\n",
        "We'll do this in 2 steps:\n",
        "- save a temporary CSV file here (in the Colab world),\n",
        "- copy that file to our Google Drive account."
      ]
    },
    {
      "cell_type": "markdown",
      "metadata": {
        "id": "i40UJlYPx7Hh",
        "colab_type": "text"
      },
      "source": [
        "First, we write the table to a CSV file."
      ]
    },
    {
      "cell_type": "code",
      "metadata": {
        "id": "6zvMqsKHtHwO",
        "colab_type": "code",
        "colab": {}
      },
      "source": [
        "write_csv(cohort, \"dataset_datathon_28022020.csv\")"
      ],
      "execution_count": 0,
      "outputs": []
    },
    {
      "cell_type": "markdown",
      "metadata": {
        "id": "e3eGILWzx_ph",
        "colab_type": "text"
      },
      "source": [
        "We can check to see that a file with the above name now exists."
      ]
    },
    {
      "cell_type": "code",
      "metadata": {
        "id": "irJaAiC7tHhB",
        "colab_type": "code",
        "outputId": "b8721de2-8f34-405f-af5a-755b135734cb",
        "colab": {
          "base_uri": "https://localhost:8080/",
          "height": 33
        }
      },
      "source": [
        "list.files()"
      ],
      "execution_count": 211,
      "outputs": [
        {
          "output_type": "display_data",
          "data": {
            "text/plain": [
              "[1] \"dataset_datathon_28022020.csv\" \"sample_data\"                  "
            ],
            "text/latex": "\\begin{enumerate*}\n\\item 'dataset\\_datathon\\_28022020.csv'\n\\item 'sample\\_data'\n\\end{enumerate*}\n",
            "text/markdown": "1. 'dataset_datathon_28022020.csv'\n2. 'sample_data'\n\n\n",
            "text/html": [
              "<style>\n",
              ".list-inline {list-style: none; margin:0; padding: 0}\n",
              ".list-inline>li {display: inline-block}\n",
              ".list-inline>li:not(:last-child)::after {content: \"\\00b7\"; padding: 0 .5ex}\n",
              "</style>\n",
              "<ol class=list-inline><li>'dataset_datathon_28022020.csv'</li><li>'sample_data'</li></ol>\n"
            ]
          },
          "metadata": {
            "tags": []
          }
        }
      ]
    },
    {
      "cell_type": "markdown",
      "metadata": {
        "id": "V0YTGU4HyD3f",
        "colab_type": "text"
      },
      "source": [
        "Next, we upload the file to Google Drive. The following command will upload our CSV file to our home folder on Google Drive (\"My Drive\")."
      ]
    },
    {
      "cell_type": "code",
      "metadata": {
        "id": "OsP3T4ncOHc6",
        "colab_type": "code",
        "outputId": "83102411-6d50-40a8-d732-3867d44aec8d",
        "colab": {
          "base_uri": "https://localhost:8080/",
          "height": 131
        }
      },
      "source": [
        "drive_upload(\"dataset_datathon_28022020.csv\")"
      ],
      "execution_count": 212,
      "outputs": [
        {
          "output_type": "stream",
          "text": [
            "Local file:\n",
            "  * dataset_datathon_28022020.csv\n",
            "uploaded into Drive file:\n",
            "  * dataset_datathon_28022020.csv: 1WjNArdHJ8N6L1RCCv-rk6eY8btsdXuYy\n",
            "with MIME type:\n",
            "  * text/csv\n",
            "\n"
          ],
          "name": "stderr"
        }
      ]
    },
    {
      "cell_type": "markdown",
      "metadata": {
        "id": "-uz8pHuVyHca",
        "colab_type": "text"
      },
      "source": [
        "Let's verify that the file is now uploaded to Google Drive by calling the same `drive_ls()` function as above."
      ]
    },
    {
      "cell_type": "code",
      "metadata": {
        "id": "vdfwFOJByN8r",
        "colab_type": "code",
        "outputId": "c589e119-725b-4e53-9d97-8be4d9590cd3",
        "colab": {
          "base_uri": "https://localhost:8080/",
          "height": 131
        }
      },
      "source": [
        "show(drive_ls(\"~\"))"
      ],
      "execution_count": 213,
      "outputs": [
        {
          "output_type": "stream",
          "text": [
            "\u001b[90m# A tibble: 4 x 3\u001b[39m\n",
            "  name                         id                               drive_resource  \n",
            "\u001b[90m*\u001b[39m \u001b[3m\u001b[90m<chr>\u001b[39m\u001b[23m                        \u001b[3m\u001b[90m<chr>\u001b[39m\u001b[23m                            \u001b[3m\u001b[90m<list>\u001b[39m\u001b[23m          \n",
            "\u001b[90m1\u001b[39m dataset_datathon_28022020.c… 1WjNArdHJ8N6L1RCCv-rk6eY8btsdXu… \u001b[90m<named list [38\u001b[0m…\n",
            "\u001b[90m2\u001b[39m professional                 0BwaR2ExkoRdua2xXV3l2QnZhanM     \u001b[90m<named list [33\u001b[0m…\n",
            "\u001b[90m3\u001b[39m Colab Notebooks              1SpiGu6n32pft44rIK_lTe0scRqm58_… \u001b[90m<named list [33\u001b[0m…\n",
            "\u001b[90m4\u001b[39m personal                     0BwaR2ExkoRduVGx2alNvTmROY0k     \u001b[90m<named list [33\u001b[0m…\n"
          ],
          "name": "stdout"
        }
      ]
    },
    {
      "cell_type": "markdown",
      "metadata": {
        "id": "4cIveJvVyiR7",
        "colab_type": "text"
      },
      "source": [
        "Now that we have our cohort, we're ready to move on to our analysis."
      ]
    },
    {
      "cell_type": "code",
      "metadata": {
        "id": "SIJhYxQgN0PO",
        "colab_type": "code",
        "colab": {}
      },
      "source": [
        ""
      ],
      "execution_count": 0,
      "outputs": []
    }
  ]
}