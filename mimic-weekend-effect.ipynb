{
 "cells": [
  {
   "cell_type": "markdown",
   "metadata": {
    "colab_type": "text",
    "id": "Yi5bCFZBMWkj"
   },
   "source": [
    "# Python demo for the 2018 BHI & BSN Data Challenge\n",
    "\n",
    "This notebook provides a simple introduction to analysing the MIMIC-III database. It was created as a demonstrator for the [2018 BHI & BSN Data Challenge](https://mimic.physionet.org/events/bhibsn-challenge/), which explores the following question:\n",
    "\n",
    "> Are patients admitted to the intensive care unit (ICU) on a weekend more likely to die in the hospital than those admitted on a weekday?\n",
    "\n",
    "We have provided an example slide template for final presentations (`slide-template.pptx`) at: https://github.com/MIT-LCP/bhi-bsn-challenge. There is no obligation to use it!\n",
    "\n"
   ]
  },
  {
   "cell_type": "markdown",
   "metadata": {
    "colab_type": "text",
    "id": "h9Vof4xQMWkl"
   },
   "source": [
    "## Background on MIMIC-III\n",
    "\n",
    "MIMIC-III (‘Medical Information Mart for Intensive Care’) is a large, single-center database comprising information relating to patients admitted to critical care units at a large tertiary care hospital. \n",
    "\n",
    "Data includes vital signs, medications, laboratory measurements, observations and notes charted by care providers, fluid balance, procedure codes, diagnostic codes, imaging reports, hospital length of stay, survival data, and more. \n",
    "\n",
    "For details, see: https://mimic.physionet.org/. The data is downloaded as 26 CSV files, which can then be loaded into a database system. Scripts for loading the data into Postgres are provided in the [MIMIC Code Repository](https://mimic.physionet.org/gettingstarted/dbsetup/). A demo dataset is also available: https://mimic.physionet.org/gettingstarted/demo/\n",
    "\n",
    "Points to note:\n",
    "\n",
    "- A patient-level shift has been applied to dates. Day of week is retained. \n",
    "- Patients aged >89 years on first admission have been reassigned an age of ~300 years.\n",
    "- Patients may have multiple hospital admissions. Each hospital admission may comprise multiple ICU stays (e.g. a patient may visit the ICU, leave for surgery, and then return to the ICU for recovery, all within a single hospital admission).\n",
    "\n",
    "If you need help getting set up with access to MIMIC-III, please contact `data-challenge@physionet.org`.\n"
   ]
  },
  {
   "cell_type": "markdown",
   "metadata": {
    "colab_type": "text",
    "id": "cLtC2c3QMWkm"
   },
   "source": [
    "# Import libraries"
   ]
  },
  {
   "cell_type": "code",
   "execution_count": 0,
   "metadata": {
    "colab": {},
    "colab_type": "code",
    "id": "wcJaxoqLMWkn"
   },
   "outputs": [],
   "source": [
    "# Data processing libraries\n",
    "import pandas as pd\n",
    "import numpy as np\n",
    "import itertools\n",
    "\n",
    "# Stats libraries\n",
    "import statsmodels.api as sm\n",
    "import statsmodels.formula.api as smf\n",
    "import scipy.stats\n",
    "\n",
    "# Image libraries\n",
    "import matplotlib.pyplot as plt\n",
    "\n",
    "\n",
    "# Make pandas dataframes prettier\n",
    "from IPython.display import display, HTML\n",
    "\n",
    "# Access data using Google BigQuery.\n",
    "import os\n",
    "from google.colab import auth\n",
    "from google.cloud import bigquery"
   ]
  },
  {
   "cell_type": "code",
   "execution_count": 49,
   "metadata": {
    "colab": {
     "base_uri": "https://localhost:8080/",
     "height": 187
    },
    "colab_type": "code",
    "id": "GtyznQqKNe4j",
    "outputId": "01875e72-77d2-4106-a04c-a439b53cc5dd"
   },
   "outputs": [
    {
     "name": "stdout",
     "output_type": "stream",
     "text": [
      "Requirement already satisfied: tableone in /usr/local/lib/python3.6/dist-packages (0.6.6)\n",
      "Requirement already satisfied: scipy>=0.18.1 in /usr/local/lib/python3.6/dist-packages (from tableone) (1.4.1)\n",
      "Requirement already satisfied: numpy>=1.12.1 in /usr/local/lib/python3.6/dist-packages (from tableone) (1.17.5)\n",
      "Requirement already satisfied: statsmodels>=0.8.0 in /usr/local/lib/python3.6/dist-packages (from tableone) (0.10.2)\n",
      "Requirement already satisfied: pandas>=0.22.0 in /usr/local/lib/python3.6/dist-packages (from tableone) (0.25.3)\n",
      "Requirement already satisfied: tabulate>=0.8.2 in /usr/local/lib/python3.6/dist-packages (from tableone) (0.8.6)\n",
      "Requirement already satisfied: patsy>=0.4.0 in /usr/local/lib/python3.6/dist-packages (from statsmodels>=0.8.0->tableone) (0.5.1)\n",
      "Requirement already satisfied: pytz>=2017.2 in /usr/local/lib/python3.6/dist-packages (from pandas>=0.22.0->tableone) (2018.9)\n",
      "Requirement already satisfied: python-dateutil>=2.6.1 in /usr/local/lib/python3.6/dist-packages (from pandas>=0.22.0->tableone) (2.6.1)\n",
      "Requirement already satisfied: six in /usr/local/lib/python3.6/dist-packages (from patsy>=0.4.0->statsmodels>=0.8.0->tableone) (1.12.0)\n"
     ]
    }
   ],
   "source": [
    "# install and import tableone\n",
    "!pip install tableone\n",
    "from tableone import TableOne"
   ]
  },
  {
   "cell_type": "markdown",
   "metadata": {
    "colab_type": "text",
    "id": "qxrVxcLdMWks"
   },
   "source": [
    "# Connect to the MIMIC-III database\n",
    "\n",
    "Before running any queries, you need to first authenticate yourself by running the following cell. If you are running it for the first time, it will ask you to follow a link to log in using your Gmail account, and accept the data access requests to your profile. Once this is done, it will generate a string of verification code, which you should paste back to the cell below and press enter."
   ]
  },
  {
   "cell_type": "code",
   "execution_count": 0,
   "metadata": {
    "colab": {},
    "colab_type": "code",
    "id": "4B6TPqBvMWks"
   },
   "outputs": [],
   "source": [
    "auth.authenticate_user()"
   ]
  },
  {
   "cell_type": "code",
   "execution_count": 0,
   "metadata": {
    "colab": {},
    "colab_type": "code",
    "id": "Ps3vy94mMWkx"
   },
   "outputs": [],
   "source": [
    "# add your project ID for billing\n",
    "project_id='bidmc-datathon'\n",
    "os.environ[\"GOOGLE_CLOUD_PROJECT\"]=project_id"
   ]
  },
  {
   "cell_type": "markdown",
   "metadata": {
    "colab_type": "text",
    "id": "kbS3XgD9MWkz"
   },
   "source": [
    "# Extract data from MIMIC-III and assign to a Pandas DataFrame\n",
    "\n",
    "The following query extracts a simple dataset from the MIMIC-III database, comprising demographics, hospital and ICU admission times, and a severity of illness score ([OASIS](https://www.ncbi.nlm.nih.gov/pubmed/23660729)).\n",
    "\n",
    "Before running this query, you must first build the `icustay_detail` and `oasis` materialized views. Code for building these views is available in the MIMIC Code Repository:\n",
    "- `icustay_detail`: https://github.com/MIT-LCP/mimic-code/tree/master/concepts/demographics\n",
    "- `oasis`: https://github.com/MIT-LCP/mimic-code/tree/master/concepts/severityscores\n",
    "\n",
    "You will notice that our example restricts the analysis to:\n",
    "\n",
    "- first hospital admissions \n",
    "- patients who were `>= 16` years at time of hospital admission.\n",
    "- the first ICU stay (patients may move to the ICU multiple times within a hospital stay)"
   ]
  },
  {
   "cell_type": "code",
   "execution_count": 0,
   "metadata": {
    "colab": {},
    "colab_type": "code",
    "id": "8zIFQQ8EMWkz"
   },
   "outputs": [],
   "source": [
    "# Run query and assign the results to a Pandas DataFrame\n",
    "# Requires the icustay_detail view from:\n",
    "# https://github.com/MIT-LCP/mimic-code/tree/master/concepts/demographics\n",
    "# And the OASIS score from:\n",
    "# https://github.com/MIT-LCP/mimic-code/tree/master/concepts/severityscores\n",
    "%%bigquery data\n",
    "\n",
    "WITH first_icu AS (\n",
    "    SELECT i.subject_id, i.hadm_id, i.icustay_id, i.gender, i.admittime admittime_hospital, \n",
    "      i.dischtime dischtime_hospital, i.los_hospital, i.admission_age, i.admission_type, \n",
    "      i.hospital_expire_flag, i.intime intime_icu, i.outtime outtime_icu, i.los_icu, \n",
    "      s.first_careunit\n",
    "    FROM `physionet-data.mimiciii_derived.icustay_detail` i\n",
    "    LEFT JOIN `physionet-data.mimiciii_clinical.icustays` s\n",
    "    ON i.icustay_id = s.icustay_id\n",
    "    WHERE i.hospstay_seq = 1\n",
    "      AND i.icustay_seq = 1\n",
    "      AND i.admission_age >= 16\n",
    ")\n",
    "SELECT f.*, o.icustay_expire_flag, o.oasis, o.oasis_prob\n",
    "FROM first_icu f\n",
    "LEFT JOIN `physionet-data.mimiciii_derived.oasis` o\n",
    "ON f.icustay_id = o.icustay_id;"
   ]
  },
  {
   "cell_type": "markdown",
   "metadata": {
    "colab_type": "text",
    "id": "Bu442pAsMWk1"
   },
   "source": [
    "# Check the extracted data\n",
    "\n",
    "It is always a good idea to inspect the data after you have extracted it.  We will look at the first six patients (rows), and then check the number of rows, and get some summary statistics of the dataset."
   ]
  },
  {
   "cell_type": "code",
   "execution_count": 12,
   "metadata": {
    "colab": {
     "base_uri": "https://localhost:8080/",
     "height": 102
    },
    "colab_type": "code",
    "id": "12Aqg89AMWk2",
    "outputId": "7cc73d71-6d77-4823-e826-c573dbad351c"
   },
   "outputs": [
    {
     "data": {
      "text/plain": [
       "Index(['subject_id', 'hadm_id', 'icustay_id', 'gender', 'admittime_hospital',\n",
       "       'dischtime_hospital', 'los_hospital', 'admission_age', 'admission_type',\n",
       "       'hospital_expire_flag', 'intime_icu', 'outtime_icu', 'los_icu',\n",
       "       'first_careunit', 'icustay_expire_flag', 'oasis', 'oasis_prob'],\n",
       "      dtype='object')"
      ]
     },
     "execution_count": 12,
     "metadata": {
      "tags": []
     },
     "output_type": "execute_result"
    }
   ],
   "source": [
    "data.columns"
   ]
  },
  {
   "cell_type": "code",
   "execution_count": 13,
   "metadata": {
    "colab": {
     "base_uri": "https://localhost:8080/",
     "height": 309
    },
    "colab_type": "code",
    "id": "20zN-HEUMWk4",
    "outputId": "e469cb69-cbc3-46af-b93c-fa898c22f97e"
   },
   "outputs": [
    {
     "data": {
      "text/html": [
       "<div>\n",
       "<style scoped>\n",
       "    .dataframe tbody tr th:only-of-type {\n",
       "        vertical-align: middle;\n",
       "    }\n",
       "\n",
       "    .dataframe tbody tr th {\n",
       "        vertical-align: top;\n",
       "    }\n",
       "\n",
       "    .dataframe thead th {\n",
       "        text-align: right;\n",
       "    }\n",
       "</style>\n",
       "<table border=\"1\" class=\"dataframe\">\n",
       "  <thead>\n",
       "    <tr style=\"text-align: right;\">\n",
       "      <th></th>\n",
       "      <th>subject_id</th>\n",
       "      <th>hadm_id</th>\n",
       "      <th>icustay_id</th>\n",
       "      <th>gender</th>\n",
       "      <th>admittime_hospital</th>\n",
       "      <th>dischtime_hospital</th>\n",
       "      <th>los_hospital</th>\n",
       "      <th>admission_age</th>\n",
       "      <th>admission_type</th>\n",
       "      <th>hospital_expire_flag</th>\n",
       "      <th>intime_icu</th>\n",
       "      <th>outtime_icu</th>\n",
       "      <th>los_icu</th>\n",
       "      <th>first_careunit</th>\n",
       "      <th>icustay_expire_flag</th>\n",
       "      <th>oasis</th>\n",
       "      <th>oasis_prob</th>\n",
       "    </tr>\n",
       "  </thead>\n",
       "  <tbody>\n",
       "    <tr>\n",
       "      <th>0</th>\n",
       "      <td>3</td>\n",
       "      <td>145834</td>\n",
       "      <td>211552</td>\n",
       "      <td>M</td>\n",
       "      <td>2101-10-20 19:08:00</td>\n",
       "      <td>2101-10-31 13:58:00</td>\n",
       "      <td>11</td>\n",
       "      <td>76</td>\n",
       "      <td>EMERGENCY</td>\n",
       "      <td>0</td>\n",
       "      <td>2101-10-20 19:10:11</td>\n",
       "      <td>2101-10-26 20:43:09</td>\n",
       "      <td>6.0</td>\n",
       "      <td>MICU</td>\n",
       "      <td>0</td>\n",
       "      <td>57</td>\n",
       "      <td>0.748927</td>\n",
       "    </tr>\n",
       "    <tr>\n",
       "      <th>1</th>\n",
       "      <td>6</td>\n",
       "      <td>107064</td>\n",
       "      <td>228232</td>\n",
       "      <td>F</td>\n",
       "      <td>2175-05-30 07:15:00</td>\n",
       "      <td>2175-06-15 16:00:00</td>\n",
       "      <td>16</td>\n",
       "      <td>66</td>\n",
       "      <td>ELECTIVE</td>\n",
       "      <td>0</td>\n",
       "      <td>2175-05-30 21:30:54</td>\n",
       "      <td>2175-06-03 13:39:54</td>\n",
       "      <td>4.0</td>\n",
       "      <td>SICU</td>\n",
       "      <td>0</td>\n",
       "      <td>11</td>\n",
       "      <td>0.008392</td>\n",
       "    </tr>\n",
       "    <tr>\n",
       "      <th>2</th>\n",
       "      <td>38</td>\n",
       "      <td>185910</td>\n",
       "      <td>248910</td>\n",
       "      <td>M</td>\n",
       "      <td>2166-08-10 00:28:00</td>\n",
       "      <td>2166-09-04 11:30:00</td>\n",
       "      <td>25</td>\n",
       "      <td>76</td>\n",
       "      <td>EMERGENCY</td>\n",
       "      <td>0</td>\n",
       "      <td>2166-08-10 00:29:36</td>\n",
       "      <td>2166-09-04 13:39:23</td>\n",
       "      <td>25.0</td>\n",
       "      <td>CCU</td>\n",
       "      <td>0</td>\n",
       "      <td>54</td>\n",
       "      <td>0.670490</td>\n",
       "    </tr>\n",
       "    <tr>\n",
       "      <th>3</th>\n",
       "      <td>56</td>\n",
       "      <td>181711</td>\n",
       "      <td>275642</td>\n",
       "      <td>F</td>\n",
       "      <td>2104-01-02 02:01:00</td>\n",
       "      <td>2104-01-08 10:30:00</td>\n",
       "      <td>6</td>\n",
       "      <td>300</td>\n",
       "      <td>EMERGENCY</td>\n",
       "      <td>1</td>\n",
       "      <td>2104-01-02 02:02:39</td>\n",
       "      <td>2104-01-03 22:25:29</td>\n",
       "      <td>1.0</td>\n",
       "      <td>SICU</td>\n",
       "      <td>0</td>\n",
       "      <td>52</td>\n",
       "      <td>0.611922</td>\n",
       "    </tr>\n",
       "    <tr>\n",
       "      <th>4</th>\n",
       "      <td>98</td>\n",
       "      <td>188606</td>\n",
       "      <td>216929</td>\n",
       "      <td>F</td>\n",
       "      <td>2137-04-02 08:00:00</td>\n",
       "      <td>2137-04-09 10:38:00</td>\n",
       "      <td>7</td>\n",
       "      <td>41</td>\n",
       "      <td>ELECTIVE</td>\n",
       "      <td>0</td>\n",
       "      <td>2137-04-02 15:15:39</td>\n",
       "      <td>2137-04-04 21:06:16</td>\n",
       "      <td>2.0</td>\n",
       "      <td>SICU</td>\n",
       "      <td>0</td>\n",
       "      <td>11</td>\n",
       "      <td>0.008392</td>\n",
       "    </tr>\n",
       "  </tbody>\n",
       "</table>\n",
       "</div>"
      ],
      "text/plain": [
       "   subject_id  hadm_id  icustay_id  ... icustay_expire_flag oasis oasis_prob\n",
       "0           3   145834      211552  ...                   0    57   0.748927\n",
       "1           6   107064      228232  ...                   0    11   0.008392\n",
       "2          38   185910      248910  ...                   0    54   0.670490\n",
       "3          56   181711      275642  ...                   0    52   0.611922\n",
       "4          98   188606      216929  ...                   0    11   0.008392\n",
       "\n",
       "[5 rows x 17 columns]"
      ]
     },
     "execution_count": 13,
     "metadata": {
      "tags": []
     },
     "output_type": "execute_result"
    }
   ],
   "source": [
    "data.head()"
   ]
  },
  {
   "cell_type": "code",
   "execution_count": 14,
   "metadata": {
    "colab": {
     "base_uri": "https://localhost:8080/",
     "height": 359
    },
    "colab_type": "code",
    "id": "4p67h2PJMWk7",
    "outputId": "c8ab7ef1-0630-41bd-8ade-b4f79edf8c34"
   },
   "outputs": [
    {
     "data": {
      "text/html": [
       "<div>\n",
       "<style scoped>\n",
       "    .dataframe tbody tr th:only-of-type {\n",
       "        vertical-align: middle;\n",
       "    }\n",
       "\n",
       "    .dataframe tbody tr th {\n",
       "        vertical-align: top;\n",
       "    }\n",
       "\n",
       "    .dataframe thead th {\n",
       "        text-align: right;\n",
       "    }\n",
       "</style>\n",
       "<table border=\"1\" class=\"dataframe\">\n",
       "  <thead>\n",
       "    <tr style=\"text-align: right;\">\n",
       "      <th></th>\n",
       "      <th>count</th>\n",
       "      <th>mean</th>\n",
       "      <th>std</th>\n",
       "      <th>min</th>\n",
       "      <th>25%</th>\n",
       "      <th>50%</th>\n",
       "      <th>75%</th>\n",
       "      <th>max</th>\n",
       "    </tr>\n",
       "  </thead>\n",
       "  <tbody>\n",
       "    <tr>\n",
       "      <th>subject_id</th>\n",
       "      <td>38558.0</td>\n",
       "      <td>38266.820037</td>\n",
       "      <td>29376.431490</td>\n",
       "      <td>3.000000</td>\n",
       "      <td>13980.250000</td>\n",
       "      <td>27912.500000</td>\n",
       "      <td>62963.250000</td>\n",
       "      <td>99999.000000</td>\n",
       "    </tr>\n",
       "    <tr>\n",
       "      <th>hadm_id</th>\n",
       "      <td>38558.0</td>\n",
       "      <td>150037.148919</td>\n",
       "      <td>28944.929045</td>\n",
       "      <td>100001.000000</td>\n",
       "      <td>124928.500000</td>\n",
       "      <td>150092.500000</td>\n",
       "      <td>175222.250000</td>\n",
       "      <td>199999.000000</td>\n",
       "    </tr>\n",
       "    <tr>\n",
       "      <th>icustay_id</th>\n",
       "      <td>38558.0</td>\n",
       "      <td>250222.157218</td>\n",
       "      <td>28913.703899</td>\n",
       "      <td>200003.000000</td>\n",
       "      <td>225240.250000</td>\n",
       "      <td>250278.000000</td>\n",
       "      <td>275287.000000</td>\n",
       "      <td>299999.000000</td>\n",
       "    </tr>\n",
       "    <tr>\n",
       "      <th>los_hospital</th>\n",
       "      <td>38558.0</td>\n",
       "      <td>9.853831</td>\n",
       "      <td>10.705233</td>\n",
       "      <td>0.000000</td>\n",
       "      <td>4.000000</td>\n",
       "      <td>7.000000</td>\n",
       "      <td>12.000000</td>\n",
       "      <td>295.000000</td>\n",
       "    </tr>\n",
       "    <tr>\n",
       "      <th>admission_age</th>\n",
       "      <td>38558.0</td>\n",
       "      <td>74.562970</td>\n",
       "      <td>55.115176</td>\n",
       "      <td>16.000000</td>\n",
       "      <td>52.000000</td>\n",
       "      <td>66.000000</td>\n",
       "      <td>78.000000</td>\n",
       "      <td>310.000000</td>\n",
       "    </tr>\n",
       "    <tr>\n",
       "      <th>hospital_expire_flag</th>\n",
       "      <td>38558.0</td>\n",
       "      <td>0.114736</td>\n",
       "      <td>0.318708</td>\n",
       "      <td>0.000000</td>\n",
       "      <td>0.000000</td>\n",
       "      <td>0.000000</td>\n",
       "      <td>0.000000</td>\n",
       "      <td>1.000000</td>\n",
       "    </tr>\n",
       "    <tr>\n",
       "      <th>los_icu</th>\n",
       "      <td>38556.0</td>\n",
       "      <td>3.987395</td>\n",
       "      <td>6.018559</td>\n",
       "      <td>0.000000</td>\n",
       "      <td>1.000000</td>\n",
       "      <td>2.000000</td>\n",
       "      <td>4.000000</td>\n",
       "      <td>154.000000</td>\n",
       "    </tr>\n",
       "    <tr>\n",
       "      <th>icustay_expire_flag</th>\n",
       "      <td>38558.0</td>\n",
       "      <td>0.082836</td>\n",
       "      <td>0.275638</td>\n",
       "      <td>0.000000</td>\n",
       "      <td>0.000000</td>\n",
       "      <td>0.000000</td>\n",
       "      <td>0.000000</td>\n",
       "      <td>1.000000</td>\n",
       "    </tr>\n",
       "    <tr>\n",
       "      <th>oasis</th>\n",
       "      <td>38558.0</td>\n",
       "      <td>30.904015</td>\n",
       "      <td>8.810747</td>\n",
       "      <td>3.000000</td>\n",
       "      <td>25.000000</td>\n",
       "      <td>30.000000</td>\n",
       "      <td>37.000000</td>\n",
       "      <td>70.000000</td>\n",
       "    </tr>\n",
       "    <tr>\n",
       "      <th>oasis_prob</th>\n",
       "      <td>38558.0</td>\n",
       "      <td>0.138850</td>\n",
       "      <td>0.136895</td>\n",
       "      <td>0.003042</td>\n",
       "      <td>0.048012</td>\n",
       "      <td>0.087098</td>\n",
       "      <td>0.188911</td>\n",
       "      <td>0.939936</td>\n",
       "    </tr>\n",
       "  </tbody>\n",
       "</table>\n",
       "</div>"
      ],
      "text/plain": [
       "                        count           mean  ...            75%            max\n",
       "subject_id            38558.0   38266.820037  ...   62963.250000   99999.000000\n",
       "hadm_id               38558.0  150037.148919  ...  175222.250000  199999.000000\n",
       "icustay_id            38558.0  250222.157218  ...  275287.000000  299999.000000\n",
       "los_hospital          38558.0       9.853831  ...      12.000000     295.000000\n",
       "admission_age         38558.0      74.562970  ...      78.000000     310.000000\n",
       "hospital_expire_flag  38558.0       0.114736  ...       0.000000       1.000000\n",
       "los_icu               38556.0       3.987395  ...       4.000000     154.000000\n",
       "icustay_expire_flag   38558.0       0.082836  ...       0.000000       1.000000\n",
       "oasis                 38558.0      30.904015  ...      37.000000      70.000000\n",
       "oasis_prob            38558.0       0.138850  ...       0.188911       0.939936\n",
       "\n",
       "[10 rows x 8 columns]"
      ]
     },
     "execution_count": 14,
     "metadata": {
      "tags": []
     },
     "output_type": "execute_result"
    }
   ],
   "source": [
    "data.describe().T"
   ]
  },
  {
   "cell_type": "markdown",
   "metadata": {
    "colab_type": "text",
    "id": "fwS3Gt-lMWk_"
   },
   "source": [
    "# Add day of week to DataFrame\n",
    "\n",
    "If we are going to examine the weekend effect, we need to pull this out of the dataset, as you can see, all we have above are dates. We will define a weekend, as anytime between Saturday (00:00:00) until Sunday (23:59:59). The dates above are shifted, and that's why they look odd, but they are matched on the day of week, so this aspect is preserved."
   ]
  },
  {
   "cell_type": "code",
   "execution_count": 15,
   "metadata": {
    "colab": {
     "base_uri": "https://localhost:8080/",
     "height": 309
    },
    "colab_type": "code",
    "id": "2F1Pmf5EMWlA",
    "outputId": "4dbe6b48-527a-446a-8e4e-caa25b6694f0"
   },
   "outputs": [
    {
     "data": {
      "text/html": [
       "<div>\n",
       "<style scoped>\n",
       "    .dataframe tbody tr th:only-of-type {\n",
       "        vertical-align: middle;\n",
       "    }\n",
       "\n",
       "    .dataframe tbody tr th {\n",
       "        vertical-align: top;\n",
       "    }\n",
       "\n",
       "    .dataframe thead th {\n",
       "        text-align: right;\n",
       "    }\n",
       "</style>\n",
       "<table border=\"1\" class=\"dataframe\">\n",
       "  <thead>\n",
       "    <tr style=\"text-align: right;\">\n",
       "      <th></th>\n",
       "      <th>subject_id</th>\n",
       "      <th>hadm_id</th>\n",
       "      <th>icustay_id</th>\n",
       "      <th>gender</th>\n",
       "      <th>admittime_hospital</th>\n",
       "      <th>dischtime_hospital</th>\n",
       "      <th>los_hospital</th>\n",
       "      <th>admission_age</th>\n",
       "      <th>admission_type</th>\n",
       "      <th>hospital_expire_flag</th>\n",
       "      <th>intime_icu</th>\n",
       "      <th>outtime_icu</th>\n",
       "      <th>los_icu</th>\n",
       "      <th>first_careunit</th>\n",
       "      <th>icustay_expire_flag</th>\n",
       "      <th>oasis</th>\n",
       "      <th>oasis_prob</th>\n",
       "      <th>admitday_hospital</th>\n",
       "      <th>dischday_hospital</th>\n",
       "      <th>inday_icu</th>\n",
       "      <th>inday_icu_seq</th>\n",
       "      <th>outday_icu</th>\n",
       "    </tr>\n",
       "  </thead>\n",
       "  <tbody>\n",
       "    <tr>\n",
       "      <th>0</th>\n",
       "      <td>3</td>\n",
       "      <td>145834</td>\n",
       "      <td>211552</td>\n",
       "      <td>M</td>\n",
       "      <td>2101-10-20 19:08:00</td>\n",
       "      <td>2101-10-31 13:58:00</td>\n",
       "      <td>11</td>\n",
       "      <td>76</td>\n",
       "      <td>EMERGENCY</td>\n",
       "      <td>0</td>\n",
       "      <td>2101-10-20 19:10:11</td>\n",
       "      <td>2101-10-26 20:43:09</td>\n",
       "      <td>6.0</td>\n",
       "      <td>MICU</td>\n",
       "      <td>0</td>\n",
       "      <td>57</td>\n",
       "      <td>0.748927</td>\n",
       "      <td>Thursday</td>\n",
       "      <td>Monday</td>\n",
       "      <td>Thursday</td>\n",
       "      <td>3</td>\n",
       "      <td>Wednesday</td>\n",
       "    </tr>\n",
       "    <tr>\n",
       "      <th>1</th>\n",
       "      <td>6</td>\n",
       "      <td>107064</td>\n",
       "      <td>228232</td>\n",
       "      <td>F</td>\n",
       "      <td>2175-05-30 07:15:00</td>\n",
       "      <td>2175-06-15 16:00:00</td>\n",
       "      <td>16</td>\n",
       "      <td>66</td>\n",
       "      <td>ELECTIVE</td>\n",
       "      <td>0</td>\n",
       "      <td>2175-05-30 21:30:54</td>\n",
       "      <td>2175-06-03 13:39:54</td>\n",
       "      <td>4.0</td>\n",
       "      <td>SICU</td>\n",
       "      <td>0</td>\n",
       "      <td>11</td>\n",
       "      <td>0.008392</td>\n",
       "      <td>Tuesday</td>\n",
       "      <td>Thursday</td>\n",
       "      <td>Tuesday</td>\n",
       "      <td>1</td>\n",
       "      <td>Saturday</td>\n",
       "    </tr>\n",
       "    <tr>\n",
       "      <th>2</th>\n",
       "      <td>38</td>\n",
       "      <td>185910</td>\n",
       "      <td>248910</td>\n",
       "      <td>M</td>\n",
       "      <td>2166-08-10 00:28:00</td>\n",
       "      <td>2166-09-04 11:30:00</td>\n",
       "      <td>25</td>\n",
       "      <td>76</td>\n",
       "      <td>EMERGENCY</td>\n",
       "      <td>0</td>\n",
       "      <td>2166-08-10 00:29:36</td>\n",
       "      <td>2166-09-04 13:39:23</td>\n",
       "      <td>25.0</td>\n",
       "      <td>CCU</td>\n",
       "      <td>0</td>\n",
       "      <td>54</td>\n",
       "      <td>0.670490</td>\n",
       "      <td>Sunday</td>\n",
       "      <td>Thursday</td>\n",
       "      <td>Sunday</td>\n",
       "      <td>6</td>\n",
       "      <td>Thursday</td>\n",
       "    </tr>\n",
       "    <tr>\n",
       "      <th>3</th>\n",
       "      <td>56</td>\n",
       "      <td>181711</td>\n",
       "      <td>275642</td>\n",
       "      <td>F</td>\n",
       "      <td>2104-01-02 02:01:00</td>\n",
       "      <td>2104-01-08 10:30:00</td>\n",
       "      <td>6</td>\n",
       "      <td>300</td>\n",
       "      <td>EMERGENCY</td>\n",
       "      <td>1</td>\n",
       "      <td>2104-01-02 02:02:39</td>\n",
       "      <td>2104-01-03 22:25:29</td>\n",
       "      <td>1.0</td>\n",
       "      <td>SICU</td>\n",
       "      <td>0</td>\n",
       "      <td>52</td>\n",
       "      <td>0.611922</td>\n",
       "      <td>Wednesday</td>\n",
       "      <td>Tuesday</td>\n",
       "      <td>Wednesday</td>\n",
       "      <td>2</td>\n",
       "      <td>Thursday</td>\n",
       "    </tr>\n",
       "    <tr>\n",
       "      <th>4</th>\n",
       "      <td>98</td>\n",
       "      <td>188606</td>\n",
       "      <td>216929</td>\n",
       "      <td>F</td>\n",
       "      <td>2137-04-02 08:00:00</td>\n",
       "      <td>2137-04-09 10:38:00</td>\n",
       "      <td>7</td>\n",
       "      <td>41</td>\n",
       "      <td>ELECTIVE</td>\n",
       "      <td>0</td>\n",
       "      <td>2137-04-02 15:15:39</td>\n",
       "      <td>2137-04-04 21:06:16</td>\n",
       "      <td>2.0</td>\n",
       "      <td>SICU</td>\n",
       "      <td>0</td>\n",
       "      <td>11</td>\n",
       "      <td>0.008392</td>\n",
       "      <td>Tuesday</td>\n",
       "      <td>Tuesday</td>\n",
       "      <td>Tuesday</td>\n",
       "      <td>1</td>\n",
       "      <td>Thursday</td>\n",
       "    </tr>\n",
       "  </tbody>\n",
       "</table>\n",
       "</div>"
      ],
      "text/plain": [
       "   subject_id  hadm_id  icustay_id  ...  inday_icu inday_icu_seq outday_icu\n",
       "0           3   145834      211552  ...   Thursday             3  Wednesday\n",
       "1           6   107064      228232  ...    Tuesday             1   Saturday\n",
       "2          38   185910      248910  ...     Sunday             6   Thursday\n",
       "3          56   181711      275642  ...  Wednesday             2   Thursday\n",
       "4          98   188606      216929  ...    Tuesday             1   Thursday\n",
       "\n",
       "[5 rows x 22 columns]"
      ]
     },
     "execution_count": 15,
     "metadata": {
      "tags": []
     },
     "output_type": "execute_result"
    }
   ],
   "source": [
    "data['admitday_hospital'] = data.admittime_hospital.dt.weekday_name\n",
    "data['dischday_hospital'] = data.dischtime_hospital.dt.weekday_name\n",
    "data['inday_icu'] = data.intime_icu.dt.weekday_name\n",
    "data['inday_icu_seq'] = data.intime_icu.dt.weekday\n",
    "data['outday_icu'] = data.outtime_icu.dt.weekday_name\n",
    "data.head()"
   ]
  },
  {
   "cell_type": "code",
   "execution_count": 16,
   "metadata": {
    "colab": {
     "base_uri": "https://localhost:8080/",
     "height": 153
    },
    "colab_type": "code",
    "id": "8qK4ieh6MWlC",
    "outputId": "dd2fb58e-43f2-41dc-bf2e-b084ecc7e563"
   },
   "outputs": [
    {
     "data": {
      "text/plain": [
       "Friday       6263\n",
       "Tuesday      6141\n",
       "Monday       6097\n",
       "Wednesday    5985\n",
       "Thursday     5877\n",
       "Saturday     4235\n",
       "Sunday       3960\n",
       "Name: inday_icu, dtype: int64"
      ]
     },
     "execution_count": 16,
     "metadata": {
      "tags": []
     },
     "output_type": "execute_result"
    }
   ],
   "source": [
    "data['inday_icu'].value_counts()"
   ]
  },
  {
   "cell_type": "code",
   "execution_count": 17,
   "metadata": {
    "colab": {
     "base_uri": "https://localhost:8080/",
     "height": 68
    },
    "colab_type": "code",
    "id": "jx2E-tWzMWlE",
    "outputId": "254879c9-357a-4633-c1e1-d9fcf9d91412"
   },
   "outputs": [
    {
     "data": {
      "text/plain": [
       "weekday    30363\n",
       "weekend     8195\n",
       "Name: inday_icu_wkd, dtype: int64"
      ]
     },
     "execution_count": 17,
     "metadata": {
      "tags": []
     },
     "output_type": "execute_result"
    }
   ],
   "source": [
    "# create weekday vs weekend column for icu_intime \n",
    "data['inday_icu_wkd'] = np.where(data.intime_icu.dt.weekday <= 4, \n",
    "                                 'weekday','weekend')\n",
    "data['inday_icu_wkd'].value_counts()"
   ]
  },
  {
   "cell_type": "markdown",
   "metadata": {
    "colab_type": "text",
    "collapsed": true,
    "id": "bnvClxjQMWlG"
   },
   "source": [
    "# Produce some Summary Statistics by DOW and Weekday vs. Weekend\n",
    "\n",
    "Next, it's good to look at some basic summaries of the data.  We will compute simple averages and percentages/counts for each of the variables we have extracted, and look at it by day of week and weekend."
   ]
  },
  {
   "cell_type": "code",
   "execution_count": 18,
   "metadata": {
    "colab": {
     "base_uri": "https://localhost:8080/",
     "height": 136
    },
    "colab_type": "code",
    "id": "SIik2OotMWlH",
    "outputId": "01da588b-015c-4510-e3af-31f285bdc901"
   },
   "outputs": [
    {
     "data": {
      "text/plain": [
       "Index(['subject_id', 'hadm_id', 'icustay_id', 'gender', 'admittime_hospital',\n",
       "       'dischtime_hospital', 'los_hospital', 'admission_age', 'admission_type',\n",
       "       'hospital_expire_flag', 'intime_icu', 'outtime_icu', 'los_icu',\n",
       "       'first_careunit', 'icustay_expire_flag', 'oasis', 'oasis_prob',\n",
       "       'admitday_hospital', 'dischday_hospital', 'inday_icu', 'inday_icu_seq',\n",
       "       'outday_icu', 'inday_icu_wkd'],\n",
       "      dtype='object')"
      ]
     },
     "execution_count": 18,
     "metadata": {
      "tags": []
     },
     "output_type": "execute_result"
    }
   ],
   "source": [
    "data.columns"
   ]
  },
  {
   "cell_type": "code",
   "execution_count": 19,
   "metadata": {
    "colab": {
     "base_uri": "https://localhost:8080/",
     "height": 762
    },
    "colab_type": "code",
    "id": "ALKoIYjaMWlJ",
    "outputId": "4662f8ca-9688-41e5-cccf-4f3af7327557"
   },
   "outputs": [
    {
     "data": {
      "text/html": [
       "<div>\n",
       "<style scoped>\n",
       "    .dataframe tbody tr th:only-of-type {\n",
       "        vertical-align: middle;\n",
       "    }\n",
       "\n",
       "    .dataframe tbody tr th {\n",
       "        vertical-align: top;\n",
       "    }\n",
       "\n",
       "    .dataframe thead tr th {\n",
       "        text-align: left;\n",
       "    }\n",
       "</style>\n",
       "<table border=\"1\" class=\"dataframe\">\n",
       "  <thead>\n",
       "    <tr>\n",
       "      <th></th>\n",
       "      <th></th>\n",
       "      <th colspan=\"8\" halign=\"left\">Grouped by inday_icu</th>\n",
       "    </tr>\n",
       "    <tr>\n",
       "      <th></th>\n",
       "      <th></th>\n",
       "      <th>Missing</th>\n",
       "      <th>Friday</th>\n",
       "      <th>Monday</th>\n",
       "      <th>Saturday</th>\n",
       "      <th>Sunday</th>\n",
       "      <th>Thursday</th>\n",
       "      <th>Tuesday</th>\n",
       "      <th>Wednesday</th>\n",
       "    </tr>\n",
       "  </thead>\n",
       "  <tbody>\n",
       "    <tr>\n",
       "      <th>n</th>\n",
       "      <th></th>\n",
       "      <td></td>\n",
       "      <td>6263</td>\n",
       "      <td>6097</td>\n",
       "      <td>4235</td>\n",
       "      <td>3960</td>\n",
       "      <td>5877</td>\n",
       "      <td>6141</td>\n",
       "      <td>5985</td>\n",
       "    </tr>\n",
       "    <tr>\n",
       "      <th rowspan=\"2\" valign=\"top\">gender</th>\n",
       "      <th>F</th>\n",
       "      <td>0</td>\n",
       "      <td>2662 (42.5)</td>\n",
       "      <td>2559 (42.0)</td>\n",
       "      <td>1857 (43.8)</td>\n",
       "      <td>1736 (43.8)</td>\n",
       "      <td>2603 (44.3)</td>\n",
       "      <td>2671 (43.5)</td>\n",
       "      <td>2636 (44.0)</td>\n",
       "    </tr>\n",
       "    <tr>\n",
       "      <th>M</th>\n",
       "      <td></td>\n",
       "      <td>3601 (57.5)</td>\n",
       "      <td>3538 (58.0)</td>\n",
       "      <td>2378 (56.2)</td>\n",
       "      <td>2224 (56.2)</td>\n",
       "      <td>3274 (55.7)</td>\n",
       "      <td>3470 (56.5)</td>\n",
       "      <td>3349 (56.0)</td>\n",
       "    </tr>\n",
       "    <tr>\n",
       "      <th>los_hospital</th>\n",
       "      <th></th>\n",
       "      <td>0</td>\n",
       "      <td>10.2 (11.6)</td>\n",
       "      <td>9.7 (9.9)</td>\n",
       "      <td>10.0 (10.9)</td>\n",
       "      <td>9.8 (10.7)</td>\n",
       "      <td>9.8 (10.9)</td>\n",
       "      <td>9.8 (10.6)</td>\n",
       "      <td>9.7 (10.2)</td>\n",
       "    </tr>\n",
       "    <tr>\n",
       "      <th>admission_age</th>\n",
       "      <th></th>\n",
       "      <td>0</td>\n",
       "      <td>74.6 (53.2)</td>\n",
       "      <td>73.1 (51.4)</td>\n",
       "      <td>73.9 (58.6)</td>\n",
       "      <td>75.3 (60.7)</td>\n",
       "      <td>75.5 (55.5)</td>\n",
       "      <td>75.5 (55.2)</td>\n",
       "      <td>74.2 (53.9)</td>\n",
       "    </tr>\n",
       "    <tr>\n",
       "      <th rowspan=\"3\" valign=\"top\">admission_type</th>\n",
       "      <th>ELECTIVE</th>\n",
       "      <td>0</td>\n",
       "      <td>1016 (16.2)</td>\n",
       "      <td>1265 (20.7)</td>\n",
       "      <td>162 (3.8)</td>\n",
       "      <td>101 (2.6)</td>\n",
       "      <td>999 (17.0)</td>\n",
       "      <td>1292 (21.0)</td>\n",
       "      <td>1243 (20.8)</td>\n",
       "    </tr>\n",
       "    <tr>\n",
       "      <th>EMERGENCY</th>\n",
       "      <td></td>\n",
       "      <td>5118 (81.7)</td>\n",
       "      <td>4687 (76.9)</td>\n",
       "      <td>3852 (91.0)</td>\n",
       "      <td>3681 (93.0)</td>\n",
       "      <td>4747 (80.8)</td>\n",
       "      <td>4704 (76.6)</td>\n",
       "      <td>4600 (76.9)</td>\n",
       "    </tr>\n",
       "    <tr>\n",
       "      <th>URGENT</th>\n",
       "      <td></td>\n",
       "      <td>129 (2.1)</td>\n",
       "      <td>145 (2.4)</td>\n",
       "      <td>221 (5.2)</td>\n",
       "      <td>178 (4.5)</td>\n",
       "      <td>131 (2.2)</td>\n",
       "      <td>145 (2.4)</td>\n",
       "      <td>142 (2.4)</td>\n",
       "    </tr>\n",
       "    <tr>\n",
       "      <th rowspan=\"2\" valign=\"top\">hospital_expire_flag</th>\n",
       "      <th>0</th>\n",
       "      <td>0</td>\n",
       "      <td>5576 (89.0)</td>\n",
       "      <td>5468 (89.7)</td>\n",
       "      <td>3658 (86.4)</td>\n",
       "      <td>3388 (85.6)</td>\n",
       "      <td>5203 (88.5)</td>\n",
       "      <td>5491 (89.4)</td>\n",
       "      <td>5350 (89.4)</td>\n",
       "    </tr>\n",
       "    <tr>\n",
       "      <th>1</th>\n",
       "      <td></td>\n",
       "      <td>687 (11.0)</td>\n",
       "      <td>629 (10.3)</td>\n",
       "      <td>577 (13.6)</td>\n",
       "      <td>572 (14.4)</td>\n",
       "      <td>674 (11.5)</td>\n",
       "      <td>650 (10.6)</td>\n",
       "      <td>635 (10.6)</td>\n",
       "    </tr>\n",
       "    <tr>\n",
       "      <th>los_icu</th>\n",
       "      <th></th>\n",
       "      <td>2</td>\n",
       "      <td>4.1 (6.2)</td>\n",
       "      <td>3.8 (5.5)</td>\n",
       "      <td>4.3 (6.6)</td>\n",
       "      <td>4.3 (6.3)</td>\n",
       "      <td>3.9 (6.1)</td>\n",
       "      <td>3.7 (5.7)</td>\n",
       "      <td>4.0 (5.9)</td>\n",
       "    </tr>\n",
       "    <tr>\n",
       "      <th rowspan=\"2\" valign=\"top\">icustay_expire_flag</th>\n",
       "      <th>0</th>\n",
       "      <td>0</td>\n",
       "      <td>5768 (92.1)</td>\n",
       "      <td>5650 (92.7)</td>\n",
       "      <td>3811 (90.0)</td>\n",
       "      <td>3548 (89.6)</td>\n",
       "      <td>5400 (91.9)</td>\n",
       "      <td>5673 (92.4)</td>\n",
       "      <td>5514 (92.1)</td>\n",
       "    </tr>\n",
       "    <tr>\n",
       "      <th>1</th>\n",
       "      <td></td>\n",
       "      <td>495 (7.9)</td>\n",
       "      <td>447 (7.3)</td>\n",
       "      <td>424 (10.0)</td>\n",
       "      <td>412 (10.4)</td>\n",
       "      <td>477 (8.1)</td>\n",
       "      <td>468 (7.6)</td>\n",
       "      <td>471 (7.9)</td>\n",
       "    </tr>\n",
       "    <tr>\n",
       "      <th>oasis</th>\n",
       "      <th></th>\n",
       "      <td>0</td>\n",
       "      <td>30.9 (8.9)</td>\n",
       "      <td>30.9 (8.6)</td>\n",
       "      <td>31.3 (9.0)</td>\n",
       "      <td>31.8 (8.8)</td>\n",
       "      <td>30.8 (8.7)</td>\n",
       "      <td>30.7 (8.6)</td>\n",
       "      <td>30.3 (9.0)</td>\n",
       "    </tr>\n",
       "    <tr>\n",
       "      <th>oasis_prob</th>\n",
       "      <th></th>\n",
       "      <td>0</td>\n",
       "      <td>0.1 (0.1)</td>\n",
       "      <td>0.1 (0.1)</td>\n",
       "      <td>0.1 (0.1)</td>\n",
       "      <td>0.2 (0.1)</td>\n",
       "      <td>0.1 (0.1)</td>\n",
       "      <td>0.1 (0.1)</td>\n",
       "      <td>0.1 (0.1)</td>\n",
       "    </tr>\n",
       "    <tr>\n",
       "      <th rowspan=\"5\" valign=\"top\">first_careunit</th>\n",
       "      <th>CCU</th>\n",
       "      <td>0</td>\n",
       "      <td>838 (13.4)</td>\n",
       "      <td>918 (15.1)</td>\n",
       "      <td>695 (16.4)</td>\n",
       "      <td>621 (15.7)</td>\n",
       "      <td>850 (14.5)</td>\n",
       "      <td>919 (15.0)</td>\n",
       "      <td>851 (14.2)</td>\n",
       "    </tr>\n",
       "    <tr>\n",
       "      <th>CSRU</th>\n",
       "      <td></td>\n",
       "      <td>1416 (22.6)</td>\n",
       "      <td>1632 (26.8)</td>\n",
       "      <td>237 (5.6)</td>\n",
       "      <td>194 (4.9)</td>\n",
       "      <td>1282 (21.8)</td>\n",
       "      <td>1575 (25.6)</td>\n",
       "      <td>1268 (21.2)</td>\n",
       "    </tr>\n",
       "    <tr>\n",
       "      <th>MICU</th>\n",
       "      <td></td>\n",
       "      <td>2139 (34.2)</td>\n",
       "      <td>1940 (31.8)</td>\n",
       "      <td>1765 (41.7)</td>\n",
       "      <td>1706 (43.1)</td>\n",
       "      <td>2020 (34.4)</td>\n",
       "      <td>2019 (32.9)</td>\n",
       "      <td>2020 (33.8)</td>\n",
       "    </tr>\n",
       "    <tr>\n",
       "      <th>SICU</th>\n",
       "      <td></td>\n",
       "      <td>1044 (16.7)</td>\n",
       "      <td>865 (14.2)</td>\n",
       "      <td>743 (17.5)</td>\n",
       "      <td>743 (18.8)</td>\n",
       "      <td>996 (16.9)</td>\n",
       "      <td>933 (15.2)</td>\n",
       "      <td>1038 (17.3)</td>\n",
       "    </tr>\n",
       "    <tr>\n",
       "      <th>TSICU</th>\n",
       "      <td></td>\n",
       "      <td>826 (13.2)</td>\n",
       "      <td>742 (12.2)</td>\n",
       "      <td>795 (18.8)</td>\n",
       "      <td>696 (17.6)</td>\n",
       "      <td>729 (12.4)</td>\n",
       "      <td>695 (11.3)</td>\n",
       "      <td>808 (13.5)</td>\n",
       "    </tr>\n",
       "    <tr>\n",
       "      <th rowspan=\"2\" valign=\"top\">inday_icu_wkd</th>\n",
       "      <th>weekday</th>\n",
       "      <td>0</td>\n",
       "      <td>6263 (100.0)</td>\n",
       "      <td>6097 (100.0)</td>\n",
       "      <td></td>\n",
       "      <td></td>\n",
       "      <td>5877 (100.0)</td>\n",
       "      <td>6141 (100.0)</td>\n",
       "      <td>5985 (100.0)</td>\n",
       "    </tr>\n",
       "    <tr>\n",
       "      <th>weekend</th>\n",
       "      <td></td>\n",
       "      <td></td>\n",
       "      <td></td>\n",
       "      <td>4235 (100.0)</td>\n",
       "      <td>3960 (100.0)</td>\n",
       "      <td></td>\n",
       "      <td></td>\n",
       "      <td></td>\n",
       "    </tr>\n",
       "  </tbody>\n",
       "</table>\n",
       "</div>"
      ],
      "text/plain": [
       "                               Grouped by inday_icu  ...              \n",
       "                                            Missing  ...     Wednesday\n",
       "n                                                    ...          5985\n",
       "gender               F                            0  ...   2636 (44.0)\n",
       "                     M                               ...   3349 (56.0)\n",
       "los_hospital                                      0  ...    9.7 (10.2)\n",
       "admission_age                                     0  ...   74.2 (53.9)\n",
       "admission_type       ELECTIVE                     0  ...   1243 (20.8)\n",
       "                     EMERGENCY                       ...   4600 (76.9)\n",
       "                     URGENT                          ...     142 (2.4)\n",
       "hospital_expire_flag 0                            0  ...   5350 (89.4)\n",
       "                     1                               ...    635 (10.6)\n",
       "los_icu                                           2  ...     4.0 (5.9)\n",
       "icustay_expire_flag  0                            0  ...   5514 (92.1)\n",
       "                     1                               ...     471 (7.9)\n",
       "oasis                                             0  ...    30.3 (9.0)\n",
       "oasis_prob                                        0  ...     0.1 (0.1)\n",
       "first_careunit       CCU                          0  ...    851 (14.2)\n",
       "                     CSRU                            ...   1268 (21.2)\n",
       "                     MICU                            ...   2020 (33.8)\n",
       "                     SICU                            ...   1038 (17.3)\n",
       "                     TSICU                           ...    808 (13.5)\n",
       "inday_icu_wkd        weekday                      0  ...  5985 (100.0)\n",
       "                     weekend                         ...              \n",
       "\n",
       "[22 rows x 8 columns]"
      ]
     },
     "execution_count": 19,
     "metadata": {
      "tags": []
     },
     "output_type": "execute_result"
    }
   ],
   "source": [
    "columns = ['gender', 'los_hospital', 'admission_age', 'admission_type', 'hospital_expire_flag', \n",
    "           'los_icu','icustay_expire_flag', 'oasis', 'oasis_prob', 'first_careunit',\n",
    "           'inday_icu_wkd']\n",
    "\n",
    "groupby = 'inday_icu'\n",
    "\n",
    "pval = False\n",
    "\n",
    "categorical = ['gender','admission_type','hospital_expire_flag','icustay_expire_flag',\n",
    "               'first_careunit','inday_icu_wkd']\n",
    "\n",
    "t = TableOne(data, columns=columns, categorical=categorical, groupby=groupby, pval=pval)\n",
    "t.tableone"
   ]
  },
  {
   "cell_type": "code",
   "execution_count": 20,
   "metadata": {
    "colab": {
     "base_uri": "https://localhost:8080/",
     "height": 700
    },
    "colab_type": "code",
    "id": "aYoHIgdQMWlL",
    "outputId": "384afb73-07a4-4ab9-a66c-b95a027348b7"
   },
   "outputs": [
    {
     "data": {
      "text/html": [
       "<div>\n",
       "<style scoped>\n",
       "    .dataframe tbody tr th:only-of-type {\n",
       "        vertical-align: middle;\n",
       "    }\n",
       "\n",
       "    .dataframe tbody tr th {\n",
       "        vertical-align: top;\n",
       "    }\n",
       "\n",
       "    .dataframe thead tr th {\n",
       "        text-align: left;\n",
       "    }\n",
       "</style>\n",
       "<table border=\"1\" class=\"dataframe\">\n",
       "  <thead>\n",
       "    <tr>\n",
       "      <th></th>\n",
       "      <th></th>\n",
       "      <th colspan=\"3\" halign=\"left\">Grouped by inday_icu_wkd</th>\n",
       "    </tr>\n",
       "    <tr>\n",
       "      <th></th>\n",
       "      <th></th>\n",
       "      <th>Missing</th>\n",
       "      <th>weekday</th>\n",
       "      <th>weekend</th>\n",
       "    </tr>\n",
       "  </thead>\n",
       "  <tbody>\n",
       "    <tr>\n",
       "      <th>n</th>\n",
       "      <th></th>\n",
       "      <td></td>\n",
       "      <td>30363</td>\n",
       "      <td>8195</td>\n",
       "    </tr>\n",
       "    <tr>\n",
       "      <th rowspan=\"2\" valign=\"top\">gender</th>\n",
       "      <th>F</th>\n",
       "      <td>0</td>\n",
       "      <td>13131 (43.2)</td>\n",
       "      <td>3593 (43.8)</td>\n",
       "    </tr>\n",
       "    <tr>\n",
       "      <th>M</th>\n",
       "      <td></td>\n",
       "      <td>17232 (56.8)</td>\n",
       "      <td>4602 (56.2)</td>\n",
       "    </tr>\n",
       "    <tr>\n",
       "      <th>los_hospital</th>\n",
       "      <th></th>\n",
       "      <td>0</td>\n",
       "      <td>9.9 (10.7)</td>\n",
       "      <td>9.9 (10.8)</td>\n",
       "    </tr>\n",
       "    <tr>\n",
       "      <th>admission_age</th>\n",
       "      <th></th>\n",
       "      <td>0</td>\n",
       "      <td>74.6 (53.8)</td>\n",
       "      <td>74.6 (59.6)</td>\n",
       "    </tr>\n",
       "    <tr>\n",
       "      <th rowspan=\"3\" valign=\"top\">admission_type</th>\n",
       "      <th>ELECTIVE</th>\n",
       "      <td>0</td>\n",
       "      <td>5815 (19.2)</td>\n",
       "      <td>263 (3.2)</td>\n",
       "    </tr>\n",
       "    <tr>\n",
       "      <th>EMERGENCY</th>\n",
       "      <td></td>\n",
       "      <td>23856 (78.6)</td>\n",
       "      <td>7533 (91.9)</td>\n",
       "    </tr>\n",
       "    <tr>\n",
       "      <th>URGENT</th>\n",
       "      <td></td>\n",
       "      <td>692 (2.3)</td>\n",
       "      <td>399 (4.9)</td>\n",
       "    </tr>\n",
       "    <tr>\n",
       "      <th rowspan=\"2\" valign=\"top\">hospital_expire_flag</th>\n",
       "      <th>0</th>\n",
       "      <td>0</td>\n",
       "      <td>27088 (89.2)</td>\n",
       "      <td>7046 (86.0)</td>\n",
       "    </tr>\n",
       "    <tr>\n",
       "      <th>1</th>\n",
       "      <td></td>\n",
       "      <td>3275 (10.8)</td>\n",
       "      <td>1149 (14.0)</td>\n",
       "    </tr>\n",
       "    <tr>\n",
       "      <th>los_icu</th>\n",
       "      <th></th>\n",
       "      <td>2</td>\n",
       "      <td>3.9 (5.9)</td>\n",
       "      <td>4.3 (6.4)</td>\n",
       "    </tr>\n",
       "    <tr>\n",
       "      <th rowspan=\"2\" valign=\"top\">icustay_expire_flag</th>\n",
       "      <th>0</th>\n",
       "      <td>0</td>\n",
       "      <td>28005 (92.2)</td>\n",
       "      <td>7359 (89.8)</td>\n",
       "    </tr>\n",
       "    <tr>\n",
       "      <th>1</th>\n",
       "      <td></td>\n",
       "      <td>2358 (7.8)</td>\n",
       "      <td>836 (10.2)</td>\n",
       "    </tr>\n",
       "    <tr>\n",
       "      <th>oasis</th>\n",
       "      <th></th>\n",
       "      <td>0</td>\n",
       "      <td>30.7 (8.8)</td>\n",
       "      <td>31.5 (8.9)</td>\n",
       "    </tr>\n",
       "    <tr>\n",
       "      <th>oasis_prob</th>\n",
       "      <th></th>\n",
       "      <td>0</td>\n",
       "      <td>0.1 (0.1)</td>\n",
       "      <td>0.1 (0.1)</td>\n",
       "    </tr>\n",
       "    <tr>\n",
       "      <th rowspan=\"5\" valign=\"top\">first_careunit</th>\n",
       "      <th>CCU</th>\n",
       "      <td>0</td>\n",
       "      <td>4376 (14.4)</td>\n",
       "      <td>1316 (16.1)</td>\n",
       "    </tr>\n",
       "    <tr>\n",
       "      <th>CSRU</th>\n",
       "      <td></td>\n",
       "      <td>7173 (23.6)</td>\n",
       "      <td>431 (5.3)</td>\n",
       "    </tr>\n",
       "    <tr>\n",
       "      <th>MICU</th>\n",
       "      <td></td>\n",
       "      <td>10138 (33.4)</td>\n",
       "      <td>3471 (42.4)</td>\n",
       "    </tr>\n",
       "    <tr>\n",
       "      <th>SICU</th>\n",
       "      <td></td>\n",
       "      <td>4876 (16.1)</td>\n",
       "      <td>1486 (18.1)</td>\n",
       "    </tr>\n",
       "    <tr>\n",
       "      <th>TSICU</th>\n",
       "      <td></td>\n",
       "      <td>3800 (12.5)</td>\n",
       "      <td>1491 (18.2)</td>\n",
       "    </tr>\n",
       "  </tbody>\n",
       "</table>\n",
       "</div>"
      ],
      "text/plain": [
       "                               Grouped by inday_icu_wkd  ...             \n",
       "                                                Missing  ...      weekend\n",
       "n                                                        ...         8195\n",
       "gender               F                                0  ...  3593 (43.8)\n",
       "                     M                                   ...  4602 (56.2)\n",
       "los_hospital                                          0  ...   9.9 (10.8)\n",
       "admission_age                                         0  ...  74.6 (59.6)\n",
       "admission_type       ELECTIVE                         0  ...    263 (3.2)\n",
       "                     EMERGENCY                           ...  7533 (91.9)\n",
       "                     URGENT                              ...    399 (4.9)\n",
       "hospital_expire_flag 0                                0  ...  7046 (86.0)\n",
       "                     1                                   ...  1149 (14.0)\n",
       "los_icu                                               2  ...    4.3 (6.4)\n",
       "icustay_expire_flag  0                                0  ...  7359 (89.8)\n",
       "                     1                                   ...   836 (10.2)\n",
       "oasis                                                 0  ...   31.5 (8.9)\n",
       "oasis_prob                                            0  ...    0.1 (0.1)\n",
       "first_careunit       CCU                              0  ...  1316 (16.1)\n",
       "                     CSRU                                ...    431 (5.3)\n",
       "                     MICU                                ...  3471 (42.4)\n",
       "                     SICU                                ...  1486 (18.1)\n",
       "                     TSICU                               ...  1491 (18.2)\n",
       "\n",
       "[20 rows x 3 columns]"
      ]
     },
     "execution_count": 20,
     "metadata": {
      "tags": []
     },
     "output_type": "execute_result"
    }
   ],
   "source": [
    "columns = ['gender', 'los_hospital', 'admission_age', 'admission_type', 'hospital_expire_flag', \n",
    "           'los_icu','icustay_expire_flag', 'oasis', 'oasis_prob', 'first_careunit']\n",
    "\n",
    "groupby = 'inday_icu_wkd'\n",
    "\n",
    "pval = False\n",
    "\n",
    "categorical = ['gender','admission_type','hospital_expire_flag','icustay_expire_flag',\n",
    "               'first_careunit']\n",
    "\n",
    "t = TableOne(data, columns=columns, categorical=categorical, groupby=groupby, pval=pval)\n",
    "t.tableone"
   ]
  },
  {
   "cell_type": "markdown",
   "metadata": {
    "colab_type": "text",
    "id": "3CF_ROxeMWlN"
   },
   "source": [
    "It looks like there's a higher rate of hospital mortality (14.0% vs 10.8%) and ICU mortality (10.2% vs 7.8%) on weekends when compared to weekdays.  There are also statistically significant differences between several other important variables, including: admission type, disease severity (OASIS), and the patient's first care unit, suggesting that these groups may be fundamentally different in some way.  Let's explore this a little further."
   ]
  },
  {
   "cell_type": "markdown",
   "metadata": {
    "colab_type": "text",
    "id": "VxCQFro3MWlO"
   },
   "source": [
    "# Plot the data\n"
   ]
  },
  {
   "cell_type": "code",
   "execution_count": 21,
   "metadata": {
    "colab": {
     "base_uri": "https://localhost:8080/",
     "height": 297
    },
    "colab_type": "code",
    "id": "Ouamegr7MWlP",
    "outputId": "044fac04-a13e-4ffd-a0ec-14c73ea57dbc"
   },
   "outputs": [
    {
     "data": {
      "text/html": [
       "<div>\n",
       "<style scoped>\n",
       "    .dataframe tbody tr th:only-of-type {\n",
       "        vertical-align: middle;\n",
       "    }\n",
       "\n",
       "    .dataframe tbody tr th {\n",
       "        vertical-align: top;\n",
       "    }\n",
       "\n",
       "    .dataframe thead th {\n",
       "        text-align: right;\n",
       "    }\n",
       "</style>\n",
       "<table border=\"1\" class=\"dataframe\">\n",
       "  <thead>\n",
       "    <tr style=\"text-align: right;\">\n",
       "      <th>admission_type</th>\n",
       "      <th>ELECTIVE</th>\n",
       "      <th>EMERGENCY</th>\n",
       "      <th>URGENT</th>\n",
       "    </tr>\n",
       "    <tr>\n",
       "      <th>inday_icu_seq</th>\n",
       "      <th></th>\n",
       "      <th></th>\n",
       "      <th></th>\n",
       "    </tr>\n",
       "  </thead>\n",
       "  <tbody>\n",
       "    <tr>\n",
       "      <th>0</th>\n",
       "      <td>0.020553</td>\n",
       "      <td>0.124387</td>\n",
       "      <td>0.137931</td>\n",
       "    </tr>\n",
       "    <tr>\n",
       "      <th>1</th>\n",
       "      <td>0.019350</td>\n",
       "      <td>0.130315</td>\n",
       "      <td>0.082759</td>\n",
       "    </tr>\n",
       "    <tr>\n",
       "      <th>2</th>\n",
       "      <td>0.026549</td>\n",
       "      <td>0.127391</td>\n",
       "      <td>0.112676</td>\n",
       "    </tr>\n",
       "    <tr>\n",
       "      <th>3</th>\n",
       "      <td>0.027027</td>\n",
       "      <td>0.133137</td>\n",
       "      <td>0.114504</td>\n",
       "    </tr>\n",
       "    <tr>\n",
       "      <th>4</th>\n",
       "      <td>0.026575</td>\n",
       "      <td>0.126612</td>\n",
       "      <td>0.093023</td>\n",
       "    </tr>\n",
       "    <tr>\n",
       "      <th>5</th>\n",
       "      <td>0.080247</td>\n",
       "      <td>0.137072</td>\n",
       "      <td>0.162896</td>\n",
       "    </tr>\n",
       "    <tr>\n",
       "      <th>6</th>\n",
       "      <td>0.089109</td>\n",
       "      <td>0.146971</td>\n",
       "      <td>0.123596</td>\n",
       "    </tr>\n",
       "  </tbody>\n",
       "</table>\n",
       "</div>"
      ],
      "text/plain": [
       "admission_type  ELECTIVE  EMERGENCY    URGENT\n",
       "inday_icu_seq                                \n",
       "0               0.020553   0.124387  0.137931\n",
       "1               0.019350   0.130315  0.082759\n",
       "2               0.026549   0.127391  0.112676\n",
       "3               0.027027   0.133137  0.114504\n",
       "4               0.026575   0.126612  0.093023\n",
       "5               0.080247   0.137072  0.162896\n",
       "6               0.089109   0.146971  0.123596"
      ]
     },
     "execution_count": 21,
     "metadata": {
      "tags": []
     },
     "output_type": "execute_result"
    }
   ],
   "source": [
    "# Pivot data to summarise by day\n",
    "dat_dow = data.groupby(['admission_type',\n",
    "                        'inday_icu_seq'])['hospital_expire_flag'].mean().reset_index()\n",
    "\n",
    "dat_dow = dat_dow.pivot(index='inday_icu_seq', \n",
    "                        columns='admission_type', values='hospital_expire_flag')\n",
    "\n",
    "dat_dow"
   ]
  },
  {
   "cell_type": "code",
   "execution_count": 39,
   "metadata": {
    "colab": {
     "base_uri": "https://localhost:8080/",
     "height": 297
    },
    "colab_type": "code",
    "id": "woeoHXJ3MWlR",
    "outputId": "eb553a96-b901-4af2-f997-071931b9105a"
   },
   "outputs": [
    {
     "data": {
      "text/plain": [
       "Text(0, 0.5, 'Hospital mortality rate')"
      ]
     },
     "execution_count": 39,
     "metadata": {
      "tags": []
     },
     "output_type": "execute_result"
    },
    {
     "data": {
      "image/png": "[encoded data removed]",
      "text/plain": [
       "<Figure size 432x288 with 1 Axes>"
      ]
     },
     "metadata": {
      "tags": []
     },
     "output_type": "display_data"
    }
   ],
   "source": [
    "# day_map = {0:'Mon', 1:'Tue', 2:'Wed', 3:'Thu', 4:'Fri', 5:'Sat', 6:'Sun'}\n",
    "ax = dat_dow.plot()\n",
    "ax.set_ylabel(\"Hospital mortality rate\")"
   ]
  },
  {
   "cell_type": "code",
   "execution_count": 23,
   "metadata": {
    "colab": {
     "base_uri": "https://localhost:8080/",
     "height": 142
    },
    "colab_type": "code",
    "id": "YWARmoRoMWlT",
    "outputId": "10bd0a9e-1d1b-4d15-b902-c3baf7ffc35a"
   },
   "outputs": [
    {
     "data": {
      "text/html": [
       "<div>\n",
       "<style scoped>\n",
       "    .dataframe tbody tr th:only-of-type {\n",
       "        vertical-align: middle;\n",
       "    }\n",
       "\n",
       "    .dataframe tbody tr th {\n",
       "        vertical-align: top;\n",
       "    }\n",
       "\n",
       "    .dataframe thead th {\n",
       "        text-align: right;\n",
       "    }\n",
       "</style>\n",
       "<table border=\"1\" class=\"dataframe\">\n",
       "  <thead>\n",
       "    <tr style=\"text-align: right;\">\n",
       "      <th>admission_type</th>\n",
       "      <th>ELECTIVE</th>\n",
       "      <th>EMERGENCY</th>\n",
       "      <th>URGENT</th>\n",
       "    </tr>\n",
       "    <tr>\n",
       "      <th>inday_icu_wkd</th>\n",
       "      <th></th>\n",
       "      <th></th>\n",
       "      <th></th>\n",
       "    </tr>\n",
       "  </thead>\n",
       "  <tbody>\n",
       "    <tr>\n",
       "      <th>weekday</th>\n",
       "      <td>0.023732</td>\n",
       "      <td>0.128353</td>\n",
       "      <td>0.108382</td>\n",
       "    </tr>\n",
       "    <tr>\n",
       "      <th>weekend</th>\n",
       "      <td>0.083650</td>\n",
       "      <td>0.141909</td>\n",
       "      <td>0.145363</td>\n",
       "    </tr>\n",
       "  </tbody>\n",
       "</table>\n",
       "</div>"
      ],
      "text/plain": [
       "admission_type  ELECTIVE  EMERGENCY    URGENT\n",
       "inday_icu_wkd                                \n",
       "weekday         0.023732   0.128353  0.108382\n",
       "weekend         0.083650   0.141909  0.145363"
      ]
     },
     "execution_count": 23,
     "metadata": {
      "tags": []
     },
     "output_type": "execute_result"
    }
   ],
   "source": [
    "dat_wkd = data.groupby(['admission_type','inday_icu_wkd'])['hospital_expire_flag'].mean().reset_index()\n",
    "dat_wkd = dat_wkd.pivot(index='inday_icu_wkd', columns='admission_type', values='hospital_expire_flag')\n",
    "dat_wkd.head()"
   ]
  },
  {
   "cell_type": "code",
   "execution_count": 41,
   "metadata": {
    "colab": {
     "base_uri": "https://localhost:8080/",
     "height": 297
    },
    "colab_type": "code",
    "id": "Vd8xKa_qMWlV",
    "outputId": "4934c6db-6689-4c55-8dde-d00305c12443"
   },
   "outputs": [
    {
     "data": {
      "text/plain": [
       "Text(0, 0.5, 'Hospital mortality rate')"
      ]
     },
     "execution_count": 41,
     "metadata": {
      "tags": []
     },
     "output_type": "execute_result"
    },
    {
     "data": {
      "image/png": "[encoded data removed]",
      "text/plain": [
       "<Figure size 432x288 with 1 Axes>"
      ]
     },
     "metadata": {
      "tags": []
     },
     "output_type": "display_data"
    }
   ],
   "source": [
    "ax = dat_wkd.plot()\n",
    "ax.set_ylabel(\"Hospital mortality rate\")"
   ]
  },
  {
   "cell_type": "markdown",
   "metadata": {
    "colab_type": "text",
    "id": "otYP7AWBMWlX"
   },
   "source": [
    "# Model building\n",
    "\n",
    "Let's try to incorporate what we saw above into a very simple model. We will use logistic regression with hospital mortality as our outcome. First an unadjusted estimate, and then we will try to adjust for admission type.\n",
    "\n",
    "The unadjusted analysis should mirror pretty closely what we saw in the one of the tables above. The odds ratio corresponding with 14.0% and 10.8% mortality in the the weekend and weekday groups, respectively, is about 1.35. Performing logistic regression on the same data:"
   ]
  },
  {
   "cell_type": "code",
   "execution_count": 42,
   "metadata": {
    "colab": {
     "base_uri": "https://localhost:8080/",
     "height": 252
    },
    "colab_type": "code",
    "id": "UoUx0qm3MWlb",
    "outputId": "6ecdeb0e-fcee-421f-b540-d69360be3f37"
   },
   "outputs": [
    {
     "data": {
      "text/html": [
       "<table class=\"simpletable\">\n",
       "<tr>\n",
       "        <td>Model:</td>                 <td>GLM</td>              <td>AIC:</td>        <td>27417.0809</td> \n",
       "</tr>\n",
       "<tr>\n",
       "    <td>Link Function:</td>            <td>logit</td>             <td>BIC:</td>       <td>-379735.1515</td>\n",
       "</tr>\n",
       "<tr>\n",
       "  <td>Dependent Variable:</td> <td>hospital_expire_flag</td> <td>Log-Likelihood:</td>    <td>-13707.</td>  \n",
       "</tr>\n",
       "<tr>\n",
       "         <td>Date:</td>          <td>2020-01-17 20:53</td>      <td>LL-Null:</td>        <td>-13738.</td>  \n",
       "</tr>\n",
       "<tr>\n",
       "   <td>No. Observations:</td>          <td>38558</td>           <td>Deviance:</td>       <td>27413.</td>   \n",
       "</tr>\n",
       "<tr>\n",
       "       <td>Df Model:</td>                <td>1</td>           <td>Pearson chi2:</td>    <td>3.86e+04</td>  \n",
       "</tr>\n",
       "<tr>\n",
       "     <td>Df Residuals:</td>            <td>38556</td>            <td>Scale:</td>         <td>1.0000</td>   \n",
       "</tr>\n",
       "<tr>\n",
       "        <td>Method:</td>               <td>IRLS</td>                <td></td>               <td></td>      \n",
       "</tr>\n",
       "</table>\n",
       "<table class=\"simpletable\">\n",
       "<tr>\n",
       "               <td></td>                <th>Coef.</th>  <th>Std.Err.</th>     <th>z</th>      <th>P>|z|</th> <th>[0.025</th>  <th>0.975]</th> \n",
       "</tr>\n",
       "<tr>\n",
       "  <th>Intercept</th>                   <td>-2.1128</td>  <td>0.0185</td>  <td>-114.2022</td> <td>0.0000</td> <td>-2.1490</td> <td>-2.0765</td>\n",
       "</tr>\n",
       "<tr>\n",
       "  <th>C(inday_icu_wkd)[T.weekend]</th> <td>0.2992</td>   <td>0.0368</td>   <td>8.1298</td>   <td>0.0000</td> <td>0.2271</td>  <td>0.3713</td> \n",
       "</tr>\n",
       "</table>"
      ],
      "text/plain": [
       "<class 'statsmodels.iolib.summary2.Summary'>\n",
       "\"\"\"\n",
       "                      Results: Generalized linear model\n",
       "=============================================================================\n",
       "Model:                  GLM                    AIC:              27417.0809  \n",
       "Link Function:          logit                  BIC:              -379735.1515\n",
       "Dependent Variable:     hospital_expire_flag   Log-Likelihood:   -13707.     \n",
       "Date:                   2020-01-17 20:53       LL-Null:          -13738.     \n",
       "No. Observations:       38558                  Deviance:         27413.      \n",
       "Df Model:               1                      Pearson chi2:     3.86e+04    \n",
       "Df Residuals:           38556                  Scale:            1.0000      \n",
       "Method:                 IRLS                                                 \n",
       "-----------------------------------------------------------------------------\n",
       "                             Coef.  Std.Err.     z     P>|z|   [0.025  0.975]\n",
       "-----------------------------------------------------------------------------\n",
       "Intercept                   -2.1128   0.0185 -114.2022 0.0000 -2.1490 -2.0765\n",
       "C(inday_icu_wkd)[T.weekend]  0.2992   0.0368    8.1298 0.0000  0.2271  0.3713\n",
       "=============================================================================\n",
       "\n",
       "\"\"\""
      ]
     },
     "execution_count": 42,
     "metadata": {
      "tags": []
     },
     "output_type": "execute_result"
    }
   ],
   "source": [
    "# R style syntax\n",
    "simple_glm = smf.glm('hospital_expire_flag ~ C(inday_icu_wkd)', \n",
    "                     data=data, family=sm.families.Binomial()).fit()\n",
    "simple_glm.summary2()\n",
    "\n",
    "# Alternative syntax\n",
    "# y = data.hospital_expire_flag\n",
    "# X = sm.tools.add_constant(data.inday_icu_wkd.factorize()[0])\n",
    "# simple_glm = sm.GLM(y, X, family=sm.families.Binomial()).fit()\n",
    "# simple_glm.summary2()"
   ]
  },
  {
   "cell_type": "markdown",
   "metadata": {
    "colab_type": "text",
    "id": "5NcJqsAMMWle"
   },
   "source": [
    "...yields the same results. The coefficient shown above for weekend is on the log scale, so when we exponentiate it, we get the odds-ratio: `exp(0.2992) = 1.35`. So, looking at these crude rates and odds ratios, we can see that patients admitted on a weekend have about a 35% increase in the odds of dying in the hospital when compared to those on a weekday. This effect is statistically significant (p<0.001). \n",
    "\n",
    "Are we done?\n",
    "\n",
    "I hope not. We saw from the tables and figures above, there is likely some confounding and maybe even effect modification happening. Next let''s look at admission type and weekend ICU admission in the same model. There are two such models we could consider. \n",
    "\n",
    "The first adjusts for admission type, but assumes that the effect of weekend admission is the same regardless if the patient is of any of the admission types. The second one adjusts for admission type, but then allows the effect of weekend ICU admission to vary across the different levels of admission type. \n",
    "\n",
    "The first type of model would be able to account for confounding (when a nuisance variable is associated with both the outcome and the exposure/variable of interest), while the second permits what is called effect modification or a statistical interaction. \n",
    "\n",
    "Interactions are sometimes difficult to understand, but if ignored, can lead to incorrect conclusions about the effect of one or more of the variables. In this example, we fit both models, output estimates of the log-odds ratios, and perform a hypothesis test which evaluates the statistical significance of dropping one of the variables. Below is the resulting output:"
   ]
  },
  {
   "cell_type": "code",
   "execution_count": 43,
   "metadata": {
    "colab": {
     "base_uri": "https://localhost:8080/",
     "height": 294
    },
    "colab_type": "code",
    "id": "mhHdvAN2MWlf",
    "outputId": "a0016b22-f1c9-41da-ced4-b524e1fe266e"
   },
   "outputs": [
    {
     "data": {
      "text/html": [
       "<table class=\"simpletable\">\n",
       "<tr>\n",
       "        <td>Model:</td>                 <td>GLM</td>              <td>AIC:</td>        <td>26729.2870</td> \n",
       "</tr>\n",
       "<tr>\n",
       "    <td>Link Function:</td>            <td>logit</td>             <td>BIC:</td>       <td>-380405.8255</td>\n",
       "</tr>\n",
       "<tr>\n",
       "  <td>Dependent Variable:</td> <td>hospital_expire_flag</td> <td>Log-Likelihood:</td>    <td>-13361.</td>  \n",
       "</tr>\n",
       "<tr>\n",
       "         <td>Date:</td>          <td>2020-01-17 20:53</td>      <td>LL-Null:</td>        <td>-13738.</td>  \n",
       "</tr>\n",
       "<tr>\n",
       "   <td>No. Observations:</td>          <td>38558</td>           <td>Deviance:</td>       <td>26721.</td>   \n",
       "</tr>\n",
       "<tr>\n",
       "       <td>Df Model:</td>                <td>3</td>           <td>Pearson chi2:</td>    <td>3.85e+04</td>  \n",
       "</tr>\n",
       "<tr>\n",
       "     <td>Df Residuals:</td>            <td>38554</td>            <td>Scale:</td>         <td>1.0000</td>   \n",
       "</tr>\n",
       "<tr>\n",
       "        <td>Method:</td>               <td>IRLS</td>                <td></td>               <td></td>      \n",
       "</tr>\n",
       "</table>\n",
       "<table class=\"simpletable\">\n",
       "<tr>\n",
       "                 <td></td>                 <th>Coef.</th>  <th>Std.Err.</th>     <th>z</th>     <th>P>|z|</th> <th>[0.025</th>  <th>0.975]</th> \n",
       "</tr>\n",
       "<tr>\n",
       "  <th>Intercept</th>                      <td>-3.6173</td>  <td>0.0801</td>  <td>-45.1365</td> <td>0.0000</td> <td>-3.7743</td> <td>-3.4602</td>\n",
       "</tr>\n",
       "<tr>\n",
       "  <th>C(inday_icu_wkd)[T.weekend]</th>    <td>0.1445</td>   <td>0.0372</td>   <td>3.8883</td>  <td>0.0001</td> <td>0.0716</td>  <td>0.2173</td> \n",
       "</tr>\n",
       "<tr>\n",
       "  <th>C(admission_type)[T.EMERGENCY]</th> <td>1.6943</td>   <td>0.0822</td>   <td>20.6089</td> <td>0.0000</td> <td>1.5332</td>  <td>1.8555</td> \n",
       "</tr>\n",
       "<tr>\n",
       "  <th>C(admission_type)[T.URGENT]</th>    <td>1.5881</td>   <td>0.1231</td>   <td>12.9032</td> <td>0.0000</td> <td>1.3469</td>  <td>1.8293</td> \n",
       "</tr>\n",
       "</table>"
      ],
      "text/plain": [
       "<class 'statsmodels.iolib.summary2.Summary'>\n",
       "\"\"\"\n",
       "                       Results: Generalized linear model\n",
       "===============================================================================\n",
       "Model:                  GLM                     AIC:               26729.2870  \n",
       "Link Function:          logit                   BIC:               -380405.8255\n",
       "Dependent Variable:     hospital_expire_flag    Log-Likelihood:    -13361.     \n",
       "Date:                   2020-01-17 20:53        LL-Null:           -13738.     \n",
       "No. Observations:       38558                   Deviance:          26721.      \n",
       "Df Model:               3                       Pearson chi2:      3.85e+04    \n",
       "Df Residuals:           38554                   Scale:             1.0000      \n",
       "Method:                 IRLS                                                   \n",
       "-------------------------------------------------------------------------------\n",
       "                                Coef.  Std.Err.    z     P>|z|   [0.025  0.975]\n",
       "-------------------------------------------------------------------------------\n",
       "Intercept                      -3.6173   0.0801 -45.1365 0.0000 -3.7743 -3.4602\n",
       "C(inday_icu_wkd)[T.weekend]     0.1445   0.0372   3.8883 0.0001  0.0716  0.2173\n",
       "C(admission_type)[T.EMERGENCY]  1.6943   0.0822  20.6089 0.0000  1.5332  1.8555\n",
       "C(admission_type)[T.URGENT]     1.5881   0.1231  12.9032 0.0000  1.3469  1.8293\n",
       "===============================================================================\n",
       "\n",
       "\"\"\""
      ]
     },
     "execution_count": 43,
     "metadata": {
      "tags": []
     },
     "output_type": "execute_result"
    }
   ],
   "source": [
    "# Without effect modification\n",
    "adj_glm = smf.glm('hospital_expire_flag ~ C(inday_icu_wkd) + C(admission_type)', \n",
    "                     data=data, family=sm.families.Binomial()).fit()\n",
    "adj_glm.summary2()\n",
    "# drop1(adj.glm,test=\"Chisq\")"
   ]
  },
  {
   "cell_type": "code",
   "execution_count": 44,
   "metadata": {
    "colab": {
     "base_uri": "https://localhost:8080/",
     "height": 336
    },
    "colab_type": "code",
    "id": "FC4bS99HMWlh",
    "outputId": "605a7d66-8389-4f98-cffa-2e0319f74bde"
   },
   "outputs": [
    {
     "data": {
      "text/html": [
       "<table class=\"simpletable\">\n",
       "<tr>\n",
       "        <td>Model:</td>                 <td>GLM</td>              <td>AIC:</td>        <td>26712.7150</td> \n",
       "</tr>\n",
       "<tr>\n",
       "    <td>Link Function:</td>            <td>logit</td>             <td>BIC:</td>       <td>-380405.2776</td>\n",
       "</tr>\n",
       "<tr>\n",
       "  <td>Dependent Variable:</td> <td>hospital_expire_flag</td> <td>Log-Likelihood:</td>    <td>-13350.</td>  \n",
       "</tr>\n",
       "<tr>\n",
       "         <td>Date:</td>          <td>2020-01-17 20:54</td>      <td>LL-Null:</td>        <td>-13738.</td>  \n",
       "</tr>\n",
       "<tr>\n",
       "   <td>No. Observations:</td>          <td>38558</td>           <td>Deviance:</td>       <td>26701.</td>   \n",
       "</tr>\n",
       "<tr>\n",
       "       <td>Df Model:</td>                <td>5</td>           <td>Pearson chi2:</td>    <td>3.86e+04</td>  \n",
       "</tr>\n",
       "<tr>\n",
       "     <td>Df Residuals:</td>            <td>38552</td>            <td>Scale:</td>         <td>1.0000</td>   \n",
       "</tr>\n",
       "<tr>\n",
       "        <td>Method:</td>               <td>IRLS</td>                <td></td>               <td></td>      \n",
       "</tr>\n",
       "</table>\n",
       "<table class=\"simpletable\">\n",
       "<tr>\n",
       "                               <td></td>                               <th>Coef.</th>  <th>Std.Err.</th>     <th>z</th>     <th>P>|z|</th> <th>[0.025</th>  <th>0.975]</th> \n",
       "</tr>\n",
       "<tr>\n",
       "  <th>Intercept</th>                                                  <td>-3.7169</td>  <td>0.0862</td>  <td>-43.1428</td> <td>0.0000</td> <td>-3.8858</td> <td>-3.5481</td>\n",
       "</tr>\n",
       "<tr>\n",
       "  <th>C(inday_icu_wkd)[T.weekend]</th>                                <td>1.3232</td>   <td>0.2388</td>   <td>5.5409</td>  <td>0.0000</td> <td>0.8551</td>  <td>1.7912</td> \n",
       "</tr>\n",
       "<tr>\n",
       "  <th>C(admission_type)[T.EMERGENCY]</th>                             <td>1.8013</td>   <td>0.0883</td>   <td>20.3997</td> <td>0.0000</td> <td>1.6283</td>  <td>1.9744</td> \n",
       "</tr>\n",
       "<tr>\n",
       "  <th>C(admission_type)[T.URGENT]</th>                                <td>1.6095</td>   <td>0.1496</td>   <td>10.7598</td> <td>0.0000</td> <td>1.3164</td>  <td>1.9027</td> \n",
       "</tr>\n",
       "<tr>\n",
       "  <th>C(inday_icu_wkd)[T.weekend]:C(admission_type)[T.EMERGENCY]</th> <td>-1.2071</td>  <td>0.2418</td>   <td>-4.9911</td> <td>0.0000</td> <td>-1.6811</td> <td>-0.7331</td>\n",
       "</tr>\n",
       "<tr>\n",
       "  <th>C(inday_icu_wkd)[T.weekend]:C(admission_type)[T.URGENT]</th>    <td>-0.9872</td>  <td>0.3036</td>   <td>-3.2521</td> <td>0.0011</td> <td>-1.5822</td> <td>-0.3922</td>\n",
       "</tr>\n",
       "</table>"
      ],
      "text/plain": [
       "<class 'statsmodels.iolib.summary2.Summary'>\n",
       "\"\"\"\n",
       "                                     Results: Generalized linear model\n",
       "===========================================================================================================\n",
       "Model:                            GLM                              AIC:                        26712.7150  \n",
       "Link Function:                    logit                            BIC:                        -380405.2776\n",
       "Dependent Variable:               hospital_expire_flag             Log-Likelihood:             -13350.     \n",
       "Date:                             2020-01-17 20:54                 LL-Null:                    -13738.     \n",
       "No. Observations:                 38558                            Deviance:                   26701.      \n",
       "Df Model:                         5                                Pearson chi2:               3.86e+04    \n",
       "Df Residuals:                     38552                            Scale:                      1.0000      \n",
       "Method:                           IRLS                                                                     \n",
       "-----------------------------------------------------------------------------------------------------------\n",
       "                                                            Coef.  Std.Err.    z     P>|z|   [0.025  0.975]\n",
       "-----------------------------------------------------------------------------------------------------------\n",
       "Intercept                                                  -3.7169   0.0862 -43.1428 0.0000 -3.8858 -3.5481\n",
       "C(inday_icu_wkd)[T.weekend]                                 1.3232   0.2388   5.5409 0.0000  0.8551  1.7912\n",
       "C(admission_type)[T.EMERGENCY]                              1.8013   0.0883  20.3997 0.0000  1.6283  1.9744\n",
       "C(admission_type)[T.URGENT]                                 1.6095   0.1496  10.7598 0.0000  1.3164  1.9027\n",
       "C(inday_icu_wkd)[T.weekend]:C(admission_type)[T.EMERGENCY] -1.2071   0.2418  -4.9911 0.0000 -1.6811 -0.7331\n",
       "C(inday_icu_wkd)[T.weekend]:C(admission_type)[T.URGENT]    -0.9872   0.3036  -3.2521 0.0011 -1.5822 -0.3922\n",
       "===========================================================================================================\n",
       "\n",
       "\"\"\""
      ]
     },
     "execution_count": 44,
     "metadata": {
      "tags": []
     },
     "output_type": "execute_result"
    }
   ],
   "source": [
    "# With effect modification\n",
    "adj_glm_int = smf.glm('hospital_expire_flag ~ C(inday_icu_wkd) * C(admission_type)', \n",
    "                     data=data, family=sm.families.Binomial()).fit()\n",
    "adj_glm_int.summary2()\n",
    "# drop1(adj.glm,test=\"Chisq\")"
   ]
  },
  {
   "cell_type": "code",
   "execution_count": 45,
   "metadata": {
    "colab": {
     "base_uri": "https://localhost:8080/",
     "height": 235
    },
    "colab_type": "code",
    "id": "s5IkTbBnMWlj",
    "outputId": "3cef75bb-3084-439c-cd23-269bb49ae8c4"
   },
   "outputs": [
    {
     "data": {
      "text/html": [
       "<div>\n",
       "<style scoped>\n",
       "    .dataframe tbody tr th:only-of-type {\n",
       "        vertical-align: middle;\n",
       "    }\n",
       "\n",
       "    .dataframe tbody tr th {\n",
       "        vertical-align: top;\n",
       "    }\n",
       "\n",
       "    .dataframe thead th {\n",
       "        text-align: right;\n",
       "    }\n",
       "</style>\n",
       "<table border=\"1\" class=\"dataframe\">\n",
       "  <thead>\n",
       "    <tr style=\"text-align: right;\">\n",
       "      <th></th>\n",
       "      <th>inday_icu_wkd</th>\n",
       "      <th>admission_type</th>\n",
       "    </tr>\n",
       "  </thead>\n",
       "  <tbody>\n",
       "    <tr>\n",
       "      <th>0</th>\n",
       "      <td>weekday</td>\n",
       "      <td>ELECTIVE</td>\n",
       "    </tr>\n",
       "    <tr>\n",
       "      <th>1</th>\n",
       "      <td>weekday</td>\n",
       "      <td>EMERGENCY</td>\n",
       "    </tr>\n",
       "    <tr>\n",
       "      <th>2</th>\n",
       "      <td>weekday</td>\n",
       "      <td>URGENT</td>\n",
       "    </tr>\n",
       "    <tr>\n",
       "      <th>3</th>\n",
       "      <td>weekend</td>\n",
       "      <td>ELECTIVE</td>\n",
       "    </tr>\n",
       "    <tr>\n",
       "      <th>4</th>\n",
       "      <td>weekend</td>\n",
       "      <td>EMERGENCY</td>\n",
       "    </tr>\n",
       "    <tr>\n",
       "      <th>5</th>\n",
       "      <td>weekend</td>\n",
       "      <td>URGENT</td>\n",
       "    </tr>\n",
       "  </tbody>\n",
       "</table>\n",
       "</div>"
      ],
      "text/plain": [
       "  inday_icu_wkd admission_type\n",
       "0       weekday       ELECTIVE\n",
       "1       weekday      EMERGENCY\n",
       "2       weekday         URGENT\n",
       "3       weekend       ELECTIVE\n",
       "4       weekend      EMERGENCY\n",
       "5       weekend         URGENT"
      ]
     },
     "execution_count": 45,
     "metadata": {
      "tags": []
     },
     "output_type": "execute_result"
    }
   ],
   "source": [
    "# Create data structure to hold odds of hospital death\n",
    "def expand_grid(data_dict):\n",
    "    rows = itertools.product(*data_dict.values())\n",
    "    return pd.DataFrame.from_records(rows, columns=data_dict.keys())\n",
    "\n",
    "weekend_grid = expand_grid({'inday_icu_wkd': ['weekday', 'weekend'],\n",
    "                            'admission_type': ['ELECTIVE', 'EMERGENCY', 'URGENT']})\n",
    "\n",
    "weekend_grid"
   ]
  },
  {
   "cell_type": "markdown",
   "metadata": {
    "colab_type": "text",
    "id": "HBvyZbBXMWll"
   },
   "source": [
    "In the first model (no interaction), we see that although the effect of weekend is almost halved, it remains statistically significant, after adjusting for admission type (p<0.001).\n",
    "\n",
    "In the second model, we are primarily interested in the significance of the interaction.  We can see when assessed with the `drop1` function, the interaction (`weekend:admission_type`) is statistically significant (p<0.001), suggesting that the effect of weekend may be different depending on which hospital admission type you are.  How exactly to interpret this:\n",
    "\n",
    "One way of looking at this complexity is by computing the odds ratio in each of the levels of admission type.  We can do this using the `predict` function, which by default outputs the log-odds of death.  If for each hospital admission type, we calculate the log odds of death for each of the levels of weekend,"
   ]
  },
  {
   "cell_type": "code",
   "execution_count": 0,
   "metadata": {
    "colab": {},
    "colab_type": "code",
    "id": "ucLxfa4KMWlm"
   },
   "outputs": [],
   "source": [
    "def prob2logodds(prob):\n",
    "    odds = prob / (1 - prob)\n",
    "    logodds = np.log(odds)\n",
    "    return logodds"
   ]
  },
  {
   "cell_type": "code",
   "execution_count": 47,
   "metadata": {
    "colab": {
     "base_uri": "https://localhost:8080/",
     "height": 266
    },
    "colab_type": "code",
    "id": "wEPXVNtFMWlo",
    "outputId": "65ef31df-5d7a-48a2-e1c5-1dd0f132c3d0",
    "scrolled": true
   },
   "outputs": [
    {
     "data": {
      "text/html": [
       "<div>\n",
       "<style scoped>\n",
       "    .dataframe tbody tr th:only-of-type {\n",
       "        vertical-align: middle;\n",
       "    }\n",
       "\n",
       "    .dataframe tbody tr th {\n",
       "        vertical-align: top;\n",
       "    }\n",
       "\n",
       "    .dataframe thead th {\n",
       "        text-align: right;\n",
       "    }\n",
       "</style>\n",
       "<table border=\"1\" class=\"dataframe\">\n",
       "  <thead>\n",
       "    <tr style=\"text-align: right;\">\n",
       "      <th></th>\n",
       "      <th></th>\n",
       "      <th>predict</th>\n",
       "      <th>log_odds</th>\n",
       "    </tr>\n",
       "    <tr>\n",
       "      <th>inday_icu_wkd</th>\n",
       "      <th>admission_type</th>\n",
       "      <th></th>\n",
       "      <th></th>\n",
       "    </tr>\n",
       "  </thead>\n",
       "  <tbody>\n",
       "    <tr>\n",
       "      <th rowspan=\"3\" valign=\"top\">weekday</th>\n",
       "      <th>ELECTIVE</th>\n",
       "      <td>0.023732</td>\n",
       "      <td>-3.716925</td>\n",
       "    </tr>\n",
       "    <tr>\n",
       "      <th>EMERGENCY</th>\n",
       "      <td>0.128353</td>\n",
       "      <td>-1.915596</td>\n",
       "    </tr>\n",
       "    <tr>\n",
       "      <th>URGENT</th>\n",
       "      <td>0.108382</td>\n",
       "      <td>-2.107381</td>\n",
       "    </tr>\n",
       "    <tr>\n",
       "      <th rowspan=\"3\" valign=\"top\">weekend</th>\n",
       "      <th>ELECTIVE</th>\n",
       "      <td>0.083650</td>\n",
       "      <td>-2.393754</td>\n",
       "    </tr>\n",
       "    <tr>\n",
       "      <th>EMERGENCY</th>\n",
       "      <td>0.141909</td>\n",
       "      <td>-1.799525</td>\n",
       "    </tr>\n",
       "    <tr>\n",
       "      <th>URGENT</th>\n",
       "      <td>0.145363</td>\n",
       "      <td>-1.771439</td>\n",
       "    </tr>\n",
       "  </tbody>\n",
       "</table>\n",
       "</div>"
      ],
      "text/plain": [
       "                               predict  log_odds\n",
       "inday_icu_wkd admission_type                    \n",
       "weekday       ELECTIVE        0.023732 -3.716925\n",
       "              EMERGENCY       0.128353 -1.915596\n",
       "              URGENT          0.108382 -2.107381\n",
       "weekend       ELECTIVE        0.083650 -2.393754\n",
       "              EMERGENCY       0.141909 -1.799525\n",
       "              URGENT          0.145363 -1.771439"
      ]
     },
     "execution_count": 47,
     "metadata": {
      "tags": []
     },
     "output_type": "execute_result"
    }
   ],
   "source": [
    "weekend_grid['predict'] = adj_glm_int.predict(weekend_grid[['inday_icu_wkd','admission_type']])\n",
    "weekend_grid['log_odds'] = prob2logodds(weekend_grid['predict'])\n",
    "weekend_grid.set_index(['inday_icu_wkd','admission_type'], inplace=True)\n",
    "weekend_grid"
   ]
  },
  {
   "cell_type": "markdown",
   "metadata": {
    "colab_type": "text",
    "id": "mGmTCA6TMWlq"
   },
   "source": [
    "We can now compute the log odds ratio ($log(OR) =  logOdds_{weekend} - logOdds_{weekday}$), and exponentiate to get the odds ratio:"
   ]
  },
  {
   "cell_type": "code",
   "execution_count": 48,
   "metadata": {
    "colab": {
     "base_uri": "https://localhost:8080/",
     "height": 102
    },
    "colab_type": "code",
    "id": "1iIeZmheMWlr",
    "outputId": "51fce423-a1e7-473e-a9c1-81ddb4754b85"
   },
   "outputs": [
    {
     "data": {
      "text/plain": [
       "admission_type\n",
       "ELECTIVE     3.755307\n",
       "EMERGENCY    1.123076\n",
       "URGENT       1.399257\n",
       "Name: log_odds, dtype: float64"
      ]
     },
     "execution_count": 48,
     "metadata": {
      "tags": []
     },
     "output_type": "execute_result"
    }
   ],
   "source": [
    "diff_grid = weekend_grid.loc['weekend']['log_odds'] - weekend_grid.loc['weekday']['log_odds']\n",
    "np.exp(diff_grid)"
   ]
  },
  {
   "cell_type": "markdown",
   "metadata": {
    "colab_type": "text",
    "id": "nxlSkP2XMWlt"
   },
   "source": [
    "So, this mirrors what we saw above. While there may be differences between EMERGENCY and URGENT admission types, an ELECTIVE admission occurring on a weekend has an odds of mortality almost four times that of an ELECTIVE admission on a weekday. This seems particularly odd -- patients usually do not get admitted to a hospital electively on a weekend.\n",
    "\n",
    "What do you think?\n",
    "\n",
    "- Do patients admitted on a weekend have a higher rate of mortality than those admitted during the week?\n",
    "- Who is most affected, if at all?\n",
    "- What factors can you rule out might be causing this effect? e.g., is it because the patients are simply sicker on a weekend? Are they more likely to have complications?\n",
    "\n",
    "Looking forward to see what you guys come up with!"
   ]
  },
  {
   "cell_type": "code",
   "execution_count": 0,
   "metadata": {
    "colab": {},
    "colab_type": "code",
    "id": "SWW22eBvMWlt"
   },
   "outputs": [],
   "source": []
  }
 ],
 "metadata": {
  "colab": {
   "name": "challenge-demo.ipynb",
   "provenance": []
  },
  "kernelspec": {
   "display_name": "Python 3",
   "language": "python",
   "name": "python3"
  },
  "language_info": {
   "codemirror_mode": {
    "name": "ipython",
    "version": 3
   },
   "file_extension": ".py",
   "mimetype": "text/x-python",
   "name": "python",
   "nbconvert_exporter": "python",
   "pygments_lexer": "ipython3",
   "version": "3.7.4"
  }
 },
 "nbformat": 4,
 "nbformat_minor": 1
}
