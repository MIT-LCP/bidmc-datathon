{
  "nbformat": 4,
  "nbformat_minor": 0,
  "metadata": {
    "colab": {
      "name": "05-prediction.ipynb",
      "provenance": [],
      "collapsed_sections": [],
      "include_colab_link": true
    },
    "kernelspec": {
      "display_name": "Python 3",
      "language": "python",
      "name": "python3"
    },
    "language_info": {
      "codemirror_mode": {
        "name": "ipython",
        "version": 3
      },
      "file_extension": ".py",
      "mimetype": "text/x-python",
      "name": "python",
      "nbconvert_exporter": "python",
      "pygments_lexer": "ipython3",
      "version": "3.7.3"
    }
  },
  "cells": [
    {
      "cell_type": "markdown",
      "metadata": {
        "id": "view-in-github",
        "colab_type": "text"
      },
      "source": [
        "<a href=\"https://colab.research.google.com/github/MIT-LCP/bidmc-datathon/blob/master/eicu_crrt_dataset.ipynb\" target=\"_parent\"><img src=\"https://colab.research.google.com/assets/colab-badge.svg\" alt=\"Open In Colab\"/></a>"
      ]
    },
    {
      "cell_type": "markdown",
      "metadata": {
        "colab_type": "text",
        "id": "T3wdKZCPklNq"
      },
      "source": [
        "# eICU Collaborative Research Database\n",
        "\n",
        "# Notebook 5: Prediction with decision trees\n",
        "\n",
        "This notebook explores how a decision trees can be trained to predict in-hospital mortality of patients.\n"
      ]
    },
    {
      "cell_type": "markdown",
      "metadata": {
        "colab_type": "text",
        "id": "rG3HrM7GkwCH"
      },
      "source": [
        "## Load libraries and connect to the database"
      ]
    },
    {
      "cell_type": "code",
      "metadata": {
        "colab_type": "code",
        "id": "s-MoFA6NkkbZ",
        "colab": {}
      },
      "source": [
        "# Import libraries\n",
        "import os\n",
        "import numpy as np\n",
        "import pandas as pd\n",
        "import matplotlib.pyplot as plt\n",
        "\n",
        "# model building\n",
        "from sklearn import ensemble, impute, metrics, preprocessing, tree\n",
        "from sklearn.model_selection import cross_val_score, train_test_split\n",
        "from sklearn.pipeline import Pipeline\n",
        "\n",
        "# Make pandas dataframes prettier\n",
        "from IPython.display import display, HTML, Image\n",
        "plt.rcParams.update({'font.size': 20})\n",
        "%matplotlib inline\n",
        "plt.style.use('ggplot')\n",
        "\n",
        "# Access data using Google BigQuery.\n",
        "from google.colab import auth\n",
        "from google.cloud import bigquery"
      ],
      "execution_count": 0,
      "outputs": []
    },
    {
      "cell_type": "code",
      "metadata": {
        "colab_type": "code",
        "id": "jyBV_Q9DkyD3",
        "colab": {}
      },
      "source": [
        "# authenticate\n",
        "auth.authenticate_user()"
      ],
      "execution_count": 0,
      "outputs": []
    },
    {
      "cell_type": "code",
      "metadata": {
        "colab_type": "code",
        "id": "cF1udJKhkzYq",
        "colab": {}
      },
      "source": [
        "# Set up environment variables\n",
        "project_id='bidmc-datathon'\n",
        "os.environ[\"GOOGLE_CLOUD_PROJECT\"]=project_id"
      ],
      "execution_count": 0,
      "outputs": []
    },
    {
      "cell_type": "markdown",
      "metadata": {
        "colab_type": "text",
        "id": "xGurBAQIUDTt"
      },
      "source": [
        "To make our lives easier, we'll also install and import a set of helper functions from the `datathon2` package. We will be using the following functions from the package:\n",
        "- `plot_model_pred_2d`: to visualize our data, helping to display a class split assigned by a tree vs the true class.\n",
        "- `run_query()`: to run an SQL query against our BigQuery database and assign the results to a dataframe. \n"
      ]
    },
    {
      "cell_type": "code",
      "metadata": {
        "colab_type": "code",
        "id": "GDEewAlvk0oT",
        "colab": {}
      },
      "source": [
        "!pip install pip --upgrade\n",
        "!pip install glowyr\n",
        "!pip install pandas_profiling --upgrade"
      ],
      "execution_count": 0,
      "outputs": []
    },
    {
      "cell_type": "code",
      "metadata": {
        "colab_type": "code",
        "id": "JM6O5GPAUI89",
        "colab": {}
      },
      "source": [
        "import glowyr as dtn\n",
        "import pydotplus\n",
        "from tableone import TableOne\n",
        "from pandas_profiling import ProfileReport"
      ],
      "execution_count": 0,
      "outputs": []
    },
    {
      "cell_type": "markdown",
      "metadata": {
        "colab_type": "text",
        "id": "hq_09Hh-y17k"
      },
      "source": [
        "In this notebook we'll be looking at tree models, so we'll now install a package for visualizing these models."
      ]
    },
    {
      "cell_type": "code",
      "metadata": {
        "colab_type": "code",
        "id": "jBMOwgwszGOw",
        "colab": {}
      },
      "source": [
        "!apt-get install graphviz -y"
      ],
      "execution_count": 0,
      "outputs": []
    },
    {
      "cell_type": "markdown",
      "metadata": {
        "colab_type": "text",
        "id": "LgcRCqxCk3HC"
      },
      "source": [
        "## Load the CRRT data\n",
        "\n",
        "Let's extract the dataset for classifying need for CRRT. This will take a while!"
      ]
    },
    {
      "cell_type": "code",
      "metadata": {
        "colab_type": "code",
        "id": "ReCl7-aek1-k",
        "colab": {}
      },
      "source": [
        "%%bigquery df\n",
        "\n",
        "-- ------------------------------------------------------------------\n",
        "-- Title: ICU stay detail\n",
        "-- Description: Each row represents a single ICU stay. Patient demographics\n",
        "--        are summarised for each stay.\n",
        "-- ------------------------------------------------------------------\n",
        "\n",
        "-- (Optional) Define which schema to work on\n",
        "-- SET search_path TO eicu_crd;\n",
        "\n",
        "WITH icustay_detail as\n",
        "(\n",
        "SELECT pt.uniquepid, pt.patienthealthsystemstayid, pt.patientunitstayid, pt.unitvisitnumber,\n",
        "       pt.hospitalid, h.region, pt.unittype,\n",
        "       pt.hospitaladmitoffset, pt.hospitaldischargeoffset,\n",
        "       0 AS unitadmitoffset, pt.unitdischargeoffset,\n",
        "       ap.apachescore AS apache_score,\n",
        "       pt.hospitaldischargeyear,\n",
        "       pt.age,\n",
        "       CASE WHEN lower(pt.hospitaldischargestatus) like '%alive%' THEN 0\n",
        "            WHEN lower(pt.hospitaldischargestatus) like '%expired%' THEN 1\n",
        "            ELSE NULL END AS hosp_mort,\n",
        "       CASE WHEN lower(pt.gender) like '%female%' THEN 0\n",
        "            WHEN lower(pt.gender) like '%male%' THEN 1\n",
        "            ELSE NULL END AS gender,\n",
        "       pt.ethnicity, pt.admissionheight, pt.admissionweight, pt.dischargeweight,\n",
        "       ROUND(pt.unitdischargeoffset/60) AS icu_los_hours\n",
        "FROM `physionet-data.eicu_crd.patient` pt\n",
        "LEFT JOIN `physionet-data.eicu_crd.hospital` h\n",
        "    ON pt.hospitalid = h.hospitalid\n",
        "LEFT JOIN `physionet-data.eicu_crd.apachepatientresult` ap\n",
        "    ON pt.patientunitstayid = ap.patientunitstayid\n",
        "    AND ap.apacheversion = 'IV'\n",
        ")\n",
        ", crrt AS\n",
        "(\n",
        "    SELECT\n",
        "        patientunitstayid,\n",
        "        min(treatmentoffset) as crrtoffset\n",
        "     FROM `physionet-data.eicu_crd.treatment`\n",
        "     WHERE treatmentstring IN\n",
        "     (\n",
        "        'renal|dialysis|C A V H D',\n",
        "        'renal|dialysis|C V V H',\n",
        "        'renal|dialysis|C V V H D',\n",
        "        'renal|dialysis|SLED'\n",
        "     )\n",
        "     GROUP BY 1\n",
        ")\n",
        ", all_hours as\n",
        "(\n",
        "  select\n",
        "    patientunitstayid\n",
        "\n",
        "    -- ceiling the intime to the nearest hour by adding 59 minutes then truncating\n",
        "    , 0 as endoffset\n",
        "    , crrtoffset\n",
        "    -- create integers for each charttime in hours from admission\n",
        "    -- so 0 is admission time, 1 is one hour after admission, etc, up to ICU disch\n",
        "    , GENERATE_ARRAY(0, CAST(ceil(crrtoffset/60.0) AS INT64)) as hrs\n",
        "\n",
        "  from crrt\n",
        ")\n",
        ", hourly AS\n",
        "(\n",
        "\n",
        "    SELECT\n",
        "    patientunitstayid\n",
        "    , CAST(hr AS INT64) as hr\n",
        "    , endoffset as startoffset\n",
        "    , endoffset + hr*60 as endoffset\n",
        "    FROM all_hours\n",
        "    CROSS JOIN UNNEST(all_hours.hrs) AS hr\n",
        ")\n",
        "SELECT\n",
        "  h.patientunitstayid,\n",
        "  h.hr,\n",
        "  h.startoffset,\n",
        "  h.endoffset,\n",
        "  c.crrtoffset,\n",
        "  -- demographics\n",
        "  id.ethnicity,\n",
        "  id.admissionheight,\n",
        "  id.admissionweight,\n",
        "  id.dischargeweight,\n",
        "  id.apache_score,\n",
        "  id.age,\n",
        "  id.gender,\n",
        "  id.hosp_mort,\n",
        "  -- vitals\n",
        "  heartrate,\n",
        "  respiratoryrate,\n",
        "  spo2,\n",
        "  nibp_diastolic,\n",
        "  nibp_systolic,\n",
        "  nibp_mean,\n",
        "  temperature,\n",
        "  ibp_systolic,\n",
        "  ibp_diastolic,\n",
        "  ibp_mean,\n",
        "  -- blood gases\n",
        "  fio2,\n",
        "  pao2,\n",
        "  paco2,\n",
        "  pH,\n",
        "  aniongap,\n",
        "  basedeficit,\n",
        "  baseexcess,\n",
        "  peep,\n",
        "  -- labs\n",
        "  albumin,\n",
        "  bilirubin,\n",
        "  BUN,\n",
        "  calcium,\n",
        "  creatinine,\n",
        "  glucose,\n",
        "  bicarbonate,\n",
        "  TotalCO2,\n",
        "  hematocrit,\n",
        "  hemoglobin,\n",
        "  INR,\n",
        "  lactate,\n",
        "  platelets,\n",
        "  potassium,\n",
        "  ptt,\n",
        "  sodium,\n",
        "  wbc,\n",
        "  bands,\n",
        "  alt,\n",
        "  ast,\n",
        "  alp\n",
        "FROM hourly h\n",
        "INNER JOIN icustay_detail id\n",
        "  ON h.patientunitstayid = id.patientunitstayid\n",
        "INNER JOIN crrt c\n",
        "  ON h.patientunitstayid = c.patientunitstayid\n",
        "-- labs\n",
        "LEFT JOIN\n",
        "(\n",
        "    SELECT h.patientunitstayid,\n",
        "    h.hr,\n",
        "    AVG(albumin) AS albumin,\n",
        "    AVG(bilirubin) AS bilirubin,\n",
        "    AVG(BUN) AS BUN,\n",
        "    AVG(calcium) AS calcium,\n",
        "    AVG(creatinine) AS creatinine,\n",
        "    AVG(glucose) AS glucose,\n",
        "    AVG(bicarbonate) AS bicarbonate,\n",
        "    AVG(TotalCO2) AS TotalCO2,\n",
        "    AVG(hematocrit) AS hematocrit,\n",
        "    AVG(hemoglobin) AS hemoglobin,\n",
        "    AVG(INR) AS INR,\n",
        "    AVG(lactate) AS lactate,\n",
        "    AVG(platelets) AS platelets,\n",
        "    AVG(potassium) AS potassium,\n",
        "    AVG(ptt) AS ptt,\n",
        "    AVG(sodium) AS sodium,\n",
        "    AVG(wbc) AS wbc,\n",
        "    AVG(bands) AS bands,\n",
        "    AVG(alt) AS alt,\n",
        "    AVG(ast) AS ast,\n",
        "    AVG(alp) AS alp\n",
        "    FROM hourly h\n",
        "    LEFT JOIN `physionet-data.eicu_crd_derived.pivoted_lab` la\n",
        "    ON h.patientunitstayid = la.patientunitstayid\n",
        "    AND la.chartoffset BETWEEN h.startoffset AND h.endoffset\n",
        "    GROUP BY h.patientunitstayid, h.hr\n",
        ") la\n",
        "  ON h.patientunitstayid = la.patientunitstayid\n",
        "  AND la.hr = h.hr\n",
        "-- blood gases\n",
        "LEFT JOIN\n",
        "(\n",
        "    SELECT h.patientunitstayid,\n",
        "    h.hr,\n",
        "    AVG(fio2) AS fio2,\n",
        "    AVG(pao2) AS pao2,\n",
        "    AVG(paco2) AS paco2,\n",
        "    AVG(pH) AS pH,\n",
        "    AVG(aniongap) AS aniongap,\n",
        "    AVG(basedeficit) AS basedeficit,\n",
        "    AVG(baseexcess) AS baseexcess,\n",
        "    AVG(peep) AS peep\n",
        "    FROM hourly h\n",
        "    LEFT JOIN `physionet-data.eicu_crd_derived.pivoted_bg` bg\n",
        "    ON h.patientunitstayid = bg.patientunitstayid\n",
        "    AND bg.chartoffset BETWEEN h.startoffset AND h.endoffset\n",
        "    GROUP BY h.patientunitstayid, h.hr\n",
        ") bg\n",
        "  ON h.patientunitstayid = bg.patientunitstayid\n",
        "  AND bg.hr = h.hr\n",
        "-- vitals\n",
        "LEFT JOIN\n",
        "(\n",
        "    SELECT h.patientunitstayid\n",
        "    , h.hr\n",
        "    , AVG(heartrate) AS heartrate\n",
        "    , AVG(respiratoryrate) AS respiratoryrate\n",
        "    , AVG(spo2) AS spo2\n",
        "    , AVG(nibp_diastolic) AS nibp_diastolic\n",
        "    , AVG(nibp_systolic) AS nibp_systolic\n",
        "    , AVG(nibp_mean) AS nibp_mean\n",
        "    , AVG(temperature) AS temperature\n",
        "    , AVG(ibp_systolic) AS ibp_systolic\n",
        "    , AVG(ibp_diastolic) AS ibp_diastolic\n",
        "    , AVG(ibp_mean) AS ibp_mean\n",
        "    FROM hourly h\n",
        "    LEFT JOIN `physionet-data.eicu_crd_derived.pivoted_vital` vi\n",
        "    ON h.patientunitstayid = vi.patientunitstayid\n",
        "    AND vi.chartoffset BETWEEN h.startoffset AND h.endoffset\n",
        "    GROUP BY h.patientunitstayid, h.hr\n",
        ") vi\n",
        "  ON h.patientunitstayid = vi.patientunitstayid\n",
        "  AND vi.hr = h.hr\n",
        "ORDER BY patientunitstayid, hr"
      ],
      "execution_count": 0,
      "outputs": []
    },
    {
      "cell_type": "code",
      "metadata": {
        "colab_type": "code",
        "id": "yxLctVBpk9sO",
        "colab": {}
      },
      "source": [
        "df.head()"
      ],
      "execution_count": 0,
      "outputs": []
    }
  ]
}