{
 "cells": [
  {
   "cell_type": "markdown",
   "metadata": {
    "colab_type": "text",
    "id": "view-in-github"
   },
   "source": [
    "<a href=\"https://colab.research.google.com/github/MIT-LCP/bidmc-datathon/blob/master/02_severity_of_illness.ipynb\" target=\"_parent\"><img src=\"https://colab.research.google.com/assets/colab-badge.svg\" alt=\"Open In Colab\"/></a>"
   ]
  },
  {
   "cell_type": "markdown",
   "metadata": {
    "colab_type": "text",
    "id": "y4AOVdliM8gm"
   },
   "source": [
    "# eICU Collaborative Research Database\n",
    "\n",
    "# Notebook 2: Severity of illness\n",
    "\n",
    "This notebook introduces high level admission details relating to a single patient stay, using the following tables:\n",
    "\n",
    "- patient\n",
    "- admissiondx\n",
    "- apacheapsvar\n",
    "- apachepredvar\n",
    "- apachepatientresult\n",
    "\n"
   ]
  },
  {
   "cell_type": "markdown",
   "metadata": {
    "colab_type": "text",
    "id": "e0lUnIkYOyv4"
   },
   "source": [
    "## Load libraries and connect to the database"
   ]
  },
  {
   "cell_type": "code",
   "execution_count": 0,
   "metadata": {
    "colab": {},
    "colab_type": "code",
    "id": "SJ6l1i3fOL4j"
   },
   "outputs": [],
   "source": [
    "# Import libraries\n",
    "import numpy as np\n",
    "import os\n",
    "import pandas as pd\n",
    "import matplotlib.pyplot as plt\n",
    "import matplotlib.patches as patches\n",
    "import matplotlib.path as path\n",
    "\n",
    "# Make pandas dataframes prettier\n",
    "from IPython.display import display, HTML\n",
    "\n",
    "# Access data using Google BigQuery.\n",
    "from google.colab import auth\n",
    "from google.cloud import bigquery"
   ]
  },
  {
   "cell_type": "code",
   "execution_count": 0,
   "metadata": {
    "colab": {},
    "colab_type": "code",
    "id": "TE4JYS8aO-69"
   },
   "outputs": [],
   "source": [
    "# authenticate\n",
    "auth.authenticate_user()"
   ]
  },
  {
   "cell_type": "code",
   "execution_count": 0,
   "metadata": {
    "colab": {},
    "colab_type": "code",
    "id": "oVavf-ujPOAv"
   },
   "outputs": [],
   "source": [
    "# Set up environment variables\n",
    "project_id='bidmc-datathon'\n",
    "os.environ[\"GOOGLE_CLOUD_PROJECT\"]=project_id"
   ]
  },
  {
   "cell_type": "markdown",
   "metadata": {
    "colab_type": "text",
    "id": "a1CAI3GjQYE0"
   },
   "source": [
    "## Selecting a single patient stay¶\n",
    "\n",
    "As we have seen, the patient table includes general information about the patient admissions (for example, demographics, admission and discharge details). See: http://eicu-crd.mit.edu/eicutables/patient/\n",
    "\n",
    "## Questions\n",
    "\n",
    "Use your knowledge from the previous notebook and the online documentation (http://eicu-crd.mit.edu/) to answer the following questions:\n",
    "\n",
    "- Which column in the patient table is distinct for each stay in the ICU (similar to `icustay_id` in MIMIC-III)?\n",
    "- Which column is unique for each patient (similar to `subject_id` in MIMIC-III)?"
   ]
  },
  {
   "cell_type": "code",
   "execution_count": 0,
   "metadata": {
    "colab": {},
    "colab_type": "code",
    "id": "R6huFICkSQAd"
   },
   "outputs": [],
   "source": [
    "# view distinct ids\n",
    "%%bigquery\n",
    "\n",
    "SELECT DISTINCT(patientunitstayid)\n",
    "FROM `physionet-data.eicu_crd_demo.patient`"
   ]
  },
  {
   "cell_type": "code",
   "execution_count": 0,
   "metadata": {
    "colab": {},
    "colab_type": "code",
    "id": "yEBIFRBqRo4y"
   },
   "outputs": [],
   "source": [
    "# set the where clause to select the stay of interest\n",
    "%%bigquery patient\n",
    "\n",
    "SELECT *\n",
    "FROM `physionet-data.eicu_crd_demo.patient`\n",
    "WHERE patientunitstayid = <your_id_here>"
   ]
  },
  {
   "cell_type": "code",
   "execution_count": 0,
   "metadata": {
    "colab": {},
    "colab_type": "code",
    "id": "LjIL2XR6TAyp"
   },
   "outputs": [],
   "source": [
    "patient"
   ]
  },
  {
   "cell_type": "markdown",
   "metadata": {
    "colab_type": "text",
    "id": "QSbKYqF0TQ1n"
   },
   "source": [
    "## Questions\n",
    "\n",
    "- Which type of unit was the patient admitted to? Hint: Try `patient['unittype']` or `patient.unittype`\n",
    "- What year was the patient discharged from the ICU? Hint: You can view the table columns with `patient.columns`\n",
    "- What was the status of the patient upon discharge from the unit?"
   ]
  },
  {
   "cell_type": "markdown",
   "metadata": {
    "colab_type": "text",
    "id": "izaH0XwwUxDD"
   },
   "source": [
    "## The admissiondx table\n",
    "\n",
    "The `admissiondx` table contains the primary diagnosis for admission to the ICU according to the APACHE scoring criteria. For more detail, see: http://eicu-crd.mit.edu/eicutables/admissiondx/"
   ]
  },
  {
   "cell_type": "code",
   "execution_count": 0,
   "metadata": {
    "colab": {},
    "colab_type": "code",
    "id": "dlj3UCDTTEjj"
   },
   "outputs": [],
   "source": [
    "# set the where clause to select the stay of interest\n",
    "%%bigquery admissiondx\n",
    "\n",
    "SELECT *\n",
    "FROM `physionet-data.eicu_crd_demo.admissiondx`\n",
    "WHERE patientunitstayid = <your_id_here>"
   ]
  },
  {
   "cell_type": "code",
   "execution_count": 0,
   "metadata": {
    "colab": {},
    "colab_type": "code",
    "id": "3wdEHFLJVMKm"
   },
   "outputs": [],
   "source": [
    "# View the columns in this data\n",
    "admissiondx.columns"
   ]
  },
  {
   "cell_type": "code",
   "execution_count": 0,
   "metadata": {
    "colab": {},
    "colab_type": "code",
    "id": "tbOA44lAVNLr"
   },
   "outputs": [],
   "source": [
    "# View the data\n",
    "admissiondx.head()"
   ]
  },
  {
   "cell_type": "code",
   "execution_count": 0,
   "metadata": {
    "colab": {},
    "colab_type": "code",
    "id": "Hc0y4ueOVWOk"
   },
   "outputs": [],
   "source": [
    "# Set the display options to avoid truncating the text\n",
    "pd.set_option('display.max_colwidth', -1)\n",
    "admissiondx.admitdxpath"
   ]
  },
  {
   "cell_type": "markdown",
   "metadata": {
    "colab_type": "text",
    "id": "mSb_BrgvWDdD"
   },
   "source": [
    "## Questions\n",
    "\n",
    "- What was the primary reason for admission?\n",
    "- How soon after admission to the ICU was the diagnoses recorded in eCareManager? Hint: The `offset` columns indicate the time in minutes after admission to the ICU. "
   ]
  },
  {
   "cell_type": "markdown",
   "metadata": {
    "colab_type": "text",
    "id": "rd3Tw6_kWwlS"
   },
   "source": [
    "## The apacheapsvar table\n",
    "\n",
    "The apacheapsvar table contains the variables used to calculate the Acute Physiology Score (APS) III for patients. APS-III is an established method of summarizing patient severity of illness on admission to the ICU, taking the \"worst\" observations for a patient in a 24 hour period.\n",
    "\n",
    "The score is part of the Acute Physiology Age Chronic Health Evaluation (APACHE) system of equations for predicting outcomes for ICU patients. See: http://eicu-crd.mit.edu/eicutables/apacheApsVar/"
   ]
  },
  {
   "cell_type": "code",
   "execution_count": 0,
   "metadata": {
    "colab": {},
    "colab_type": "code",
    "id": "fXOzR5XWVdNa"
   },
   "outputs": [],
   "source": [
    "# set the where clause to select the stay of interest\n",
    "%%bigquery apacheapsvar\n",
    "\n",
    "SELECT *\n",
    "FROM `physionet-data.eicu_crd_demo.apacheapsvar`\n",
    "WHERE patientunitstayid =  <your_id_here>"
   ]
  },
  {
   "cell_type": "code",
   "execution_count": 0,
   "metadata": {
    "colab": {},
    "colab_type": "code",
    "id": "mL_lVORdXDIg"
   },
   "outputs": [],
   "source": [
    "apacheapsvar.head()"
   ]
  },
  {
   "cell_type": "markdown",
   "metadata": {
    "colab_type": "text",
    "id": "8x_Z8q4jXH7D"
   },
   "source": [
    "## Questions\n",
    "\n",
    "- What was the 'worst' heart rate recorded for the patient during the scoring period?\n",
    "- Was the patient oriented and able to converse normally on the day of admission? (hint: the verbal element refers to the Glasgow Coma Scale)."
   ]
  },
  {
   "cell_type": "markdown",
   "metadata": {
    "colab_type": "text",
    "id": "XplJvhIYX432"
   },
   "source": [
    "# apachepredvar table\n",
    "\n",
    "The apachepredvar table provides variables underlying the APACHE predictions. Acute Physiology Age Chronic Health Evaluation (APACHE) consists of a groups of equations used for predicting outcomes in critically ill patients. See: http://eicu-crd.mit.edu/eicutables/apachePredVar/"
   ]
  },
  {
   "cell_type": "code",
   "execution_count": 0,
   "metadata": {
    "colab": {},
    "colab_type": "code",
    "id": "iAIFESy9XFhC"
   },
   "outputs": [],
   "source": [
    "# set the where clause to select the stay of interest\n",
    "%%bigquery apachepredvar\n",
    "\n",
    "SELECT *\n",
    "FROM `physionet-data.eicu_crd_demo.apachepredvar`\n",
    "WHERE patientunitstayid = <your_id_here>"
   ]
  },
  {
   "cell_type": "code",
   "execution_count": 0,
   "metadata": {
    "colab": {},
    "colab_type": "code",
    "id": "LAu7G72cYEY1"
   },
   "outputs": [],
   "source": [
    "apachepredvar.columns"
   ]
  },
  {
   "cell_type": "markdown",
   "metadata": {
    "colab_type": "text",
    "id": "IEaS6L9OY0vJ"
   },
   "source": [
    "## Questions\n",
    "\n",
    "- Was the patient ventilated during (APACHE) day 1 of their stay?\n",
    "- Is the patient recorded as having diabetes?"
   ]
  },
  {
   "cell_type": "markdown",
   "metadata": {
    "colab_type": "text",
    "id": "nrTEkjxqZD2l"
   },
   "source": [
    "# `apachepatientresult` table\n",
    "\n",
    "The `apachepatientresult` table provides predictions made by the APACHE score (versions IV and IVa), including probability of mortality, length of stay, and ventilation days. See: http://eicu-crd.mit.edu/eicutables/apachePatientResult/"
   ]
  },
  {
   "cell_type": "code",
   "execution_count": 0,
   "metadata": {
    "colab": {},
    "colab_type": "code",
    "id": "M2RCJNBgZOJ2"
   },
   "outputs": [],
   "source": [
    "# set the where clause to select the stay of interest\n",
    "%%bigquery apachepatientresult\n",
    "\n",
    "SELECT *\n",
    "FROM `physionet-data.eicu_crd_demo.apachepatientresult`\n",
    "WHERE patientunitstayid = <your_id_here>"
   ]
  },
  {
   "cell_type": "code",
   "execution_count": 0,
   "metadata": {
    "colab": {},
    "colab_type": "code",
    "id": "4whVaOP1Za8f"
   },
   "outputs": [],
   "source": [
    "apachepatientresult"
   ]
  },
  {
   "cell_type": "markdown",
   "metadata": {
    "colab_type": "text",
    "id": "5YO_GQcNZUWR"
   },
   "source": [
    "## Questions\n",
    "\n",
    "- What versions of the APACHE score are computed?\n",
    "- How many days during the stay was the patient ventilated?\n",
    "- How long was the patient predicted to stay in hospital?\n",
    "- Was this prediction close to the truth?"
   ]
  }
 ],
 "metadata": {
  "colab": {
   "collapsed_sections": [],
   "include_colab_link": true,
   "name": "02-severity-of-illness",
   "provenance": [],
   "version": "0.3.2"
  },
  "kernelspec": {
   "display_name": "Python 3",
   "language": "python",
   "name": "python3"
  },
  "language_info": {
   "codemirror_mode": {
    "name": "ipython",
    "version": 3
   },
   "file_extension": ".py",
   "mimetype": "text/x-python",
   "name": "python",
   "nbconvert_exporter": "python",
   "pygments_lexer": "ipython3",
   "version": "3.7.4"
  }
 },
 "nbformat": 4,
 "nbformat_minor": 1
}
