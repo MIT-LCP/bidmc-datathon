{
 "cells": [
  {
   "cell_type": "markdown",
   "metadata": {
    "colab_type": "text",
    "id": "view-in-github"
   },
   "source": [
    "<a href=\"https://colab.research.google.com/github/MIT-LCP/bidmc-datathon/blob/master/06_aki_project.ipynb\" target=\"_parent\"><img src=\"https://colab.research.google.com/assets/colab-badge.svg\" alt=\"Open In Colab\"/></a>"
   ]
  },
  {
   "cell_type": "markdown",
   "metadata": {
    "colab_type": "text",
    "id": "7HXE-dGyLHYa"
   },
   "source": [
    "# eICU Collaborative Research Database\n",
    "\n",
    "# Notebook 6: An example project\n",
    "\n",
    "This notebook introduces a project focused on acute kidney injury, quantifying differences between patients with and without the condition."
   ]
  },
  {
   "cell_type": "markdown",
   "metadata": {
    "colab_type": "text",
    "id": "2hTYG_w4Lzfg"
   },
   "source": [
    "## Load libraries and connect to the database"
   ]
  },
  {
   "cell_type": "code",
   "execution_count": 0,
   "metadata": {
    "colab": {},
    "colab_type": "code",
    "id": "_Z_G2UCcLoii"
   },
   "outputs": [],
   "source": [
    "# Import libraries\n",
    "import numpy as np\n",
    "import os\n",
    "import pandas as pd\n",
    "import matplotlib.pyplot as plt\n",
    "import matplotlib.patches as patches\n",
    "import matplotlib.path as path\n",
    "\n",
    "# Make pandas dataframes prettier\n",
    "from IPython.display import display, HTML\n",
    "\n",
    "# Access data using Google BigQuery.\n",
    "from google.colab import auth\n",
    "from google.cloud import bigquery"
   ]
  },
  {
   "cell_type": "code",
   "execution_count": 0,
   "metadata": {
    "colab": {},
    "colab_type": "code",
    "id": "1f3Ahq0hL1xv"
   },
   "outputs": [],
   "source": [
    "# authenticate\n",
    "auth.authenticate_user()"
   ]
  },
  {
   "cell_type": "code",
   "execution_count": 0,
   "metadata": {
    "colab": {},
    "colab_type": "code",
    "id": "DbwAi_e2L3eO"
   },
   "outputs": [],
   "source": [
    "# Set up environment variables\n",
    "project_id='bidmc-datathon'\n",
    "os.environ[\"GOOGLE_CLOUD_PROJECT\"]=project_id"
   ]
  },
  {
   "cell_type": "markdown",
   "metadata": {
    "colab_type": "text",
    "id": "Pown2uTtL9kz"
   },
   "source": [
    "## Define the cohort\n",
    "\n",
    "Our first step is to define the patient population we are interested in. For this project, we'd like to identify those patients with any past history of renal failure and compare them with the remaining patients.\n",
    "\n",
    "First, we extract all patient unit stays from the patient table.\n"
   ]
  },
  {
   "cell_type": "code",
   "execution_count": 0,
   "metadata": {
    "colab": {},
    "colab_type": "code",
    "id": "Qa3TYl2PL7-i"
   },
   "outputs": [],
   "source": [
    "# Link the patient and apachepatientresult tables on patientunitstayid\n",
    "# using an inner join.\n",
    "%%bigquery patient\n",
    "\n",
    "SELECT *\n",
    "FROM `physionet-data.eicu_crd_demo.patient`"
   ]
  },
  {
   "cell_type": "markdown",
   "metadata": {
    "colab_type": "text",
    "id": "NiJ7V6QBMUuX"
   },
   "source": [
    "Now we investigate the pasthistory table, and look at all the mentions of past history which contain the phrase 'Renal  (R)' - note we use % as they are wildcard characters for SQL.\n",
    "\n"
   ]
  },
  {
   "cell_type": "code",
   "execution_count": null,
   "metadata": {},
   "outputs": [],
   "source": [
    "%%bigquery ph\n",
    "\n",
    "SELECT pasthistorypath, count(*) as n\n",
    "FROM `physionet-data.eicu_crd_demo.pasthistory`\n",
    "WHERE pasthistorypath LIKE '%Renal  (R)%'\n",
    "GROUP BY pasthistorypath\n",
    "ORDER BY n DESC;"
   ]
  },
  {
   "cell_type": "code",
   "execution_count": 0,
   "metadata": {
    "colab": {},
    "colab_type": "code",
    "id": "V4JrlnenMSJ-"
   },
   "outputs": [],
   "source": [
    "for row in ph.iterrows():\n",
    "    r = row[1]\n",
    "    print('{:3g} - {:20s}'.format(r['n'],r['pasthistorypath'][48:]))"
   ]
  },
  {
   "cell_type": "markdown",
   "metadata": {
    "colab_type": "text",
    "id": "oLA3lat9MirI"
   },
   "source": [
    "These all seem like reasonable surrogates for renal insufficiency (note: for a real clinical study, you'd want to be a lot more thorough!).\n",
    "\n"
   ]
  },
  {
   "cell_type": "code",
   "execution_count": 0,
   "metadata": {
    "colab": {},
    "colab_type": "code",
    "id": "fygnwv0OMfZg"
   },
   "outputs": [],
   "source": [
    "# identify patients with insufficiency\n",
    "%%bigquery df_have_crf\n",
    "\n",
    "SELECT DISTINCT patientunitstayid\n",
    "FROM `physionet-data.eicu_crd_demo.pasthistory`\n",
    "WHERE pasthistorypath LIKE '%Renal  (R)%'"
   ]
  },
  {
   "cell_type": "code",
   "execution_count": null,
   "metadata": {},
   "outputs": [],
   "source": [
    "df_have_crf['crf'] = 1"
   ]
  },
  {
   "cell_type": "code",
   "execution_count": 0,
   "metadata": {
    "colab": {},
    "colab_type": "code",
    "id": "JUZ60JVnMpFd"
   },
   "outputs": [],
   "source": [
    "# merge the data above into our original dataframe\n",
    "df = patient.merge(df_have_crf, \n",
    "                   how='left', \n",
    "                   left_on='patientunitstayid', \n",
    "                   right_on='patientunitstayid')\n",
    "\n",
    "df.head()"
   ]
  },
  {
   "cell_type": "code",
   "execution_count": 0,
   "metadata": {
    "colab": {},
    "colab_type": "code",
    "id": "idLXqNGrMvQF"
   },
   "outputs": [],
   "source": [
    "# impute 0s for the missing CRF values\n",
    "df.fillna(value=0,inplace=True)\n",
    "df.head()"
   ]
  },
  {
   "cell_type": "code",
   "execution_count": 0,
   "metadata": {
    "colab": {},
    "colab_type": "code",
    "id": "dRCZ1KoTM7uw"
   },
   "outputs": [],
   "source": [
    "# set patientunitstayid as the index - convenient for indexing later\n",
    "df.set_index('patientunitstayid',inplace=True)"
   ]
  },
  {
   "cell_type": "markdown",
   "metadata": {
    "colab_type": "text",
    "id": "GPDavuXVM_0G"
   },
   "source": [
    "## Load creatinine from lab table\n"
   ]
  },
  {
   "cell_type": "code",
   "execution_count": 0,
   "metadata": {
    "colab": {},
    "colab_type": "code",
    "id": "XGHj_sVJM96D"
   },
   "outputs": [],
   "source": [
    "%%bigquery lab\n",
    "\n",
    "SELECT patientunitstayid, labresult\n",
    "FROM `physionet-data.eicu_crd_demo.lab`\n",
    "WHERE labname = 'creatinine'"
   ]
  },
  {
   "cell_type": "code",
   "execution_count": null,
   "metadata": {},
   "outputs": [],
   "source": [
    "# set patientunitstayid as the index\n",
    "lab.set_index('patientunitstayid', inplace=True)"
   ]
  },
  {
   "cell_type": "code",
   "execution_count": 0,
   "metadata": {
    "colab": {},
    "colab_type": "code",
    "id": "swgESA5TNGiS"
   },
   "outputs": [],
   "source": [
    "# get first creatinine by grouping by the index (level=0)\n",
    "cr_first = lab.groupby(level=0).first()\n",
    "\n",
    "# similarly get maximum creatinine\n",
    "cr_max = lab.groupby(level=0).max()"
   ]
  },
  {
   "cell_type": "markdown",
   "metadata": {
    "colab_type": "text",
    "id": "PYEWT8IfNQry"
   },
   "source": [
    "## Plot distributions of creatinine in both groups\n"
   ]
  },
  {
   "cell_type": "code",
   "execution_count": 0,
   "metadata": {
    "colab": {},
    "colab_type": "code",
    "id": "5N4XEIbcNO9Q"
   },
   "outputs": [],
   "source": [
    "plt.figure(figsize=[10,6])\n",
    "\n",
    "xi = np.arange(0,10,0.1)\n",
    "\n",
    "# get patients who had CRF and plot a histogram\n",
    "idx = df.loc[df['crf']==1,:].index\n",
    "plt.hist( cr_first.loc[idx,'labresult'].dropna(), bins=xi, label='With CRF' )\n",
    "\n",
    "# get patients who did not have CRF\n",
    "idx = df.loc[df['crf']==0,:].index\n",
    "plt.hist( cr_first.loc[idx,'labresult'].dropna(), alpha=0.5, bins=xi, label='No CRF' )\n",
    "\n",
    "plt.legend()\n",
    "\n",
    "plt.show()"
   ]
  },
  {
   "cell_type": "markdown",
   "metadata": {
    "colab_type": "text",
    "id": "UFIOPs8TNYJV"
   },
   "source": [
    "While it appears that patients in the red group have higher creatinines, we have far more patients in the blue group (no CRF) than in the red group (have CRF). To alleviate this and allow a fairer comparison, we can normalize the histogram.\n",
    "\n"
   ]
  },
  {
   "cell_type": "code",
   "execution_count": 0,
   "metadata": {
    "colab": {},
    "colab_type": "code",
    "id": "5P3B_uUeNUiR"
   },
   "outputs": [],
   "source": [
    "plt.figure(figsize=[10,6])\n",
    "\n",
    "xi = np.arange(0,10,0.1)\n",
    "\n",
    "# get patients who had CRF and plot a histogram\n",
    "idx = df.loc[df['crf']==1,:].index\n",
    "plt.hist( cr_first.loc[idx,'labresult'].dropna(), bins=xi, normed=True,\n",
    "         label='With CRF' )\n",
    "\n",
    "# get patients who did not have CRF\n",
    "idx = df.loc[df['crf']==0,:].index\n",
    "plt.hist( cr_first.loc[idx,'labresult'].dropna(), alpha=0.5, bins=xi, normed=True,\n",
    "         label='No CRF' )\n",
    "\n",
    "plt.legend()\n",
    "\n",
    "plt.show()"
   ]
  },
  {
   "cell_type": "markdown",
   "metadata": {
    "colab_type": "text",
    "id": "oagJ1XQ8NcKg"
   },
   "source": [
    "Here we can very clearly see that the first creatinine measured is a lot higher for patients with some baseline kidney dysfunction when compared to those without. Let's try it with the highest value.\n",
    "\n"
   ]
  },
  {
   "cell_type": "code",
   "execution_count": 0,
   "metadata": {
    "colab": {},
    "colab_type": "code",
    "id": "-aBkodMGNZ_O"
   },
   "outputs": [],
   "source": [
    "plt.figure(figsize=[10,6])\n",
    "\n",
    "xi = np.arange(0,10,0.1)\n",
    "\n",
    "# get patients who had CRF and plot a histogram\n",
    "idx = df.loc[df['crf']==1,:].index\n",
    "plt.hist( cr_max.loc[idx,'labresult'].dropna(), bins=xi, normed=True,\n",
    "         label='With CRF' )\n",
    "\n",
    "# get patients who did not have CRF\n",
    "idx = df.loc[df['crf']==0,:].index\n",
    "plt.hist( cr_max.loc[idx,'labresult'].dropna(), alpha=0.5, bins=xi, normed=True,\n",
    "         label='No CRF' )\n",
    "\n",
    "plt.legend()\n",
    "\n",
    "plt.show()"
   ]
  },
  {
   "cell_type": "markdown",
   "metadata": {
    "colab_type": "text",
    "id": "F2upj7XaNf7b"
   },
   "source": [
    "Unsuprisingly, a very similar story!"
   ]
  }
 ],
 "metadata": {
  "colab": {
   "collapsed_sections": [],
   "include_colab_link": true,
   "name": "06-aki-project.ipynb",
   "provenance": [],
   "version": "0.3.2"
  },
  "kernelspec": {
   "display_name": "Python 3",
   "language": "python",
   "name": "python3"
  },
  "language_info": {
   "codemirror_mode": {
    "name": "ipython",
    "version": 3
   },
   "file_extension": ".py",
   "mimetype": "text/x-python",
   "name": "python",
   "nbconvert_exporter": "python",
   "pygments_lexer": "ipython3",
   "version": "3.7.4"
  }
 },
 "nbformat": 4,
 "nbformat_minor": 1
}
