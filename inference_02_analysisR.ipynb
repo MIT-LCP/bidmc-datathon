{
  "nbformat": 4,
  "nbformat_minor": 0,
  "metadata": {
    "colab": {
      "name": "inference_02_analysis2.ipynb",
      "provenance": [],
      "collapsed_sections": [],
      "toc_visible": true
    },
    "kernelspec": {
      "name": "ir",
      "display_name": "R"
    }
  },
  "cells": [
    {
      "cell_type": "markdown",
      "metadata": {
        "id": "PXqIHxPDk9KC",
        "colab_type": "text"
      },
      "source": [
        "# BIDMC Datathon Question #1\n",
        "# English vs. Non-English Speaker MIMIC-III Cohort\n",
        "\n",
        "# Notebook 2: Exploratory Analysis\n",
        "\n",
        "In this notebook, we want to walk you through some basic steps on how to analyze the cohort which we generated in the first notebook. This notebook is meant to simply introduce a few first steps towards performing an exploratory analysis of the data as you begin building models as performing inference in your teams.\n",
        "\n",
        "This notebook is just a quick introduction to analyzing the cohort in R. It's up to you and your team to decide what and how you want to analyze the data! \n",
        "\n",
        "This is where our paths diverge! Looking forward to seeing where we all end up in the next 3 hours."
      ]
    },
    {
      "cell_type": "markdown",
      "metadata": {
        "id": "XGoBGf3XGjIE",
        "colab_type": "text"
      },
      "source": [
        "# Setup"
      ]
    },
    {
      "cell_type": "markdown",
      "metadata": {
        "id": "Jq2Jm_3slPV4",
        "colab_type": "text"
      },
      "source": [
        "## Prerequisites\n",
        "\n",
        "- If you do not have a Gmail account, please create one at http://www.gmail.com. \n",
        "- If you have not yet signed the data use agreement (DUA) sent by the organizers, please do so now to get access to the dataset."
      ]
    },
    {
      "cell_type": "markdown",
      "metadata": {
        "id": "d5J2gJ1qk8rW",
        "colab_type": "text"
      },
      "source": [
        "## Load libraries\n",
        "\n",
        "Run the following cells to install and import some libraries."
      ]
    },
    {
      "cell_type": "code",
      "metadata": {
        "id": "yVlGPvPO25Nj",
        "colab_type": "code",
        "outputId": "acbe4005-4e3b-4be6-d123-874b949bcf34",
        "colab": {
          "base_uri": "https://localhost:8080/",
          "height": 310
        }
      },
      "source": [
        "install.packages(\"bigrquery\")\n",
        "install.packages(\"googledrive\")\n",
        "install.packages(\"R.utils\")\n",
        "install.packages(\"cowplot\")"
      ],
      "execution_count": 2,
      "outputs": [
        {
          "output_type": "stream",
          "text": [
            "Installing package into ‘/usr/local/lib/R/site-library’\n",
            "(as ‘lib’ is unspecified)\n",
            "\n",
            "also installing the dependencies ‘bit’, ‘bit64’, ‘gargle’, ‘rapidjsonr’\n",
            "\n",
            "\n",
            "Installing package into ‘/usr/local/lib/R/site-library’\n",
            "(as ‘lib’ is unspecified)\n",
            "\n",
            "Installing package into ‘/usr/local/lib/R/site-library’\n",
            "(as ‘lib’ is unspecified)\n",
            "\n",
            "also installing the dependencies ‘R.oo’, ‘R.methodsS3’\n",
            "\n",
            "\n",
            "Installing package into ‘/usr/local/lib/R/site-library’\n",
            "(as ‘lib’ is unspecified)\n",
            "\n"
          ],
          "name": "stderr"
        }
      ]
    },
    {
      "cell_type": "code",
      "metadata": {
        "id": "Z60PpIfIeF4Z",
        "colab_type": "code",
        "colab": {}
      },
      "source": [
        "suppressPackageStartupMessages({\n",
        "  library(tidyverse)   ## for easy DS in R\n",
        "  library(cowplot)     ## for plotting plots together\n",
        "  library(bigrquery)   ## for querying BigQuery\n",
        "  library(googledrive) ## for read/write Google Drive\n",
        "  library(httr)        ## for hacking bigrquery to run in Colab\n",
        "  library(R.utils)     ## \"\"\n",
        "  library(repr)        ## for modifying R plot dims in Colab\n",
        "})"
      ],
      "execution_count": 0,
      "outputs": []
    },
    {
      "cell_type": "markdown",
      "metadata": {
        "id": "rE6-FS4YQ1lx",
        "colab_type": "text"
      },
      "source": [
        "We also set a few global parameters for nicer plots."
      ]
    },
    {
      "cell_type": "code",
      "metadata": {
        "id": "QHu7Iol3Q2HH",
        "colab_type": "code",
        "colab": {}
      },
      "source": [
        "## specify default plot dimensions\n",
        "options(repr.plot.width=4, repr.plot.height=3, repr.plot.res = 300)\n",
        "\n",
        "## specify default ggplot2 theme\n",
        "theme_set(theme_bw())"
      ],
      "execution_count": 0,
      "outputs": []
    },
    {
      "cell_type": "markdown",
      "metadata": {
        "id": "t_rx37IQOD4N",
        "colab_type": "text"
      },
      "source": [
        "## Connect to Drive"
      ]
    },
    {
      "cell_type": "markdown",
      "metadata": {
        "id": "rG4rHtp7wHzd",
        "colab_type": "text"
      },
      "source": [
        "Connecting the Google Colab with Google Drive is relatively straightforward. First, we need to run the following hack to allow R access to Google Drive with the `googledrive` package from a Google Colab notebook."
      ]
    },
    {
      "cell_type": "code",
      "metadata": {
        "colab_type": "code",
        "id": "x16V6S-0TdwU",
        "colab": {}
      },
      "source": [
        "## source: https://github.com/r-lib/httr/pull/634\n",
        "reassignInPackage(\"is_interactive\", pkgName = \"httr\", function() {return(TRUE)})"
      ],
      "execution_count": 0,
      "outputs": []
    },
    {
      "cell_type": "markdown",
      "metadata": {
        "id": "az1VwBuqTz-D",
        "colab_type": "text"
      },
      "source": [
        "Next, authenticate your Google account by calling the following command. Follow the link and enter the authorization code in the dialog box."
      ]
    },
    {
      "cell_type": "code",
      "metadata": {
        "id": "hHbYv66VN_gJ",
        "colab_type": "code",
        "outputId": "b8468bc3-5bae-4208-d0d0-195a567939fa",
        "colab": {
          "base_uri": "https://localhost:8080/",
          "height": 118
        }
      },
      "source": [
        "drive_auth(use_oob = TRUE)"
      ],
      "execution_count": 10,
      "outputs": [
        {
          "output_type": "stream",
          "text": [
            "Please point your browser to the following url: \n",
            "\n",
            "https://accounts.google.com/o/oauth2/auth?client_id=603366585132-0l3n5tr582q443rnomebdeeo0156b2bc.apps.googleusercontent.com&scope=https%3A%2F%2Fwww.googleapis.com%2Fauth%2Fdrive%20https%3A%2F%2Fwww.googleapis.com%2Fauth%2Fuserinfo.email&redirect_uri=urn%3Aietf%3Awg%3Aoauth%3A2.0%3Aoob&response_type=code\n",
            "\n"
          ],
          "name": "stderr"
        },
        {
          "output_type": "stream",
          "text": [
            "Enter authorization code: 4/xAF2mwDEScNcMLyQeSOjpJAaD50tjjZLJe__irIav-kkn_A6FvG2Vfc\n"
          ],
          "name": "stdout"
        }
      ]
    },
    {
      "cell_type": "markdown",
      "metadata": {
        "id": "DCNm8vmqE86u",
        "colab_type": "text"
      },
      "source": [
        "# Load data"
      ]
    },
    {
      "cell_type": "markdown",
      "metadata": {
        "id": "w5MIJdbDE8sh",
        "colab_type": "text"
      },
      "source": [
        "We will now load the dataset from Google Drive. This CSV file should have been created by going through the first notebook in this workshop."
      ]
    },
    {
      "cell_type": "markdown",
      "metadata": {
        "id": "KmahunmDFkMJ",
        "colab_type": "text"
      },
      "source": [
        "## Download from Drive"
      ]
    },
    {
      "cell_type": "markdown",
      "metadata": {
        "id": "ge1mhWbwFpQV",
        "colab_type": "text"
      },
      "source": [
        "First, you can download the file from Google Drive using the `drive_download()` function."
      ]
    },
    {
      "cell_type": "code",
      "metadata": {
        "id": "OsP3T4ncOHc6",
        "colab_type": "code",
        "outputId": "622aa835-7fa7-4f0b-8064-890a63c8f63e",
        "colab": {
          "base_uri": "https://localhost:8080/",
          "height": 98
        }
      },
      "source": [
        "drive_download(\"dataset_datathon_28022020.csv\")"
      ],
      "execution_count": 11,
      "outputs": [
        {
          "output_type": "stream",
          "text": [
            "File downloaded:\n",
            "  * dataset_datathon_28022020.csv\n",
            "Saved locally as:\n",
            "  * dataset_datathon_28022020.csv\n",
            "\n"
          ],
          "name": "stderr"
        }
      ]
    },
    {
      "cell_type": "markdown",
      "metadata": {
        "id": "2BDdYwP5GAsz",
        "colab_type": "text"
      },
      "source": [
        "Verify that the file is now available on our path."
      ]
    },
    {
      "cell_type": "code",
      "metadata": {
        "id": "yhOOqrYBGA-Y",
        "colab_type": "code",
        "colab": {
          "base_uri": "https://localhost:8080/",
          "height": 33
        },
        "outputId": "6ddc4030-f371-449e-c4f3-75224169785a"
      },
      "source": [
        "file.exists(\"dataset_datathon_28022020.csv\")"
      ],
      "execution_count": 13,
      "outputs": [
        {
          "output_type": "display_data",
          "data": {
            "text/plain": [
              "[1] TRUE"
            ],
            "text/latex": "TRUE",
            "text/markdown": "TRUE",
            "text/html": [
              "TRUE"
            ]
          },
          "metadata": {
            "tags": []
          }
        }
      ]
    },
    {
      "cell_type": "markdown",
      "metadata": {
        "id": "sK_ZVphWFmsE",
        "colab_type": "text"
      },
      "source": [
        "## Read from File"
      ]
    },
    {
      "cell_type": "markdown",
      "metadata": {
        "id": "NbPam2Q6FfOv",
        "colab_type": "text"
      },
      "source": [
        "Now that we have the CSV file downloaded, we can read the dataset into our Colab."
      ]
    },
    {
      "cell_type": "code",
      "metadata": {
        "id": "JFeN2d_hFe29",
        "colab_type": "code",
        "colab": {
          "base_uri": "https://localhost:8080/",
          "height": 326
        },
        "outputId": "0bd26d08-5d76-4d23-b463-e28dc25d0763"
      },
      "source": [
        "cohort <- read_csv(\"dataset_datathon_28022020.csv\")"
      ],
      "execution_count": 14,
      "outputs": [
        {
          "output_type": "stream",
          "text": [
            "Parsed with column specification:\n",
            "cols(\n",
            "  .default = col_double(),\n",
            "  ethnicity = \u001b[31mcol_character()\u001b[39m,\n",
            "  marital_status = \u001b[31mcol_character()\u001b[39m,\n",
            "  religion = \u001b[31mcol_character()\u001b[39m,\n",
            "  insurance = \u001b[31mcol_character()\u001b[39m,\n",
            "  diagnosis = \u001b[31mcol_character()\u001b[39m,\n",
            "  admission_type = \u001b[31mcol_character()\u001b[39m,\n",
            "  admission_location = \u001b[31mcol_character()\u001b[39m,\n",
            "  hosp_admittime = \u001b[34mcol_datetime(format = \"\")\u001b[39m,\n",
            "  hosp_dischtime = \u001b[34mcol_datetime(format = \"\")\u001b[39m,\n",
            "  first_careunit = \u001b[31mcol_character()\u001b[39m,\n",
            "  icu_intime = \u001b[34mcol_datetime(format = \"\")\u001b[39m,\n",
            "  icu_outtime = \u001b[34mcol_datetime(format = \"\")\u001b[39m\n",
            ")\n",
            "\n",
            "See spec(...) for full column specifications.\n",
            "\n"
          ],
          "name": "stderr"
        }
      ]
    },
    {
      "cell_type": "markdown",
      "metadata": {
        "id": "V_4pEnzjG3va",
        "colab_type": "text"
      },
      "source": [
        "# Exploratory analysis"
      ]
    },
    {
      "cell_type": "markdown",
      "metadata": {
        "id": "9s8fJWb8G7Ve",
        "colab_type": "text"
      },
      "source": [
        "The first step in any data analysis should be **exploratory analysis** of the dataset. When performing an exploratory analysis, you should be checking high-level distributions of various covariates, marginal associations, and on the look out for potential messy data issues. \n",
        "\n",
        "We can start by just taking a look at the first few rows in the table."
      ]
    },
    {
      "cell_type": "code",
      "metadata": {
        "id": "9KFjZNAMOgMt",
        "colab_type": "code",
        "outputId": "892584d8-90c4-423a-b20e-55b1f5158281",
        "colab": {
          "base_uri": "https://localhost:8080/",
          "height": 243
        }
      },
      "source": [
        "head(cohort)"
      ],
      "execution_count": 15,
      "outputs": [
        {
          "output_type": "display_data",
          "data": {
            "text/plain": [
              "  subject_id hadm_id icustay_id english age  male ethnicity             \n",
              "1 109        189332  287547     1       25.1 0    BLACK/AFRICAN AMERICAN\n",
              "2 111        155897  249202     1       69.0 0    WHITE                 \n",
              "3 124        138376  256064     1       75.1 1    WHITE                 \n",
              "4 188        132401  246866     1       56.6 1    WHITE                 \n",
              "5 305        194340  217232     0       76.9 0    WHITE                 \n",
              "6 502        116367  209737     1       50.5 1    WHITE                 \n",
              "  marital_status religion          insurance ⋯ drug_abuse.y psychoses.y\n",
              "1 SINGLE         NOT SPECIFIED     Medicaid  ⋯ 0            0          \n",
              "2 MARRIED        PROTESTANT QUAKER Medicare  ⋯ 0            0          \n",
              "3 MARRIED        CATHOLIC          Medicare  ⋯ 0            0          \n",
              "4 MARRIED        CATHOLIC          Private   ⋯ 0            0          \n",
              "5 MARRIED        CATHOLIC          Medicare  ⋯ 0            0          \n",
              "6 MARRIED        PROTESTANT QUAKER Private   ⋯ 1            0          \n",
              "  depression.y elixhauser_vanwalraven.y elixhauser_sid29.y elixhauser_sid30.y\n",
              "1 0            28                       40                 46                \n",
              "2 0            18                       29                 33                \n",
              "3 0            21                       25                 35                \n",
              "4 0            24                       27                 35                \n",
              "5 0            23                       31                 37                \n",
              "6 0            13                       20                 19                \n",
              "  sepsis_3 sofa mechvent_event mechvent_free_days\n",
              "1 0        NA   0                     NA         \n",
              "2 0        NA   1              0.1850810         \n",
              "3 0        NA   1              2.2355208         \n",
              "4 0        NA   1              1.5448032         \n",
              "5 1         6   0                     NA         \n",
              "6 1        11   1              0.1132639         "
            ],
            "text/latex": "A tibble: 6 × 166\n\\begin{tabular}{lllllllllllllllllllll}\n subject\\_id & hadm\\_id & icustay\\_id & english & age & male & ethnicity & marital\\_status & religion & insurance & ⋯ & drug\\_abuse.y & psychoses.y & depression.y & elixhauser\\_vanwalraven.y & elixhauser\\_sid29.y & elixhauser\\_sid30.y & sepsis\\_3 & sofa & mechvent\\_event & mechvent\\_free\\_days\\\\\n <dbl> & <dbl> & <dbl> & <dbl> & <dbl> & <dbl> & <chr> & <chr> & <chr> & <chr> & ⋯ & <dbl> & <dbl> & <dbl> & <dbl> & <dbl> & <dbl> & <dbl> & <dbl> & <dbl> & <dbl>\\\\\n\\hline\n\t 109 & 189332 & 287547 & 1 & 25.1 & 0 & BLACK/AFRICAN AMERICAN & SINGLE  & NOT SPECIFIED     & Medicaid & ⋯ & 0 & 0 & 0 & 28 & 40 & 46 & 0 & NA & 0 &        NA\\\\\n\t 111 & 155897 & 249202 & 1 & 69.0 & 0 & WHITE                  & MARRIED & PROTESTANT QUAKER & Medicare & ⋯ & 0 & 0 & 0 & 18 & 29 & 33 & 0 & NA & 1 & 0.1850810\\\\\n\t 124 & 138376 & 256064 & 1 & 75.1 & 1 & WHITE                  & MARRIED & CATHOLIC          & Medicare & ⋯ & 0 & 0 & 0 & 21 & 25 & 35 & 0 & NA & 1 & 2.2355208\\\\\n\t 188 & 132401 & 246866 & 1 & 56.6 & 1 & WHITE                  & MARRIED & CATHOLIC          & Private  & ⋯ & 0 & 0 & 0 & 24 & 27 & 35 & 0 & NA & 1 & 1.5448032\\\\\n\t 305 & 194340 & 217232 & 0 & 76.9 & 0 & WHITE                  & MARRIED & CATHOLIC          & Medicare & ⋯ & 0 & 0 & 0 & 23 & 31 & 37 & 1 &  6 & 0 &        NA\\\\\n\t 502 & 116367 & 209737 & 1 & 50.5 & 1 & WHITE                  & MARRIED & PROTESTANT QUAKER & Private  & ⋯ & 1 & 0 & 0 & 13 & 20 & 19 & 1 & 11 & 1 & 0.1132639\\\\\n\\end{tabular}\n",
            "text/markdown": "\nA tibble: 6 × 166\n\n| subject_id &lt;dbl&gt; | hadm_id &lt;dbl&gt; | icustay_id &lt;dbl&gt; | english &lt;dbl&gt; | age &lt;dbl&gt; | male &lt;dbl&gt; | ethnicity &lt;chr&gt; | marital_status &lt;chr&gt; | religion &lt;chr&gt; | insurance &lt;chr&gt; | ⋯ ⋯ | drug_abuse.y &lt;dbl&gt; | psychoses.y &lt;dbl&gt; | depression.y &lt;dbl&gt; | elixhauser_vanwalraven.y &lt;dbl&gt; | elixhauser_sid29.y &lt;dbl&gt; | elixhauser_sid30.y &lt;dbl&gt; | sepsis_3 &lt;dbl&gt; | sofa &lt;dbl&gt; | mechvent_event &lt;dbl&gt; | mechvent_free_days &lt;dbl&gt; |\n|---|---|---|---|---|---|---|---|---|---|---|---|---|---|---|---|---|---|---|---|---|\n| 109 | 189332 | 287547 | 1 | 25.1 | 0 | BLACK/AFRICAN AMERICAN | SINGLE  | NOT SPECIFIED     | Medicaid | ⋯ | 0 | 0 | 0 | 28 | 40 | 46 | 0 | NA | 0 |        NA |\n| 111 | 155897 | 249202 | 1 | 69.0 | 0 | WHITE                  | MARRIED | PROTESTANT QUAKER | Medicare | ⋯ | 0 | 0 | 0 | 18 | 29 | 33 | 0 | NA | 1 | 0.1850810 |\n| 124 | 138376 | 256064 | 1 | 75.1 | 1 | WHITE                  | MARRIED | CATHOLIC          | Medicare | ⋯ | 0 | 0 | 0 | 21 | 25 | 35 | 0 | NA | 1 | 2.2355208 |\n| 188 | 132401 | 246866 | 1 | 56.6 | 1 | WHITE                  | MARRIED | CATHOLIC          | Private  | ⋯ | 0 | 0 | 0 | 24 | 27 | 35 | 0 | NA | 1 | 1.5448032 |\n| 305 | 194340 | 217232 | 0 | 76.9 | 0 | WHITE                  | MARRIED | CATHOLIC          | Medicare | ⋯ | 0 | 0 | 0 | 23 | 31 | 37 | 1 |  6 | 0 |        NA |\n| 502 | 116367 | 209737 | 1 | 50.5 | 1 | WHITE                  | MARRIED | PROTESTANT QUAKER | Private  | ⋯ | 1 | 0 | 0 | 13 | 20 | 19 | 1 | 11 | 1 | 0.1132639 |\n\n",
            "text/html": [
              "<table>\n",
              "<caption>A tibble: 6 × 166</caption>\n",
              "<thead>\n",
              "\t<tr><th scope=col>subject_id</th><th scope=col>hadm_id</th><th scope=col>icustay_id</th><th scope=col>english</th><th scope=col>age</th><th scope=col>male</th><th scope=col>ethnicity</th><th scope=col>marital_status</th><th scope=col>religion</th><th scope=col>insurance</th><th scope=col>⋯</th><th scope=col>drug_abuse.y</th><th scope=col>psychoses.y</th><th scope=col>depression.y</th><th scope=col>elixhauser_vanwalraven.y</th><th scope=col>elixhauser_sid29.y</th><th scope=col>elixhauser_sid30.y</th><th scope=col>sepsis_3</th><th scope=col>sofa</th><th scope=col>mechvent_event</th><th scope=col>mechvent_free_days</th></tr>\n",
              "\t<tr><th scope=col>&lt;dbl&gt;</th><th scope=col>&lt;dbl&gt;</th><th scope=col>&lt;dbl&gt;</th><th scope=col>&lt;dbl&gt;</th><th scope=col>&lt;dbl&gt;</th><th scope=col>&lt;dbl&gt;</th><th scope=col>&lt;chr&gt;</th><th scope=col>&lt;chr&gt;</th><th scope=col>&lt;chr&gt;</th><th scope=col>&lt;chr&gt;</th><th scope=col>⋯</th><th scope=col>&lt;dbl&gt;</th><th scope=col>&lt;dbl&gt;</th><th scope=col>&lt;dbl&gt;</th><th scope=col>&lt;dbl&gt;</th><th scope=col>&lt;dbl&gt;</th><th scope=col>&lt;dbl&gt;</th><th scope=col>&lt;dbl&gt;</th><th scope=col>&lt;dbl&gt;</th><th scope=col>&lt;dbl&gt;</th><th scope=col>&lt;dbl&gt;</th></tr>\n",
              "</thead>\n",
              "<tbody>\n",
              "\t<tr><td>109</td><td>189332</td><td>287547</td><td>1</td><td>25.1</td><td>0</td><td>BLACK/AFRICAN AMERICAN</td><td>SINGLE </td><td>NOT SPECIFIED    </td><td>Medicaid</td><td>⋯</td><td>0</td><td>0</td><td>0</td><td>28</td><td>40</td><td>46</td><td>0</td><td>NA</td><td>0</td><td>       NA</td></tr>\n",
              "\t<tr><td>111</td><td>155897</td><td>249202</td><td>1</td><td>69.0</td><td>0</td><td>WHITE                 </td><td>MARRIED</td><td>PROTESTANT QUAKER</td><td>Medicare</td><td>⋯</td><td>0</td><td>0</td><td>0</td><td>18</td><td>29</td><td>33</td><td>0</td><td>NA</td><td>1</td><td>0.1850810</td></tr>\n",
              "\t<tr><td>124</td><td>138376</td><td>256064</td><td>1</td><td>75.1</td><td>1</td><td>WHITE                 </td><td>MARRIED</td><td>CATHOLIC         </td><td>Medicare</td><td>⋯</td><td>0</td><td>0</td><td>0</td><td>21</td><td>25</td><td>35</td><td>0</td><td>NA</td><td>1</td><td>2.2355208</td></tr>\n",
              "\t<tr><td>188</td><td>132401</td><td>246866</td><td>1</td><td>56.6</td><td>1</td><td>WHITE                 </td><td>MARRIED</td><td>CATHOLIC         </td><td>Private </td><td>⋯</td><td>0</td><td>0</td><td>0</td><td>24</td><td>27</td><td>35</td><td>0</td><td>NA</td><td>1</td><td>1.5448032</td></tr>\n",
              "\t<tr><td>305</td><td>194340</td><td>217232</td><td>0</td><td>76.9</td><td>0</td><td>WHITE                 </td><td>MARRIED</td><td>CATHOLIC         </td><td>Medicare</td><td>⋯</td><td>0</td><td>0</td><td>0</td><td>23</td><td>31</td><td>37</td><td>1</td><td> 6</td><td>0</td><td>       NA</td></tr>\n",
              "\t<tr><td>502</td><td>116367</td><td>209737</td><td>1</td><td>50.5</td><td>1</td><td>WHITE                 </td><td>MARRIED</td><td>PROTESTANT QUAKER</td><td>Private </td><td>⋯</td><td>1</td><td>0</td><td>0</td><td>13</td><td>20</td><td>19</td><td>1</td><td>11</td><td>1</td><td>0.1132639</td></tr>\n",
              "</tbody>\n",
              "</table>\n"
            ]
          },
          "metadata": {
            "tags": []
          }
        }
      ]
    },
    {
      "cell_type": "markdown",
      "metadata": {
        "id": "HDQYIZ83MJhg",
        "colab_type": "text"
      },
      "source": [
        "Let's take a quick look at some of the primary columns in our dataset."
      ]
    },
    {
      "cell_type": "markdown",
      "metadata": {
        "id": "1f1jijtHOZSd",
        "colab_type": "text"
      },
      "source": [
        "## Language"
      ]
    },
    {
      "cell_type": "markdown",
      "metadata": {
        "id": "J0JQRcwMOer1",
        "colab_type": "text"
      },
      "source": [
        "We should start to analyze our cohort and find out if there is a significant relationship between end-of-life treatment between English and non-English speaking patients.\n",
        "\n",
        "Let's start by just taking a look at how many of the patients in our cohort were labeled as English speakers."
      ]
    },
    {
      "cell_type": "code",
      "metadata": {
        "id": "-sh0nFgtG5i-",
        "colab_type": "code",
        "outputId": "8803fd6c-5f38-496a-eaa0-88d14075a09f",
        "colab": {
          "base_uri": "https://localhost:8080/",
          "height": 317
        }
      },
      "source": [
        "options(repr.plot.width = 4, repr.plot.height = 2)\n",
        "cohort %>%\n",
        "    ggplot(aes(x = factor(english))) + \n",
        "    geom_bar(color = 'black') + \n",
        "    coord_flip() + \n",
        "    xlab(\"English language\") + \n",
        "    ylab(\"hospital admissions\") + \n",
        "    ggtitle(\"Language across cohort\")"
      ],
      "execution_count": 0,
      "outputs": [
        {
          "output_type": "display_data",
          "data": {
            "image/png": "[encoded data removed]",
            "text/plain": [
              "plot without title"
            ]
          },
          "metadata": {
            "tags": [],
            "image/png": {
              "width": 600,
              "height": 300
            },
            "text/plain": {
              "width": 600,
              "height": 300
            }
          }
        }
      ]
    },
    {
      "cell_type": "markdown",
      "metadata": {
        "id": "qTwrbbFqO1E7",
        "colab_type": "text"
      },
      "source": [
        "It looks like most patients in our cohort spoke English.\n",
        "\n",
        "We can take a look at how different covariates or outcomes break down between the two groups. Below, we start by taking a look at the ventilation features in our table. After taking a look at this code, consider looking at other columns in our table."
      ]
    },
    {
      "cell_type": "markdown",
      "metadata": {
        "id": "GASU6FOjSZn9",
        "colab_type": "text"
      },
      "source": [
        "## Ventilation"
      ]
    },
    {
      "cell_type": "markdown",
      "metadata": {
        "id": "VbAGaXBkScLg",
        "colab_type": "text"
      },
      "source": [
        "Let's take a look at some of the ventilation characteristics across patients."
      ]
    },
    {
      "cell_type": "markdown",
      "metadata": {
        "id": "oPibaSQKTX5j",
        "colab_type": "text"
      },
      "source": [
        "Let's see how many patients were on ventilation during their admission."
      ]
    },
    {
      "cell_type": "code",
      "metadata": {
        "id": "hUcl2gLzPPBt",
        "colab_type": "code",
        "colab": {
          "base_uri": "https://localhost:8080/",
          "height": 105
        },
        "outputId": "5002dc65-1464-49ea-af1b-2859770bccc9"
      },
      "source": [
        "cohort %>%\n",
        "    dplyr::count(mechvent_event) %>%\n",
        "    dplyr::mutate(p = round(n / sum(n), 4))"
      ],
      "execution_count": 18,
      "outputs": [
        {
          "output_type": "display_data",
          "data": {
            "text/plain": [
              "  mechvent_event n    p     \n",
              "1 0               709 0.3103\n",
              "2 1              1576 0.6897"
            ],
            "text/latex": "A tibble: 2 × 3\n\\begin{tabular}{lll}\n mechvent\\_event & n & p\\\\\n <dbl> & <int> & <dbl>\\\\\n\\hline\n\t 0 &  709 & 0.3103\\\\\n\t 1 & 1576 & 0.6897\\\\\n\\end{tabular}\n",
            "text/markdown": "\nA tibble: 2 × 3\n\n| mechvent_event &lt;dbl&gt; | n &lt;int&gt; | p &lt;dbl&gt; |\n|---|---|---|\n| 0 |  709 | 0.3103 |\n| 1 | 1576 | 0.6897 |\n\n",
            "text/html": [
              "<table>\n",
              "<caption>A tibble: 2 × 3</caption>\n",
              "<thead>\n",
              "\t<tr><th scope=col>mechvent_event</th><th scope=col>n</th><th scope=col>p</th></tr>\n",
              "\t<tr><th scope=col>&lt;dbl&gt;</th><th scope=col>&lt;int&gt;</th><th scope=col>&lt;dbl&gt;</th></tr>\n",
              "</thead>\n",
              "<tbody>\n",
              "\t<tr><td>0</td><td> 709</td><td>0.3103</td></tr>\n",
              "\t<tr><td>1</td><td>1576</td><td>0.6897</td></tr>\n",
              "</tbody>\n",
              "</table>\n"
            ]
          },
          "metadata": {
            "tags": []
          }
        }
      ]
    },
    {
      "cell_type": "markdown",
      "metadata": {
        "id": "Wnkya2l2PPTz",
        "colab_type": "text"
      },
      "source": [
        "It looks like most patients (almost 70%) were on ventilation.\n",
        "\n",
        "How do things look if we stratify by patient language?"
      ]
    },
    {
      "cell_type": "code",
      "metadata": {
        "id": "lO6W40FkTXW1",
        "colab_type": "code",
        "outputId": "11425518-559f-49be-e263-2da50581c0d8",
        "colab": {
          "base_uri": "https://localhost:8080/",
          "height": 140
        }
      },
      "source": [
        "cohort %>%\n",
        "    dplyr::count(english, mechvent_event) %>%\n",
        "    dplyr::group_by(english) %>%\n",
        "    dplyr::mutate(p = round(n / sum(n), 4))"
      ],
      "execution_count": 19,
      "outputs": [
        {
          "output_type": "display_data",
          "data": {
            "text/plain": [
              "  english mechvent_event n    p     \n",
              "1 0       0                89 0.3410\n",
              "2 0       1               172 0.6590\n",
              "3 1       0               620 0.3063\n",
              "4 1       1              1404 0.6937"
            ],
            "text/latex": "A grouped\\_df: 4 × 4\n\\begin{tabular}{llll}\n english & mechvent\\_event & n & p\\\\\n <dbl> & <dbl> & <int> & <dbl>\\\\\n\\hline\n\t 0 & 0 &   89 & 0.3410\\\\\n\t 0 & 1 &  172 & 0.6590\\\\\n\t 1 & 0 &  620 & 0.3063\\\\\n\t 1 & 1 & 1404 & 0.6937\\\\\n\\end{tabular}\n",
            "text/markdown": "\nA grouped_df: 4 × 4\n\n| english &lt;dbl&gt; | mechvent_event &lt;dbl&gt; | n &lt;int&gt; | p &lt;dbl&gt; |\n|---|---|---|---|\n| 0 | 0 |   89 | 0.3410 |\n| 0 | 1 |  172 | 0.6590 |\n| 1 | 0 |  620 | 0.3063 |\n| 1 | 1 | 1404 | 0.6937 |\n\n",
            "text/html": [
              "<table>\n",
              "<caption>A grouped_df: 4 × 4</caption>\n",
              "<thead>\n",
              "\t<tr><th scope=col>english</th><th scope=col>mechvent_event</th><th scope=col>n</th><th scope=col>p</th></tr>\n",
              "\t<tr><th scope=col>&lt;dbl&gt;</th><th scope=col>&lt;dbl&gt;</th><th scope=col>&lt;int&gt;</th><th scope=col>&lt;dbl&gt;</th></tr>\n",
              "</thead>\n",
              "<tbody>\n",
              "\t<tr><td>0</td><td>0</td><td>  89</td><td>0.3410</td></tr>\n",
              "\t<tr><td>0</td><td>1</td><td> 172</td><td>0.6590</td></tr>\n",
              "\t<tr><td>1</td><td>0</td><td> 620</td><td>0.3063</td></tr>\n",
              "\t<tr><td>1</td><td>1</td><td>1404</td><td>0.6937</td></tr>\n",
              "</tbody>\n",
              "</table>\n"
            ]
          },
          "metadata": {
            "tags": []
          }
        }
      ]
    },
    {
      "cell_type": "markdown",
      "metadata": {
        "id": "avFt0KrIT6NW",
        "colab_type": "text"
      },
      "source": [
        "Interesting!\n",
        "\n",
        "It looks like there were proportionally fewer patients on mechanical ventilation in the non-english speaking subset of the cohort. \n",
        "\n",
        "We can also plot this to see it visually. Since the total number of patients in the english and non-english speaking cohorts is fairly different, we will plot the proportions."
      ]
    },
    {
      "cell_type": "code",
      "metadata": {
        "id": "zl7MwFMRUSVv",
        "colab_type": "code",
        "outputId": "11b65e20-dbe9-4b35-a7eb-14c46fd4eeaa",
        "colab": {
          "base_uri": "https://localhost:8080/",
          "height": 317
        }
      },
      "source": [
        "options(repr.plot.width = 4, repr.plot.height = 2)\n",
        "cohort %>%\n",
        "    ggplot(aes(x = factor(english), \n",
        "               fill = factor(mechvent_event))) + \n",
        "    geom_bar(position = \"fill\", color = 'black') + \n",
        "    coord_flip() + \n",
        "    xlab(\"English language\") + \n",
        "    scale_y_continuous(\"precent of patients\",  labels = scales::percent,\n",
        "                       expand = c(0, 0)) +\n",
        "    scale_fill_brewer(\"Mech\\nventilation\", palette = \"Pastel1\") + \n",
        "    ggtitle(\"Cohort proportion on ventilation\")"
      ],
      "execution_count": 0,
      "outputs": [
        {
          "output_type": "display_data",
          "data": {
            "image/png": "[encoded data removed]",
            "text/plain": [
              "plot without title"
            ]
          },
          "metadata": {
            "tags": [],
            "image/png": {
              "width": 600,
              "height": 300
            },
            "text/plain": {
              "width": 600,
              "height": 300
            }
          }
        }
      ]
    },
    {
      "cell_type": "markdown",
      "metadata": {
        "colab_type": "text",
        "id": "XyYJFWtWPtGj"
      },
      "source": [
        "We see a slight different between the populations. However, this **may be due to confounding** or **imbalance in other characteristics** of the populations.\n",
        "\n",
        "What other features in the table should we take a look at? Which do you think are most important?"
      ]
    },
    {
      "cell_type": "markdown",
      "metadata": {
        "id": "_V8WFV3GROVk",
        "colab_type": "text"
      },
      "source": [
        "# Creating a \"Table 1\"\n",
        "\n",
        "In reports or papers for clinical trials or retrospective data studies, you'll often find a cohort summary table presented as _Table 1_. Table 1 describes the cohort's characteristics, such as age, sex, and ethnicity, stratified by the exposure under investigation. Often, the exposure groups are shown as two columns in the table (e.g. group A and group B). Creating these tables can be fairly tedious, especially when the list of potentially confounding covariates is long.\n",
        "\n",
        "The good news: there are plenty of packages for generating these tables automatically (in both Python _and_ R), so you only need to reshape your dataset, handle missing data (depending on the package) and call the corresponding functions in the respective Python and R libraries.\n",
        "\n",
        "The following 2 are examples of packages that can be used to generate a \"Table 1\" in Python and R:\n",
        "\n",
        "- Python: [Table One](https://pypi.org/project/tableone/)\n",
        "- R: [Table One](https://cran.r-project.org/web/packages/tableone/vignettes/introduction.html)\n",
        "\n",
        "In this section of the notebook, consider generating a \"Table 1\", analyze the results and include it in your final presentation. To do this, however, you first need to define the stratifying exposure or variable (e.g. English vs. non-English speaking) and define the set of covariates (rows) you want to display. \n",
        "\n",
        "Keep these things in mind while performing your analysis and consider creating Table 1 and performing exploratory analysis extensively *early on*!"
      ]
    },
    {
      "cell_type": "code",
      "metadata": {
        "id": "UuXH8qqLRPOg",
        "colab_type": "code",
        "colab": {}
      },
      "source": [
        ""
      ],
      "execution_count": 0,
      "outputs": []
    }
  ]
}